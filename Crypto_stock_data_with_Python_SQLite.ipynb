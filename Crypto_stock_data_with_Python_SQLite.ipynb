{
  "nbformat": 4,
  "nbformat_minor": 0,
  "metadata": {
    "colab": {
      "provenance": [],
      "authorship_tag": "ABX9TyPUOGS95MaohJy2fnbhSVip",
      "include_colab_link": true
    },
    "kernelspec": {
      "name": "python3",
      "display_name": "Python 3"
    },
    "language_info": {
      "name": "python"
    }
  },
  "cells": [
    {
      "cell_type": "markdown",
      "metadata": {
        "id": "view-in-github",
        "colab_type": "text"
      },
      "source": [
        "<a href=\"https://colab.research.google.com/github/SparkyGoLarky/SparkyGoLarky/blob/main/Crypto_stock_data_with_Python_SQLite.ipynb\" target=\"_parent\"><img src=\"https://colab.research.google.com/assets/colab-badge.svg\" alt=\"Open In Colab\"/></a>"
      ]
    },
    {
      "cell_type": "code",
      "execution_count": 1,
      "metadata": {
        "colab": {
          "base_uri": "https://localhost:8080/",
          "height": 206
        },
        "id": "gxBHCKLYahfj",
        "outputId": "12d8dc4f-ccd6-462d-98a4-6699b8be6494"
      },
      "outputs": [
        {
          "output_type": "execute_result",
          "data": {
            "text/plain": [
              "         Date         Open         High          Low        Close  \\\n",
              "0  2022-01-01  3683.047119  3769.917969  3682.286621  3769.697021   \n",
              "1  2022-01-02  3769.298340  3836.161865  3727.357422  3829.564941   \n",
              "2  2022-01-03  3829.535645  3836.198730  3698.047607  3761.380371   \n",
              "3  2022-01-04  3761.361572  3876.785156  3723.349854  3794.056641   \n",
              "4  2022-01-05  3794.269043  3842.059814  3456.745361  3550.386963   \n",
              "\n",
              "     Adj Close       Volume  \n",
              "0  3769.697021   9776191466  \n",
              "1  3829.564941   9881471548  \n",
              "2  3761.380371  12080777893  \n",
              "3  3794.056641  14030925983  \n",
              "4  3550.386963  18061338502  "
            ],
            "text/html": [
              "\n",
              "  <div id=\"df-b37c3c82-2ee7-4724-8fe8-5b9be1cf4006\">\n",
              "    <div class=\"colab-df-container\">\n",
              "      <div>\n",
              "<style scoped>\n",
              "    .dataframe tbody tr th:only-of-type {\n",
              "        vertical-align: middle;\n",
              "    }\n",
              "\n",
              "    .dataframe tbody tr th {\n",
              "        vertical-align: top;\n",
              "    }\n",
              "\n",
              "    .dataframe thead th {\n",
              "        text-align: right;\n",
              "    }\n",
              "</style>\n",
              "<table border=\"1\" class=\"dataframe\">\n",
              "  <thead>\n",
              "    <tr style=\"text-align: right;\">\n",
              "      <th></th>\n",
              "      <th>Date</th>\n",
              "      <th>Open</th>\n",
              "      <th>High</th>\n",
              "      <th>Low</th>\n",
              "      <th>Close</th>\n",
              "      <th>Adj Close</th>\n",
              "      <th>Volume</th>\n",
              "    </tr>\n",
              "  </thead>\n",
              "  <tbody>\n",
              "    <tr>\n",
              "      <th>0</th>\n",
              "      <td>2022-01-01</td>\n",
              "      <td>3683.047119</td>\n",
              "      <td>3769.917969</td>\n",
              "      <td>3682.286621</td>\n",
              "      <td>3769.697021</td>\n",
              "      <td>3769.697021</td>\n",
              "      <td>9776191466</td>\n",
              "    </tr>\n",
              "    <tr>\n",
              "      <th>1</th>\n",
              "      <td>2022-01-02</td>\n",
              "      <td>3769.298340</td>\n",
              "      <td>3836.161865</td>\n",
              "      <td>3727.357422</td>\n",
              "      <td>3829.564941</td>\n",
              "      <td>3829.564941</td>\n",
              "      <td>9881471548</td>\n",
              "    </tr>\n",
              "    <tr>\n",
              "      <th>2</th>\n",
              "      <td>2022-01-03</td>\n",
              "      <td>3829.535645</td>\n",
              "      <td>3836.198730</td>\n",
              "      <td>3698.047607</td>\n",
              "      <td>3761.380371</td>\n",
              "      <td>3761.380371</td>\n",
              "      <td>12080777893</td>\n",
              "    </tr>\n",
              "    <tr>\n",
              "      <th>3</th>\n",
              "      <td>2022-01-04</td>\n",
              "      <td>3761.361572</td>\n",
              "      <td>3876.785156</td>\n",
              "      <td>3723.349854</td>\n",
              "      <td>3794.056641</td>\n",
              "      <td>3794.056641</td>\n",
              "      <td>14030925983</td>\n",
              "    </tr>\n",
              "    <tr>\n",
              "      <th>4</th>\n",
              "      <td>2022-01-05</td>\n",
              "      <td>3794.269043</td>\n",
              "      <td>3842.059814</td>\n",
              "      <td>3456.745361</td>\n",
              "      <td>3550.386963</td>\n",
              "      <td>3550.386963</td>\n",
              "      <td>18061338502</td>\n",
              "    </tr>\n",
              "  </tbody>\n",
              "</table>\n",
              "</div>\n",
              "      <button class=\"colab-df-convert\" onclick=\"convertToInteractive('df-b37c3c82-2ee7-4724-8fe8-5b9be1cf4006')\"\n",
              "              title=\"Convert this dataframe to an interactive table.\"\n",
              "              style=\"display:none;\">\n",
              "        \n",
              "  <svg xmlns=\"http://www.w3.org/2000/svg\" height=\"24px\"viewBox=\"0 0 24 24\"\n",
              "       width=\"24px\">\n",
              "    <path d=\"M0 0h24v24H0V0z\" fill=\"none\"/>\n",
              "    <path d=\"M18.56 5.44l.94 2.06.94-2.06 2.06-.94-2.06-.94-.94-2.06-.94 2.06-2.06.94zm-11 1L8.5 8.5l.94-2.06 2.06-.94-2.06-.94L8.5 2.5l-.94 2.06-2.06.94zm10 10l.94 2.06.94-2.06 2.06-.94-2.06-.94-.94-2.06-.94 2.06-2.06.94z\"/><path d=\"M17.41 7.96l-1.37-1.37c-.4-.4-.92-.59-1.43-.59-.52 0-1.04.2-1.43.59L10.3 9.45l-7.72 7.72c-.78.78-.78 2.05 0 2.83L4 21.41c.39.39.9.59 1.41.59.51 0 1.02-.2 1.41-.59l7.78-7.78 2.81-2.81c.8-.78.8-2.07 0-2.86zM5.41 20L4 18.59l7.72-7.72 1.47 1.35L5.41 20z\"/>\n",
              "  </svg>\n",
              "      </button>\n",
              "      \n",
              "  <style>\n",
              "    .colab-df-container {\n",
              "      display:flex;\n",
              "      flex-wrap:wrap;\n",
              "      gap: 12px;\n",
              "    }\n",
              "\n",
              "    .colab-df-convert {\n",
              "      background-color: #E8F0FE;\n",
              "      border: none;\n",
              "      border-radius: 50%;\n",
              "      cursor: pointer;\n",
              "      display: none;\n",
              "      fill: #1967D2;\n",
              "      height: 32px;\n",
              "      padding: 0 0 0 0;\n",
              "      width: 32px;\n",
              "    }\n",
              "\n",
              "    .colab-df-convert:hover {\n",
              "      background-color: #E2EBFA;\n",
              "      box-shadow: 0px 1px 2px rgba(60, 64, 67, 0.3), 0px 1px 3px 1px rgba(60, 64, 67, 0.15);\n",
              "      fill: #174EA6;\n",
              "    }\n",
              "\n",
              "    [theme=dark] .colab-df-convert {\n",
              "      background-color: #3B4455;\n",
              "      fill: #D2E3FC;\n",
              "    }\n",
              "\n",
              "    [theme=dark] .colab-df-convert:hover {\n",
              "      background-color: #434B5C;\n",
              "      box-shadow: 0px 1px 3px 1px rgba(0, 0, 0, 0.15);\n",
              "      filter: drop-shadow(0px 1px 2px rgba(0, 0, 0, 0.3));\n",
              "      fill: #FFFFFF;\n",
              "    }\n",
              "  </style>\n",
              "\n",
              "      <script>\n",
              "        const buttonEl =\n",
              "          document.querySelector('#df-b37c3c82-2ee7-4724-8fe8-5b9be1cf4006 button.colab-df-convert');\n",
              "        buttonEl.style.display =\n",
              "          google.colab.kernel.accessAllowed ? 'block' : 'none';\n",
              "\n",
              "        async function convertToInteractive(key) {\n",
              "          const element = document.querySelector('#df-b37c3c82-2ee7-4724-8fe8-5b9be1cf4006');\n",
              "          const dataTable =\n",
              "            await google.colab.kernel.invokeFunction('convertToInteractive',\n",
              "                                                     [key], {});\n",
              "          if (!dataTable) return;\n",
              "\n",
              "          const docLinkHtml = 'Like what you see? Visit the ' +\n",
              "            '<a target=\"_blank\" href=https://colab.research.google.com/notebooks/data_table.ipynb>data table notebook</a>'\n",
              "            + ' to learn more about interactive tables.';\n",
              "          element.innerHTML = '';\n",
              "          dataTable['output_type'] = 'display_data';\n",
              "          await google.colab.output.renderOutput(dataTable, element);\n",
              "          const docLink = document.createElement('div');\n",
              "          docLink.innerHTML = docLinkHtml;\n",
              "          element.appendChild(docLink);\n",
              "        }\n",
              "      </script>\n",
              "    </div>\n",
              "  </div>\n",
              "  "
            ]
          },
          "metadata": {},
          "execution_count": 1
        }
      ],
      "source": [
        "import pandas as pd\n",
        "data = pd.read_csv(\"ETH.csv\")\n",
        "data.head()"
      ]
    },
    {
      "cell_type": "code",
      "source": [
        "data.info()"
      ],
      "metadata": {
        "colab": {
          "base_uri": "https://localhost:8080/"
        },
        "id": "D9OvRw4DbA2o",
        "outputId": "c25050ab-0728-47dc-f176-4eaf052b4201"
      },
      "execution_count": 2,
      "outputs": [
        {
          "output_type": "stream",
          "name": "stdout",
          "text": [
            "<class 'pandas.core.frame.DataFrame'>\n",
            "RangeIndex: 365 entries, 0 to 364\n",
            "Data columns (total 7 columns):\n",
            " #   Column     Non-Null Count  Dtype  \n",
            "---  ------     --------------  -----  \n",
            " 0   Date       365 non-null    object \n",
            " 1   Open       365 non-null    float64\n",
            " 2   High       365 non-null    float64\n",
            " 3   Low        365 non-null    float64\n",
            " 4   Close      365 non-null    float64\n",
            " 5   Adj Close  365 non-null    float64\n",
            " 6   Volume     365 non-null    int64  \n",
            "dtypes: float64(5), int64(1), object(1)\n",
            "memory usage: 20.1+ KB\n"
          ]
        }
      ]
    },
    {
      "cell_type": "code",
      "source": [
        "import sqlite3\n",
        "connection = sqlite3.connect(\"eth.db\")\n",
        "data.to_sql(\"Eth\", connection, if_exists='replace')"
      ],
      "metadata": {
        "colab": {
          "base_uri": "https://localhost:8080/"
        },
        "id": "tL1cSc6bbFX6",
        "outputId": "6a59260c-6c15-4f6a-d3d4-7a8f6e7fbb74"
      },
      "execution_count": 3,
      "outputs": [
        {
          "output_type": "execute_result",
          "data": {
            "text/plain": [
              "365"
            ]
          },
          "metadata": {},
          "execution_count": 3
        }
      ]
    },
    {
      "cell_type": "code",
      "source": [
        "result = connection.execute(\"SELECT name FROM sqlite_master WHERE type='table';\")\n",
        "for name in result:\n",
        "  print(name[0])"
      ],
      "metadata": {
        "colab": {
          "base_uri": "https://localhost:8080/"
        },
        "id": "BlOdhtNucFsv",
        "outputId": "06195f0e-b09f-4dd9-ad9b-632df02a38da"
      },
      "execution_count": 4,
      "outputs": [
        {
          "output_type": "stream",
          "name": "stdout",
          "text": [
            "Eth\n"
          ]
        }
      ]
    },
    {
      "cell_type": "code",
      "source": [
        "%load_ext sql"
      ],
      "metadata": {
        "id": "2A2jjWmkc4Ch"
      },
      "execution_count": 7,
      "outputs": []
    },
    {
      "cell_type": "code",
      "source": [
        "%sql sqlite:///eth.db"
      ],
      "metadata": {
        "id": "xnujKLWhdagC"
      },
      "execution_count": 8,
      "outputs": []
    },
    {
      "cell_type": "code",
      "source": [
        "%sql SELECT sql FROM sqlite_master WHERE type='table'"
      ],
      "metadata": {
        "colab": {
          "base_uri": "https://localhost:8080/",
          "height": 254
        },
        "id": "6w2JZyihd1-p",
        "outputId": "a26eb164-ac35-43d6-b06e-aaf9690f8807"
      },
      "execution_count": 10,
      "outputs": [
        {
          "output_type": "stream",
          "name": "stdout",
          "text": [
            " * sqlite:///eth.db\n",
            "Done.\n"
          ]
        },
        {
          "output_type": "execute_result",
          "data": {
            "text/plain": [
              "[('CREATE TABLE \"Eth\" (\\n\"index\" INTEGER,\\n  \"Date\" TEXT,\\n  \"Open\" REAL,\\n  \"High\" REAL,\\n  \"Low\" REAL,\\n  \"Close\" REAL,\\n  \"Adj Close\" REAL,\\n  \"Volume\" INTEGER\\n)',)]"
            ],
            "text/html": [
              "<table>\n",
              "    <tr>\n",
              "        <th>sql</th>\n",
              "    </tr>\n",
              "    <tr>\n",
              "        <td>CREATE TABLE &quot;Eth&quot; (<br>&quot;index&quot; INTEGER,<br>  &quot;Date&quot; TEXT,<br>  &quot;Open&quot; REAL,<br>  &quot;High&quot; REAL,<br>  &quot;Low&quot; REAL,<br>  &quot;Close&quot; REAL,<br>  &quot;Adj Close&quot; REAL,<br>  &quot;Volume&quot; INTEGER<br>)</td>\n",
              "    </tr>\n",
              "</table>"
            ]
          },
          "metadata": {},
          "execution_count": 10
        }
      ]
    },
    {
      "cell_type": "code",
      "source": [
        "%sql SELECT * FROM Eth LIMIT 5;"
      ],
      "metadata": {
        "colab": {
          "base_uri": "https://localhost:8080/",
          "height": 183
        },
        "id": "ZVLA1L_we3HP",
        "outputId": "0cda82ad-6683-4c09-f006-d571050ede59"
      },
      "execution_count": 13,
      "outputs": [
        {
          "output_type": "stream",
          "name": "stdout",
          "text": [
            " * sqlite:///eth.db\n",
            "Done.\n"
          ]
        },
        {
          "output_type": "execute_result",
          "data": {
            "text/plain": [
              "[(0, '2022-01-01', 3683.047119140625, 3769.91796875, 3682.28662109375, 3769.697021484375, 3769.697021484375, 9776191466),\n",
              " (1, '2022-01-02', 3769.29833984375, 3836.161865234375, 3727.357421875, 3829.56494140625, 3829.56494140625, 9881471548),\n",
              " (2, '2022-01-03', 3829.53564453125, 3836.19873046875, 3698.047607421875, 3761.38037109375, 3761.38037109375, 12080777893),\n",
              " (3, '2022-01-04', 3761.361572265625, 3876.78515625, 3723.349853515625, 3794.056640625, 3794.056640625, 14030925983),\n",
              " (4, '2022-01-05', 3794.26904296875, 3842.059814453125, 3456.745361328125, 3550.386962890625, 3550.386962890625, 18061338502)]"
            ],
            "text/html": [
              "<table>\n",
              "    <tr>\n",
              "        <th>index</th>\n",
              "        <th>Date</th>\n",
              "        <th>Open</th>\n",
              "        <th>High</th>\n",
              "        <th>Low</th>\n",
              "        <th>Close</th>\n",
              "        <th>Adj Close</th>\n",
              "        <th>Volume</th>\n",
              "    </tr>\n",
              "    <tr>\n",
              "        <td>0</td>\n",
              "        <td>2022-01-01</td>\n",
              "        <td>3683.047119140625</td>\n",
              "        <td>3769.91796875</td>\n",
              "        <td>3682.28662109375</td>\n",
              "        <td>3769.697021484375</td>\n",
              "        <td>3769.697021484375</td>\n",
              "        <td>9776191466</td>\n",
              "    </tr>\n",
              "    <tr>\n",
              "        <td>1</td>\n",
              "        <td>2022-01-02</td>\n",
              "        <td>3769.29833984375</td>\n",
              "        <td>3836.161865234375</td>\n",
              "        <td>3727.357421875</td>\n",
              "        <td>3829.56494140625</td>\n",
              "        <td>3829.56494140625</td>\n",
              "        <td>9881471548</td>\n",
              "    </tr>\n",
              "    <tr>\n",
              "        <td>2</td>\n",
              "        <td>2022-01-03</td>\n",
              "        <td>3829.53564453125</td>\n",
              "        <td>3836.19873046875</td>\n",
              "        <td>3698.047607421875</td>\n",
              "        <td>3761.38037109375</td>\n",
              "        <td>3761.38037109375</td>\n",
              "        <td>12080777893</td>\n",
              "    </tr>\n",
              "    <tr>\n",
              "        <td>3</td>\n",
              "        <td>2022-01-04</td>\n",
              "        <td>3761.361572265625</td>\n",
              "        <td>3876.78515625</td>\n",
              "        <td>3723.349853515625</td>\n",
              "        <td>3794.056640625</td>\n",
              "        <td>3794.056640625</td>\n",
              "        <td>14030925983</td>\n",
              "    </tr>\n",
              "    <tr>\n",
              "        <td>4</td>\n",
              "        <td>2022-01-05</td>\n",
              "        <td>3794.26904296875</td>\n",
              "        <td>3842.059814453125</td>\n",
              "        <td>3456.745361328125</td>\n",
              "        <td>3550.386962890625</td>\n",
              "        <td>3550.386962890625</td>\n",
              "        <td>18061338502</td>\n",
              "    </tr>\n",
              "</table>"
            ]
          },
          "metadata": {},
          "execution_count": 13
        }
      ]
    },
    {
      "cell_type": "code",
      "source": [
        "%sql SELECT COUNT(*) FROM Eth;"
      ],
      "metadata": {
        "colab": {
          "base_uri": "https://localhost:8080/",
          "height": 97
        },
        "id": "7YCPCBIifMJu",
        "outputId": "ce35f586-a015-4baa-94a1-ba451dce3e72"
      },
      "execution_count": 14,
      "outputs": [
        {
          "output_type": "stream",
          "name": "stdout",
          "text": [
            " * sqlite:///eth.db\n",
            "Done.\n"
          ]
        },
        {
          "output_type": "execute_result",
          "data": {
            "text/plain": [
              "[(365,)]"
            ],
            "text/html": [
              "<table>\n",
              "    <tr>\n",
              "        <th>COUNT(*)</th>\n",
              "    </tr>\n",
              "    <tr>\n",
              "        <td>365</td>\n",
              "    </tr>\n",
              "</table>"
            ]
          },
          "metadata": {},
          "execution_count": 14
        }
      ]
    },
    {
      "cell_type": "code",
      "source": [
        "%sql SELECT SUM(\"Volume\") AS Total_Trades FROM Eth;"
      ],
      "metadata": {
        "colab": {
          "base_uri": "https://localhost:8080/",
          "height": 97
        },
        "id": "-b_5KTDJfkZ1",
        "outputId": "3322877f-d4ac-47d3-b6bb-4028b1c0f671"
      },
      "execution_count": 16,
      "outputs": [
        {
          "output_type": "stream",
          "name": "stdout",
          "text": [
            " * sqlite:///eth.db\n",
            "Done.\n"
          ]
        },
        {
          "output_type": "execute_result",
          "data": {
            "text/plain": [
              "[(5586527528916,)]"
            ],
            "text/html": [
              "<table>\n",
              "    <tr>\n",
              "        <th>Total_Trades</th>\n",
              "    </tr>\n",
              "    <tr>\n",
              "        <td>5586527528916</td>\n",
              "    </tr>\n",
              "</table>"
            ]
          },
          "metadata": {},
          "execution_count": 16
        }
      ]
    },
    {
      "cell_type": "code",
      "source": [
        "%sql SELECT AVG(\"Close\") AS Average_Close FROM Eth;"
      ],
      "metadata": {
        "colab": {
          "base_uri": "https://localhost:8080/",
          "height": 97
        },
        "id": "iCeX1t8GgT3l",
        "outputId": "5920df25-bdd8-4709-d3b4-944f0978310a"
      },
      "execution_count": 17,
      "outputs": [
        {
          "output_type": "stream",
          "name": "stdout",
          "text": [
            " * sqlite:///eth.db\n",
            "Done.\n"
          ]
        },
        {
          "output_type": "execute_result",
          "data": {
            "text/plain": [
              "[(1987.3931869715861,)]"
            ],
            "text/html": [
              "<table>\n",
              "    <tr>\n",
              "        <th>Average_Close</th>\n",
              "    </tr>\n",
              "    <tr>\n",
              "        <td>1987.3931869715861</td>\n",
              "    </tr>\n",
              "</table>"
            ]
          },
          "metadata": {},
          "execution_count": 17
        }
      ]
    },
    {
      "cell_type": "code",
      "source": [
        "%sql SELECT Date, ROUND(SUM(\"Volume\" * \"Adj Close\"), 2) AS Market_Cap FROM Eth LIMIT 5;"
      ],
      "metadata": {
        "colab": {
          "base_uri": "https://localhost:8080/",
          "height": 97
        },
        "id": "YvfypqK4gfhu",
        "outputId": "703591b6-75a1-4a14-fd62-7e98216bff72"
      },
      "execution_count": 33,
      "outputs": [
        {
          "output_type": "stream",
          "name": "stdout",
          "text": [
            " * sqlite:///eth.db\n",
            "Done.\n"
          ]
        },
        {
          "output_type": "execute_result",
          "data": {
            "text/plain": [
              "[('2022-01-01', 1.1337350512267532e+16)]"
            ],
            "text/html": [
              "<table>\n",
              "    <tr>\n",
              "        <th>Date</th>\n",
              "        <th>Market_Cap</th>\n",
              "    </tr>\n",
              "    <tr>\n",
              "        <td>2022-01-01</td>\n",
              "        <td>1.1337350512267532e+16</td>\n",
              "    </tr>\n",
              "</table>"
            ]
          },
          "metadata": {},
          "execution_count": 33
        }
      ]
    },
    {
      "cell_type": "code",
      "source": [
        "%%sql\n",
        "SELECT strftime('%Y', Date) AS Year, COUNT(*) AS Yearly_Trades\n",
        "FROM Eth\n",
        "GROUP BY Year;"
      ],
      "metadata": {
        "colab": {
          "base_uri": "https://localhost:8080/",
          "height": 97
        },
        "id": "83TrR_sYkTfT",
        "outputId": "cb968d88-e081-4a8c-ad4a-f26b67872d78"
      },
      "execution_count": 31,
      "outputs": [
        {
          "output_type": "stream",
          "name": "stdout",
          "text": [
            " * sqlite:///eth.db\n",
            "Done.\n"
          ]
        },
        {
          "output_type": "execute_result",
          "data": {
            "text/plain": [
              "[('2022', 365)]"
            ],
            "text/html": [
              "<table>\n",
              "    <tr>\n",
              "        <th>Year</th>\n",
              "        <th>Yearly_Trades</th>\n",
              "    </tr>\n",
              "    <tr>\n",
              "        <td>2022</td>\n",
              "        <td>365</td>\n",
              "    </tr>\n",
              "</table>"
            ]
          },
          "metadata": {},
          "execution_count": 31
        }
      ]
    },
    {
      "cell_type": "code",
      "source": [
        "%%sql\n",
        "SELECT strftime('%Y', Date) AS Year, COUNT(*) as Trades, ROUND(\"Close\"/SUM(\"Close\") * 100, 2) AS Change_Percentage\n",
        "FROM Eth\n",
        "GROUP BY Year;"
      ],
      "metadata": {
        "colab": {
          "base_uri": "https://localhost:8080/",
          "height": 97
        },
        "id": "U1RJ8UjcmGWH",
        "outputId": "31f098c6-dd1c-4f9f-f7f5-56c875923ae7"
      },
      "execution_count": 36,
      "outputs": [
        {
          "output_type": "stream",
          "name": "stdout",
          "text": [
            " * sqlite:///eth.db\n",
            "Done.\n"
          ]
        },
        {
          "output_type": "execute_result",
          "data": {
            "text/plain": [
              "[('2022', 365, 0.52)]"
            ],
            "text/html": [
              "<table>\n",
              "    <tr>\n",
              "        <th>Year</th>\n",
              "        <th>Trades</th>\n",
              "        <th>Change_Percentage</th>\n",
              "    </tr>\n",
              "    <tr>\n",
              "        <td>2022</td>\n",
              "        <td>365</td>\n",
              "        <td>0.52</td>\n",
              "    </tr>\n",
              "</table>"
            ]
          },
          "metadata": {},
          "execution_count": 36
        }
      ]
    },
    {
      "cell_type": "code",
      "source": [
        "%%sql\n",
        "SELECT strftime('%Y', Date) AS Year, ROUND(((Close - Open) / Open) * 100, 2) || '%' AS Change_Percentage\n",
        "FROM Eth\n",
        "GROUP BY Year;"
      ],
      "metadata": {
        "colab": {
          "base_uri": "https://localhost:8080/",
          "height": 97
        },
        "id": "K5e7HqP8py52",
        "outputId": "9bb01f6f-a1b9-42d3-f21f-64b91f858aae"
      },
      "execution_count": 43,
      "outputs": [
        {
          "output_type": "stream",
          "name": "stdout",
          "text": [
            " * sqlite:///eth.db\n",
            "Done.\n"
          ]
        },
        {
          "output_type": "execute_result",
          "data": {
            "text/plain": [
              "[('2022', '2.35%')]"
            ],
            "text/html": [
              "<table>\n",
              "    <tr>\n",
              "        <th>Year</th>\n",
              "        <th>Change_Percentage</th>\n",
              "    </tr>\n",
              "    <tr>\n",
              "        <td>2022</td>\n",
              "        <td>2.35%</td>\n",
              "    </tr>\n",
              "</table>"
            ]
          },
          "metadata": {},
          "execution_count": 43
        }
      ]
    },
    {
      "cell_type": "code",
      "source": [
        "%sql SELECT MAX(\"High\"), MIN(\"Low\") FROM Eth;"
      ],
      "metadata": {
        "colab": {
          "base_uri": "https://localhost:8080/",
          "height": 97
        },
        "id": "uxOMWAqit7_k",
        "outputId": "b98001a8-7bad-483b-92c4-7ea5ca86bd83"
      },
      "execution_count": 46,
      "outputs": [
        {
          "output_type": "stream",
          "name": "stdout",
          "text": [
            " * sqlite:///eth.db\n",
            "Done.\n"
          ]
        },
        {
          "output_type": "execute_result",
          "data": {
            "text/plain": [
              "[(3876.78515625, 896.1090087890625)]"
            ],
            "text/html": [
              "<table>\n",
              "    <tr>\n",
              "        <th>MAX(&quot;High&quot;)</th>\n",
              "        <th>MIN(&quot;Low&quot;)</th>\n",
              "    </tr>\n",
              "    <tr>\n",
              "        <td>3876.78515625</td>\n",
              "        <td>896.1090087890625</td>\n",
              "    </tr>\n",
              "</table>"
            ]
          },
          "metadata": {},
          "execution_count": 46
        }
      ]
    },
    {
      "cell_type": "code",
      "source": [
        "%%sql\n",
        "SELECT strftime('%m', Date) AS Month, ROUND(High, 2) AS High, ROUND(Low, 2) AS Low\n",
        "FROM Eth\n",
        "GROUP BY Month;"
      ],
      "metadata": {
        "colab": {
          "base_uri": "https://localhost:8080/",
          "height": 332
        },
        "id": "OMdoS7kZuxzl",
        "outputId": "2584f203-def8-4922-98fd-776b356e5839"
      },
      "execution_count": 48,
      "outputs": [
        {
          "output_type": "stream",
          "name": "stdout",
          "text": [
            " * sqlite:///eth.db\n",
            "Done.\n"
          ]
        },
        {
          "output_type": "execute_result",
          "data": {
            "text/plain": [
              "[('01', 3769.92, 3682.29),\n",
              " ('02', 2802.32, 2682.62),\n",
              " ('03', 3029.65, 2868.94),\n",
              " ('04', 3467.56, 3223.89),\n",
              " ('05', 2838.7, 2728.08),\n",
              " ('06', 1965.17, 1776.05),\n",
              " ('07', 1100.22, 1040.15),\n",
              " ('08', 1700.17, 1613.42),\n",
              " ('09', 1593.08, 1520.19),\n",
              " ('10', 1332.52, 1306.1),\n",
              " ('11', 1606.61, 1568.1),\n",
              " ('12', 1296.0, 1267.71)]"
            ],
            "text/html": [
              "<table>\n",
              "    <tr>\n",
              "        <th>Month</th>\n",
              "        <th>High</th>\n",
              "        <th>Low</th>\n",
              "    </tr>\n",
              "    <tr>\n",
              "        <td>01</td>\n",
              "        <td>3769.92</td>\n",
              "        <td>3682.29</td>\n",
              "    </tr>\n",
              "    <tr>\n",
              "        <td>02</td>\n",
              "        <td>2802.32</td>\n",
              "        <td>2682.62</td>\n",
              "    </tr>\n",
              "    <tr>\n",
              "        <td>03</td>\n",
              "        <td>3029.65</td>\n",
              "        <td>2868.94</td>\n",
              "    </tr>\n",
              "    <tr>\n",
              "        <td>04</td>\n",
              "        <td>3467.56</td>\n",
              "        <td>3223.89</td>\n",
              "    </tr>\n",
              "    <tr>\n",
              "        <td>05</td>\n",
              "        <td>2838.7</td>\n",
              "        <td>2728.08</td>\n",
              "    </tr>\n",
              "    <tr>\n",
              "        <td>06</td>\n",
              "        <td>1965.17</td>\n",
              "        <td>1776.05</td>\n",
              "    </tr>\n",
              "    <tr>\n",
              "        <td>07</td>\n",
              "        <td>1100.22</td>\n",
              "        <td>1040.15</td>\n",
              "    </tr>\n",
              "    <tr>\n",
              "        <td>08</td>\n",
              "        <td>1700.17</td>\n",
              "        <td>1613.42</td>\n",
              "    </tr>\n",
              "    <tr>\n",
              "        <td>09</td>\n",
              "        <td>1593.08</td>\n",
              "        <td>1520.19</td>\n",
              "    </tr>\n",
              "    <tr>\n",
              "        <td>10</td>\n",
              "        <td>1332.52</td>\n",
              "        <td>1306.1</td>\n",
              "    </tr>\n",
              "    <tr>\n",
              "        <td>11</td>\n",
              "        <td>1606.61</td>\n",
              "        <td>1568.1</td>\n",
              "    </tr>\n",
              "    <tr>\n",
              "        <td>12</td>\n",
              "        <td>1296.0</td>\n",
              "        <td>1267.71</td>\n",
              "    </tr>\n",
              "</table>"
            ]
          },
          "metadata": {},
          "execution_count": 48
        }
      ]
    },
    {
      "cell_type": "code",
      "source": [],
      "metadata": {
        "id": "xA224c5Rvl9g"
      },
      "execution_count": null,
      "outputs": []
    }
  ]
}