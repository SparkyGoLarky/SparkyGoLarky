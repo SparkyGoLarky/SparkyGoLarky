{
  "nbformat": 4,
  "nbformat_minor": 0,
  "metadata": {
    "colab": {
      "provenance": [],
      "authorship_tag": "ABX9TyPi980bJEz+cwN/9MPpSjhf",
      "include_colab_link": true
    },
    "kernelspec": {
      "name": "python3",
      "display_name": "Python 3"
    },
    "language_info": {
      "name": "python"
    }
  },
  "cells": [
    {
      "cell_type": "markdown",
      "metadata": {
        "id": "view-in-github",
        "colab_type": "text"
      },
      "source": [
        "<a href=\"https://colab.research.google.com/github/SparkyGoLarky/SparkyGoLarky/blob/main/Python_and_Android_TensorFlow_Lite_Logistic_Regression.ipynb\" target=\"_parent\"><img src=\"https://colab.research.google.com/assets/colab-badge.svg\" alt=\"Open In Colab\"/></a>"
      ]
    },
    {
      "cell_type": "code",
      "execution_count": null,
      "metadata": {
        "id": "8n9JzuH93Atu"
      },
      "outputs": [],
      "source": [
        "from sklearn.datasets import load_iris\n",
        "dataset = load_iris()\n",
        "print(dataset)"
      ]
    },
    {
      "cell_type": "code",
      "source": [
        "X = dataset.data[:-1, :]\n",
        "print(X)"
      ],
      "metadata": {
        "id": "tm63zpvl42DZ"
      },
      "execution_count": null,
      "outputs": []
    },
    {
      "cell_type": "code",
      "source": [
        "y = dataset.target[:-1]\n",
        "print(y)"
      ],
      "metadata": {
        "id": "-yfm3K9O5nCZ"
      },
      "execution_count": null,
      "outputs": []
    },
    {
      "cell_type": "code",
      "source": [
        "import pandas\n",
        "y = pandas.get_dummies(y).values\n",
        "print(y)"
      ],
      "metadata": {
        "id": "vAWszY-d6LQn"
      },
      "execution_count": null,
      "outputs": []
    },
    {
      "cell_type": "code",
      "source": [
        "from sklearn.model_selection import train_test_split\n",
        "trainX, testX, trainY, testY = train_test_split(X, y, test_size=0.2, random_state=42)"
      ],
      "metadata": {
        "id": "mvkSpr347sbZ"
      },
      "execution_count": 6,
      "outputs": []
    },
    {
      "cell_type": "code",
      "source": [
        "print(trainX.shape)"
      ],
      "metadata": {
        "colab": {
          "base_uri": "https://localhost:8080/"
        },
        "id": "OVq7CRR79wc2",
        "outputId": "5979fea6-01f1-4d30-e365-8e3da7f18260"
      },
      "execution_count": 8,
      "outputs": [
        {
          "output_type": "stream",
          "name": "stdout",
          "text": [
            "(119, 4)\n"
          ]
        }
      ]
    },
    {
      "cell_type": "code",
      "source": [
        "import tensorflow\n",
        "trainX = tensorflow.constant(trainX, dtype=\"float32\")\n",
        "trainY = tensorflow.constant(trainY, dtype=\"float32\")\n",
        "testX = tensorflow.constant(testX, dtype=\"float32\")\n",
        "testY = tensorflow.constant(testY, dtype=\"float32\")"
      ],
      "metadata": {
        "id": "uYhJ_BQM-Im1"
      },
      "execution_count": 9,
      "outputs": []
    },
    {
      "cell_type": "code",
      "source": [
        "import keras\n",
        "model = keras.Sequential()\n",
        "from tensorflow.keras import layers\n",
        "numberOfFeatures = 4\n",
        "numberOfClasses = 3\n",
        "numberOfTrainingLoops = 100\n",
        "model.add(layers.Dense(512, activation='relu', input_shape=(numberOfFeatures,)))\n",
        "model.add(layers.Dense(numberOfClasses, activation='softmax'))\n",
        "model.compile(optimizer='rmsprop', loss='categorical_crossentropy', metrics=['accuracy'])\n",
        "model.fit(trainX, trainY, epochs=numberOfTrainingLoops, batch_size=40)"
      ],
      "metadata": {
        "id": "sagxz_vg_TmQ"
      },
      "execution_count": null,
      "outputs": []
    },
    {
      "cell_type": "code",
      "source": [
        "model.evaluate(testX, testY)"
      ],
      "metadata": {
        "id": "MjJiiTdUDeTs"
      },
      "execution_count": null,
      "outputs": []
    },
    {
      "cell_type": "code",
      "source": [
        "tensorflow.keras.models.save_model(model, 'model.pbtxt')\n",
        "converter = tensorflow.lite.TFLiteConverter.from_keras_model(model = model)\n",
        "model_tflite = converter.convert()\n",
        "open(\"logisticRegressionModel.tflite\", \"wb\").write(model_tflite)"
      ],
      "metadata": {
        "colab": {
          "base_uri": "https://localhost:8080/"
        },
        "id": "-q6A0o1SEk0G",
        "outputId": "64291f89-0b64-42bd-ba3c-fc136181f2b6"
      },
      "execution_count": 12,
      "outputs": [
        {
          "output_type": "execute_result",
          "data": {
            "text/plain": [
              "18040"
            ]
          },
          "metadata": {},
          "execution_count": 12
        }
      ]
    }
  ]
}