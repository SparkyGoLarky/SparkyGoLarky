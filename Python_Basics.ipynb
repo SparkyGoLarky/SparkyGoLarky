{
  "nbformat": 4,
  "nbformat_minor": 0,
  "metadata": {
    "colab": {
      "provenance": [],
      "authorship_tag": "ABX9TyO+nh8Pn8pifFTY77zi+YJU",
      "include_colab_link": true
    },
    "kernelspec": {
      "name": "python3",
      "display_name": "Python 3"
    },
    "language_info": {
      "name": "python"
    }
  },
  "cells": [
    {
      "cell_type": "markdown",
      "metadata": {
        "id": "view-in-github",
        "colab_type": "text"
      },
      "source": [
        "<a href=\"https://colab.research.google.com/github/SparkyGoLarky/SparkyGoLarky/blob/main/Python_Basics.ipynb\" target=\"_parent\"><img src=\"https://colab.research.google.com/assets/colab-badge.svg\" alt=\"Open In Colab\"/></a>"
      ]
    },
    {
      "cell_type": "code",
      "execution_count": 1,
      "metadata": {
        "colab": {
          "base_uri": "https://localhost:8080/"
        },
        "id": "qgQyFC1646cy",
        "outputId": "9c38884a-9967-49bb-d893-f34ae53ea5e4"
      },
      "outputs": [
        {
          "output_type": "stream",
          "name": "stdout",
          "text": [
            "False\n",
            "True\n",
            "False\n"
          ]
        }
      ],
      "source": [
        "#bool\n",
        "is_game_over = False\n",
        "print(is_game_over)\n",
        "is_game_over = True\n",
        "print(is_game_over)\n",
        "is_game_over = 5 > 6\n",
        "print(is_game_over)"
      ]
    },
    {
      "cell_type": "code",
      "source": [
        "#int\n",
        "num_lives = 5\n",
        "print(num_lives)\n",
        "#float\n",
        "percent_health = 0.5\n",
        "print(percent_health)"
      ],
      "metadata": {
        "colab": {
          "base_uri": "https://localhost:8080/"
        },
        "id": "USWWJKgW5S8a",
        "outputId": "c0bfa5cd-f1b9-4dcd-8016-fc52a2108922"
      },
      "execution_count": 2,
      "outputs": [
        {
          "output_type": "stream",
          "name": "stdout",
          "text": [
            "5\n",
            "0.5\n"
          ]
        }
      ]
    },
    {
      "cell_type": "code",
      "source": [
        "#str\n",
        "player_name = \"Dave\"\n",
        "print(player_name)\n",
        "player_name = 'Rick'\n",
        "print(player_name)"
      ],
      "metadata": {
        "colab": {
          "base_uri": "https://localhost:8080/"
        },
        "id": "4i9hGTuX5jb-",
        "outputId": "321ac377-ee1c-4059-bb60-7f7e9a40de53"
      },
      "execution_count": 3,
      "outputs": [
        {
          "output_type": "stream",
          "name": "stdout",
          "text": [
            "Dave\n",
            "Rick\n"
          ]
        }
      ]
    },
    {
      "cell_type": "code",
      "source": [
        "#type\n",
        "print(type(is_game_over))\n",
        "print(type(num_lives))\n",
        "print(type(percent_health))\n",
        "print(type(player_name))\n",
        "num_lives = \"5\"\n",
        "print(type(num_lives))"
      ],
      "metadata": {
        "colab": {
          "base_uri": "https://localhost:8080/"
        },
        "id": "jk0sFxfQ5vcL",
        "outputId": "13790cd8-03cb-43ad-b9ea-fe4bac36b363"
      },
      "execution_count": 4,
      "outputs": [
        {
          "output_type": "stream",
          "name": "stdout",
          "text": [
            "<class 'bool'>\n",
            "<class 'int'>\n",
            "<class 'float'>\n",
            "<class 'str'>\n",
            "<class 'str'>\n"
          ]
        }
      ]
    },
    {
      "cell_type": "code",
      "source": [
        "#convert to str\n",
        "num_lives = 5\n",
        "#num_lives = \"5\"\n",
        "str_num_lives = str(num_lives)\n",
        "print(type(num_lives))\n",
        "print(type(str_num_lives))"
      ],
      "metadata": {
        "colab": {
          "base_uri": "https://localhost:8080/"
        },
        "id": "Vm9nUJsS6HFp",
        "outputId": "8ee76f47-98b9-443d-f5c8-ebdbec99415d"
      },
      "execution_count": 5,
      "outputs": [
        {
          "output_type": "stream",
          "name": "stdout",
          "text": [
            "<class 'int'>\n",
            "<class 'str'>\n"
          ]
        }
      ]
    },
    {
      "cell_type": "code",
      "source": [
        "#convert to bool\n",
        "print(bool(0))\n",
        "print(bool(1))\n",
        "print(bool(0.1))\n",
        "print(bool(\"words?\"))\n",
        "print(bool(\"False\"))"
      ],
      "metadata": {
        "colab": {
          "base_uri": "https://localhost:8080/"
        },
        "id": "qGuL_hLa7Ak1",
        "outputId": "eebcb79f-32d6-49a5-aa63-5d9abdf8f743"
      },
      "execution_count": 6,
      "outputs": [
        {
          "output_type": "stream",
          "name": "stdout",
          "text": [
            "False\n",
            "True\n",
            "True\n",
            "True\n",
            "True\n"
          ]
        }
      ]
    },
    {
      "cell_type": "code",
      "source": [
        "#convert to int\n",
        "print(int(\"1\"))\n",
        "print(int(0.5))\n",
        "print(int(2.9))\n",
        "print(int(False))\n",
        "print(int(True))"
      ],
      "metadata": {
        "colab": {
          "base_uri": "https://localhost:8080/"
        },
        "id": "aAvaV9fZ7ucb",
        "outputId": "9d0b2ec8-20b7-47d0-b716-104dbd9750a2"
      },
      "execution_count": 7,
      "outputs": [
        {
          "output_type": "stream",
          "name": "stdout",
          "text": [
            "1\n",
            "0\n",
            "2\n",
            "0\n",
            "1\n"
          ]
        }
      ]
    },
    {
      "cell_type": "code",
      "source": [
        "#convert to float\n",
        "print(float(\"1\"))\n",
        "print(float(5))\n",
        "print(float(77))\n",
        "print(float(False))\n",
        "print(float(True))"
      ],
      "metadata": {
        "colab": {
          "base_uri": "https://localhost:8080/"
        },
        "id": "5gtkjdMo8n1v",
        "outputId": "2fef84a8-d17b-4d76-e2ae-7b6a9e0b5213"
      },
      "execution_count": 8,
      "outputs": [
        {
          "output_type": "stream",
          "name": "stdout",
          "text": [
            "1.0\n",
            "5.0\n",
            "77.0\n",
            "0.0\n",
            "1.0\n"
          ]
        }
      ]
    },
    {
      "cell_type": "code",
      "source": [
        "#arithmetic operators\n",
        "health = 50\n",
        "new_health = health + 20\n",
        "print(health)\n",
        "health = health + 20\n",
        "print(health)\n",
        "\n",
        "xPos = 5\n",
        "print(xPos % 2)\n",
        "print(xPos // 2)\n",
        "print(xPos ** 2)\n",
        "print(xPos)\n",
        "\n",
        "first_name = \"Daniel\"\n",
        "last_name = \"Paffety\"\n",
        "print(first_name + \" \" + last_name)"
      ],
      "metadata": {
        "colab": {
          "base_uri": "https://localhost:8080/"
        },
        "id": "Kbzd1lhjWNm2",
        "outputId": "65ef2f6b-59ff-4403-bd29-9da22499b174"
      },
      "execution_count": 9,
      "outputs": [
        {
          "output_type": "stream",
          "name": "stdout",
          "text": [
            "50\n",
            "70\n",
            "1\n",
            "2\n",
            "25\n",
            "5\n",
            "Daniel Paffety\n"
          ]
        }
      ]
    },
    {
      "cell_type": "code",
      "source": [
        "#combination arithmetic operators\n",
        "health = 50\n",
        "health += 20\n",
        "health -= 50\n",
        "print(health)\n",
        "\n",
        "name = \"Player\"\n",
        "name += ' One'\n",
        "print(name)"
      ],
      "metadata": {
        "colab": {
          "base_uri": "https://localhost:8080/"
        },
        "id": "fAHl8oCJX4HH",
        "outputId": "dc5f5d42-62b6-4cf9-91f1-3aa3693a465c"
      },
      "execution_count": 10,
      "outputs": [
        {
          "output_type": "stream",
          "name": "stdout",
          "text": [
            "20\n",
            "Player One\n"
          ]
        }
      ]
    },
    {
      "cell_type": "code",
      "source": [
        "# > >= < <= == !=\n",
        "result = 5 > 2\n",
        "print(result)\n",
        "print(type(result))\n",
        "print(5 == 2)\n",
        "print(5 != health)\n",
        "print(5.0 == 5)"
      ],
      "metadata": {
        "colab": {
          "base_uri": "https://localhost:8080/"
        },
        "id": "VGXuTlKDcBlb",
        "outputId": "9ac670de-f26b-4e40-9c1b-c98e9ee33966"
      },
      "execution_count": 11,
      "outputs": [
        {
          "output_type": "stream",
          "name": "stdout",
          "text": [
            "True\n",
            "<class 'bool'>\n",
            "False\n",
            "True\n",
            "True\n"
          ]
        }
      ]
    },
    {
      "cell_type": "code",
      "source": [
        "#logical operators\n",
        "is_game_over = False\n",
        "is_game_over = not is_game_over\n",
        "print(is_game_over)\n",
        "health = 0\n",
        "lives = 1\n",
        "print(health <= 0 and lives <= 0)\n",
        "print(health <= 0 or lives <= 0)"
      ],
      "metadata": {
        "colab": {
          "base_uri": "https://localhost:8080/"
        },
        "id": "rdjUbUmLemXt",
        "outputId": "e91cfad3-d891-4c22-a311-706c8014a24c"
      },
      "execution_count": 12,
      "outputs": [
        {
          "output_type": "stream",
          "name": "stdout",
          "text": [
            "True\n",
            "False\n",
            "True\n"
          ]
        }
      ]
    },
    {
      "cell_type": "code",
      "source": [
        "#lists\n",
        "inventory = ['Sword', 'Bread', 'Boots']\n",
        "print(inventory)\n",
        "sword = inventory[0]\n",
        "print(sword)\n",
        "inventory[1] = 'Apples'\n",
        "print(inventory)"
      ],
      "metadata": {
        "colab": {
          "base_uri": "https://localhost:8080/"
        },
        "id": "izdzdK7ZPKEV",
        "outputId": "b38ba7cf-552f-4427-c590-58aee265b03e"
      },
      "execution_count": 13,
      "outputs": [
        {
          "output_type": "stream",
          "name": "stdout",
          "text": [
            "['Sword', 'Bread', 'Boots']\n",
            "Sword\n",
            "['Sword', 'Apples', 'Boots']\n"
          ]
        }
      ]
    },
    {
      "cell_type": "code",
      "source": [
        "inventory = ['Sword', 'Bread', 'Boots']\n",
        "print(len(inventory))\n",
        "print(max(inventory))\n",
        "print(min(inventory))\n",
        "inventory.append('Hat')\n",
        "print(inventory)\n",
        "inventory.insert(0, 'Knife')\n",
        "print(inventory)\n",
        "inventory.pop()\n",
        "print(inventory)\n",
        "inventory.remove('Sword')\n",
        "print(inventory)\n",
        "inventory.clear()\n",
        "print(inventory)"
      ],
      "metadata": {
        "colab": {
          "base_uri": "https://localhost:8080/"
        },
        "id": "6uWM19HRQtBq",
        "outputId": "a47809e8-2696-499e-ae71-b19b50990963"
      },
      "execution_count": 14,
      "outputs": [
        {
          "output_type": "stream",
          "name": "stdout",
          "text": [
            "3\n",
            "Sword\n",
            "Boots\n",
            "['Sword', 'Bread', 'Boots', 'Hat']\n",
            "['Knife', 'Sword', 'Bread', 'Boots', 'Hat']\n",
            "['Knife', 'Sword', 'Bread', 'Boots']\n",
            "['Knife', 'Bread', 'Boots']\n",
            "[]\n"
          ]
        }
      ]
    },
    {
      "cell_type": "code",
      "source": [
        "#multidimension lists\n",
        "universe = [[1 ,2 ,3], \n",
        "            [1, 2, 3, 4], \n",
        "            [1, 2], \n",
        "            [1, 2, 3]]\n",
        "ninth_world = universe[2][1]\n",
        "print(ninth_world)\n",
        "ninth_world = 5\n",
        "universe.append([1, 2, 3, 4, 5])\n",
        "universe[1].pop()\n",
        "print(universe)"
      ],
      "metadata": {
        "colab": {
          "base_uri": "https://localhost:8080/"
        },
        "id": "3sWPmtACT8SO",
        "outputId": "0ad0661c-eb7e-47d6-ac9c-564450a3d8c6"
      },
      "execution_count": 15,
      "outputs": [
        {
          "output_type": "stream",
          "name": "stdout",
          "text": [
            "2\n",
            "[[1, 2, 3], [1, 2, 3], [1, 2], [1, 2, 3], [1, 2, 3, 4, 5]]\n"
          ]
        }
      ]
    },
    {
      "cell_type": "code",
      "source": [
        "pockets = [[\"Phone, Wallet\"],\n",
        "           [\"House Key\", \"Car Key\"],\n",
        "           [\"Tissues\"],\n",
        "           [\"Earphones\", \"Photo\", \"Chocolate\"]]\n",
        "pockets[0].append(\"Cash\")\n",
        "print(pockets)\n",
        "print(pockets[0])\n",
        "print(pockets[0][1])\n",
        "pockets[3].insert(1, \"Hair Band\")\n",
        "print(pockets)\n",
        "pockets[2].append([5])\n",
        "print(pockets)\n",
        "pockets[2].append(\"Help\")\n",
        "print(pockets)\n",
        "pockets[2][1].append(4)\n",
        "print(pockets)\n",
        "pockets[2][1].insert(0, \"COUNTDOWN\")\n",
        "print(pockets)\n",
        "pockets[2][1].remove(\"COUNTDOWN\")\n",
        "print(pockets)"
      ],
      "metadata": {
        "colab": {
          "base_uri": "https://localhost:8080/"
        },
        "id": "h7t8MMhDXY6L",
        "outputId": "4aa3c373-35e4-4ae7-8dde-a3744c4cf47d"
      },
      "execution_count": 16,
      "outputs": [
        {
          "output_type": "stream",
          "name": "stdout",
          "text": [
            "[['Phone, Wallet', 'Cash'], ['House Key', 'Car Key'], ['Tissues'], ['Earphones', 'Photo', 'Chocolate']]\n",
            "['Phone, Wallet', 'Cash']\n",
            "Cash\n",
            "[['Phone, Wallet', 'Cash'], ['House Key', 'Car Key'], ['Tissues'], ['Earphones', 'Hair Band', 'Photo', 'Chocolate']]\n",
            "[['Phone, Wallet', 'Cash'], ['House Key', 'Car Key'], ['Tissues', [5]], ['Earphones', 'Hair Band', 'Photo', 'Chocolate']]\n",
            "[['Phone, Wallet', 'Cash'], ['House Key', 'Car Key'], ['Tissues', [5], 'Help'], ['Earphones', 'Hair Band', 'Photo', 'Chocolate']]\n",
            "[['Phone, Wallet', 'Cash'], ['House Key', 'Car Key'], ['Tissues', [5, 4], 'Help'], ['Earphones', 'Hair Band', 'Photo', 'Chocolate']]\n",
            "[['Phone, Wallet', 'Cash'], ['House Key', 'Car Key'], ['Tissues', ['COUNTDOWN', 5, 4], 'Help'], ['Earphones', 'Hair Band', 'Photo', 'Chocolate']]\n",
            "[['Phone, Wallet', 'Cash'], ['House Key', 'Car Key'], ['Tissues', [5, 4], 'Help'], ['Earphones', 'Hair Band', 'Photo', 'Chocolate']]\n"
          ]
        }
      ]
    },
    {
      "cell_type": "code",
      "source": [
        "#tuples\n",
        "item = (\"Health Kit\", 4)\n",
        "item_name = item[0]\n",
        "print(item_name)\n",
        "item = (\"Knife\", 1, \"Knife\", 4, 5, 1)\n",
        "print(item)\n",
        "print(item.count(\"Knife\"))\n",
        "print(item.index(4))\n",
        "item = (1 ,2 ,3)\n",
        "print(len(item))\n",
        "print(max(item))\n",
        "print(min(item))"
      ],
      "metadata": {
        "colab": {
          "base_uri": "https://localhost:8080/"
        },
        "id": "ojiBx23bZqBp",
        "outputId": "2b8c2cf2-7f6a-4cf9-e57c-42e1af16aaf1"
      },
      "execution_count": 17,
      "outputs": [
        {
          "output_type": "stream",
          "name": "stdout",
          "text": [
            "Health Kit\n",
            "('Knife', 1, 'Knife', 4, 5, 1)\n",
            "2\n",
            "3\n",
            "3\n",
            "3\n",
            "1\n"
          ]
        }
      ]
    },
    {
      "cell_type": "code",
      "source": [
        "#dictionaries\n",
        "inventory = {'Knife':1, 'Health Kit':3, 'Wood':5}\n",
        "print(inventory['Knife'])\n",
        "inventory['Knife'] = 2\n",
        "print(inventory)\n",
        "inventory['Wood'] += 2\n",
        "print(inventory)\n",
        "inventory['Gold'] = 50\n",
        "print(inventory)"
      ],
      "metadata": {
        "colab": {
          "base_uri": "https://localhost:8080/"
        },
        "id": "B_78ogwZeR8d",
        "outputId": "dec52258-e2f3-4a76-c0fc-763324b75d67"
      },
      "execution_count": 18,
      "outputs": [
        {
          "output_type": "stream",
          "name": "stdout",
          "text": [
            "1\n",
            "{'Knife': 2, 'Health Kit': 3, 'Wood': 5}\n",
            "{'Knife': 2, 'Health Kit': 3, 'Wood': 7}\n",
            "{'Knife': 2, 'Health Kit': 3, 'Wood': 7, 'Gold': 50}\n"
          ]
        }
      ]
    },
    {
      "cell_type": "code",
      "source": [
        "inventory = {'Knife':1, 'Health Kit':3, 'Wood':5}\n",
        "#print(inventory['Gold]) - crash\n",
        "print(inventory.get('Gold'))\n",
        "print(inventory.get('Wood'))\n",
        "print(inventory.keys())\n",
        "print(inventory.values())\n",
        "inventory.pop('Wood')\n",
        "print(inventory)\n",
        "inventory[\"Gold\"] = 100\n",
        "inventory['Shoes'] = 2\n",
        "print(max(inventory))\n",
        "print(len(inventory))\n",
        "print(min(inventory))\n",
        "inventory.clear()\n",
        "print(inventory)"
      ],
      "metadata": {
        "colab": {
          "base_uri": "https://localhost:8080/"
        },
        "id": "ajHwjxEwhj-h",
        "outputId": "ee1c9160-69f9-4cf5-c3b0-d3126ba05691"
      },
      "execution_count": 19,
      "outputs": [
        {
          "output_type": "stream",
          "name": "stdout",
          "text": [
            "None\n",
            "5\n",
            "dict_keys(['Knife', 'Health Kit', 'Wood'])\n",
            "dict_values([1, 3, 5])\n",
            "{'Knife': 1, 'Health Kit': 3}\n",
            "Shoes\n",
            "4\n",
            "Gold\n",
            "{}\n"
          ]
        }
      ]
    },
    {
      "cell_type": "code",
      "source": [
        "#ranges\n",
        "first_ten = range(10)\n",
        "print(first_ten)\n",
        "print(first_ten[0])\n",
        "print(first_ten[9])\n",
        "first_ten = range(1, 11)\n",
        "print(first_ten[0])\n",
        "print(first_ten[9])\n",
        "reversed_ten = reversed(first_ten)\n",
        "reversed_ten = list(reversed_ten)\n",
        "print(reversed_ten)\n",
        "print(5 in first_ten)\n",
        "print(6 not in first_ten)\n",
        "print(list(range(1, 11, 2)))"
      ],
      "metadata": {
        "colab": {
          "base_uri": "https://localhost:8080/"
        },
        "id": "y2gpihAXlZKJ",
        "outputId": "15f5cd84-050d-4cf3-9f98-3eb797094561"
      },
      "execution_count": 20,
      "outputs": [
        {
          "output_type": "stream",
          "name": "stdout",
          "text": [
            "range(0, 10)\n",
            "0\n",
            "9\n",
            "1\n",
            "10\n",
            "[10, 9, 8, 7, 6, 5, 4, 3, 2, 1]\n",
            "True\n",
            "False\n",
            "[1, 3, 5, 7, 9]\n"
          ]
        }
      ]
    },
    {
      "cell_type": "code",
      "source": [
        "#if, elif and else statements\n",
        "key_press = 'a'\n",
        "if key_press == 'r':\n",
        "  print(\"Move Right\")\n",
        "elif key_press == 'l':\n",
        "  print(\"Move Left\")\n",
        "else:\n",
        "  print(\"Invalid Key\")\n",
        "command = 'Move Right' if key_press == 'r' else 'Invalid Key'\n",
        "print(command)"
      ],
      "metadata": {
        "colab": {
          "base_uri": "https://localhost:8080/"
        },
        "id": "riyHJuNgvNSA",
        "outputId": "ded20b1e-6eb0-45bd-e783-704666d367ac"
      },
      "execution_count": 21,
      "outputs": [
        {
          "output_type": "stream",
          "name": "stdout",
          "text": [
            "Invalid Key\n",
            "Invalid Key\n"
          ]
        }
      ]
    },
    {
      "cell_type": "code",
      "source": [
        "num_lives = 0\n",
        "num_health_kits = 0\n",
        "health = 0\n",
        "if health <=0 and num_health_kits <=0:\n",
        "  num_lives -= 1\n",
        "  print(\"You died!\")\n",
        "  if num_lives <= 0:\n",
        "    print(\"Game Over!\")\n",
        "elif num_health_kits >= 1:\n",
        "  num_health_kits -= 1\n",
        "  print(\"Health Kit Used\")\n",
        "elif health <= 10:\n",
        "  print(\"Warning! 10% Health\")\n",
        "elif health < 50:\n",
        "  print(\"Warning! Less than 50% Health\")"
      ],
      "metadata": {
        "colab": {
          "base_uri": "https://localhost:8080/"
        },
        "id": "ozYofSOix-HV",
        "outputId": "dcacecc3-ae3b-4c3d-ecb4-1412942b8d57"
      },
      "execution_count": 22,
      "outputs": [
        {
          "output_type": "stream",
          "name": "stdout",
          "text": [
            "You died!\n",
            "Game Over!\n"
          ]
        }
      ]
    },
    {
      "cell_type": "code",
      "source": [
        "#while loops\n",
        "x_pos = 0\n",
        "y_pos = 1\n",
        "end_pos = 5\n",
        "enemy_pos = 3\n",
        "while x_pos < end_pos:\n",
        "  x_pos += 1\n",
        "  print(x_pos)\n",
        "  if y_pos > 0:\n",
        "    continue\n",
        "  if x_pos == enemy_pos:\n",
        "    print(\"You sunk my battleship!\")\n",
        "    break\n",
        "print(\"Game Over\")"
      ],
      "metadata": {
        "colab": {
          "base_uri": "https://localhost:8080/"
        },
        "id": "gqmtxTK__V41",
        "outputId": "416827fb-64c5-464f-9904-af25f6143f45"
      },
      "execution_count": 23,
      "outputs": [
        {
          "output_type": "stream",
          "name": "stdout",
          "text": [
            "1\n",
            "2\n",
            "3\n",
            "4\n",
            "5\n",
            "Game Over\n"
          ]
        }
      ]
    },
    {
      "cell_type": "code",
      "source": [
        "a_unit = 0\n",
        "fuel_content = 1\n",
        "z_unit = 10\n",
        "b_unit = 11\n",
        "h_unit = 17\n",
        "y_unit = 9\n",
        "while a_unit < z_unit:\n",
        "  a_unit += 1\n",
        "  print(a_unit)\n",
        "  if fuel_content > 0:\n",
        "    continue\n",
        "  if a_unit == b_unit or a_unit == h_unit:\n",
        "    print(\"Collision detected!\")\n",
        "    break\n",
        "  if a_unit == y_unit:\n",
        "    print(\"So close Commander!\")\n",
        "    break\n",
        "print(\"Game Over\") "
      ],
      "metadata": {
        "colab": {
          "base_uri": "https://localhost:8080/"
        },
        "id": "bsx3zqxyCs-e",
        "outputId": "4750d6f9-825b-4a3e-8577-1f088357804d"
      },
      "execution_count": 24,
      "outputs": [
        {
          "output_type": "stream",
          "name": "stdout",
          "text": [
            "1\n",
            "2\n",
            "3\n",
            "4\n",
            "5\n",
            "6\n",
            "7\n",
            "8\n",
            "9\n",
            "10\n",
            "Game Over\n"
          ]
        }
      ]
    },
    {
      "cell_type": "code",
      "source": [
        "#for loops\n",
        "for i in range(1,6):\n",
        "  print(i)\n",
        "\n",
        "inventory = ['Boots', 'Arrows', 'Bow', 'Sword', 'Shield']\n",
        "for item in inventory:\n",
        "  print(item)"
      ],
      "metadata": {
        "colab": {
          "base_uri": "https://localhost:8080/"
        },
        "id": "O2fWTeUjEpbf",
        "outputId": "db6dd70f-0473-4b45-90c7-fd912b5f1fcb"
      },
      "execution_count": 25,
      "outputs": [
        {
          "output_type": "stream",
          "name": "stdout",
          "text": [
            "1\n",
            "2\n",
            "3\n",
            "4\n",
            "5\n",
            "Boots\n",
            "Arrows\n",
            "Bow\n",
            "Sword\n",
            "Shield\n"
          ]
        }
      ]
    },
    {
      "cell_type": "code",
      "source": [
        "inventory = ['Boots', 'Arrows', 'Bow', 'Sword', 'Shield']\n",
        "i = 0\n",
        "while i < len(inventory):\n",
        "  print(inventory[i])\n",
        "  i += 1"
      ],
      "metadata": {
        "colab": {
          "base_uri": "https://localhost:8080/"
        },
        "id": "Lxfd-E5NHfvi",
        "outputId": "0c1edbd6-85bb-4251-cc3f-0a729ac9149e"
      },
      "execution_count": 26,
      "outputs": [
        {
          "output_type": "stream",
          "name": "stdout",
          "text": [
            "Boots\n",
            "Arrows\n",
            "Bow\n",
            "Sword\n",
            "Shield\n"
          ]
        }
      ]
    },
    {
      "cell_type": "code",
      "source": [
        "our_range = range(0, 10, 2)\n",
        "inventory = ['Boots', 'Arrows', 'Bow', 'Sword', 'Shield']\n",
        "for inventory in our_range:\n",
        "  print(inventory)"
      ],
      "metadata": {
        "colab": {
          "base_uri": "https://localhost:8080/"
        },
        "id": "kc1JXgDFH9Pk",
        "outputId": "64b3f3ed-2b53-49f7-b0a2-56c3e4f3bc0a"
      },
      "execution_count": 27,
      "outputs": [
        {
          "output_type": "stream",
          "name": "stdout",
          "text": [
            "0\n",
            "2\n",
            "4\n",
            "6\n",
            "8\n"
          ]
        }
      ]
    },
    {
      "cell_type": "code",
      "source": [
        "#functions\n",
        "x_pos = 0\n",
        "def move():\n",
        "  global x_pos\n",
        "  x_pos += 1\n",
        "move()\n",
        "print(x_pos)"
      ],
      "metadata": {
        "colab": {
          "base_uri": "https://localhost:8080/"
        },
        "id": "mxnPbWavItgw",
        "outputId": "7b18db23-39de-40fd-de3a-4bebca3e4871"
      },
      "execution_count": 28,
      "outputs": [
        {
          "output_type": "stream",
          "name": "stdout",
          "text": [
            "1\n"
          ]
        }
      ]
    },
    {
      "cell_type": "code",
      "source": [
        "#parameters and return values\n",
        "x_pos = 0\n",
        "def move(by_amount):\n",
        "  global x_pos\n",
        "  x_pos += by_amount\n",
        "move(5)\n",
        "print(x_pos)"
      ],
      "metadata": {
        "colab": {
          "base_uri": "https://localhost:8080/"
        },
        "id": "gN-q-2b6fgiV",
        "outputId": "b88aa6f7-a7e5-4fb5-a4fa-07bae6fd80ea"
      },
      "execution_count": 29,
      "outputs": [
        {
          "output_type": "stream",
          "name": "stdout",
          "text": [
            "5\n"
          ]
        }
      ]
    },
    {
      "cell_type": "code",
      "source": [
        "start_pos = 0\n",
        "end_pos = 10\n",
        "x_pos = 0\n",
        "def move(x_pos, by_amount=1):\n",
        "  global start_pos, end_pos\n",
        "  x_pos += by_amount\n",
        "  if x_pos < start_pos:\n",
        "    return start_pos\n",
        "  elif x_pos > end_pos:\n",
        "    return end_pos\n",
        "  return x_pos\n",
        "x_pos = move(x_pos, 15)\n",
        "print(x_pos)"
      ],
      "metadata": {
        "colab": {
          "base_uri": "https://localhost:8080/"
        },
        "id": "iZeSgXMKhCiz",
        "outputId": "148c220b-9221-4343-9874-e46a83181600"
      },
      "execution_count": 30,
      "outputs": [
        {
          "output_type": "stream",
          "name": "stdout",
          "text": [
            "10\n"
          ]
        }
      ]
    },
    {
      "cell_type": "code",
      "source": [
        "#classes\n",
        "class GameCharacter:\n",
        "  speed = 1.0\n",
        "  def __init__(self, name, x_pos, health):\n",
        "    self.name = name\n",
        "    self.x_pos = x_pos\n",
        "    self.health = health\n",
        "  def move(self, by_amount):\n",
        "    self.x_pos += by_amount\n",
        "  def take_damage(self, amount):\n",
        "    self.health -= amount\n",
        "    if self.health < 0:\n",
        "      self.health = 0\n",
        "  def check_is_dead(self):\n",
        "    return self.health <=0 \n",
        "  def healing(self, amount):\n",
        "    self.health += amount\n",
        "    if self.health > 200:\n",
        "      self.health = 200\n",
        "  def change_speed(to_speed):\n",
        "    GameCharacter.speed = to_speed"
      ],
      "metadata": {
        "id": "diBIPFOG4xbk"
      },
      "execution_count": 40,
      "outputs": []
    },
    {
      "cell_type": "code",
      "source": [
        "#objects\n",
        "game_character = GameCharacter('Luna', 5, 100)\n",
        "other_character = GameCharacter('Toula', 7, 150)\n",
        "print(type(game_character))\n",
        "print(game_character.name)\n",
        "print(other_character.name)\n",
        "game_character.move(3)\n",
        "print(game_character.x_pos)\n",
        "game_character.take_damage(200)\n",
        "print(game_character.health)\n",
        "print(game_character.check_is_dead())\n",
        "game_character.healing(500)\n",
        "print(game_character.health)\n",
        "print(game_character.check_is_dead())"
      ],
      "metadata": {
        "colab": {
          "base_uri": "https://localhost:8080/"
        },
        "id": "OaHwoF2w_lBn",
        "outputId": "1599c42e-703b-41c7-f51d-8cf6ad2ef230"
      },
      "execution_count": 32,
      "outputs": [
        {
          "output_type": "stream",
          "name": "stdout",
          "text": [
            "<class '__main__.GameCharacter'>\n",
            "Luna\n",
            "Toula\n",
            "8\n",
            "0\n",
            "True\n",
            "200\n",
            "False\n"
          ]
        }
      ]
    },
    {
      "cell_type": "code",
      "source": [
        "#inheritance \n",
        "class PlayerCharacter(GameCharacter):\n",
        "  def __init__(self, name, x_pos, health, num_lives):\n",
        "    super().__init__(name, x_pos, health)\n",
        "    self.max_health = health\n",
        "    self.num_lives = num_lives\n",
        "  def take_damage(self, amount):\n",
        "    self.health -= amount\n",
        "    if self.health <= 0:\n",
        "      self.num_lives -= 1\n",
        "      self.health = self.max_health\n",
        "  def check_is_dead(self):\n",
        "    return self.health <= 0 and self.num_lives <= 0"
      ],
      "metadata": {
        "id": "HIMuFc6QFooz"
      },
      "execution_count": 33,
      "outputs": []
    },
    {
      "cell_type": "code",
      "source": [
        "pc = PlayerCharacter('Sparky', 0, 100, 3)\n",
        "gc = GameCharacter('Wolf', 0, 100)\n",
        "print(pc.max_health)\n",
        "pc.move(2)\n",
        "gc.move(2)\n",
        "print(pc.x_pos)\n",
        "print(gc.x_pos)\n",
        "pc.take_damage(150)\n",
        "gc.take_damage(150)\n",
        "print(pc.health)\n",
        "print(gc.health)\n",
        "print(pc.check_is_dead())\n",
        "print(gc.check_is_dead())\n",
        "print(pc.num_lives)"
      ],
      "metadata": {
        "colab": {
          "base_uri": "https://localhost:8080/"
        },
        "id": "_Jt-2JFcXcPY",
        "outputId": "fa53950b-0317-439b-bad3-a5c3824a6ff8"
      },
      "execution_count": 34,
      "outputs": [
        {
          "output_type": "stream",
          "name": "stdout",
          "text": [
            "100\n",
            "2\n",
            "2\n",
            "100\n",
            "0\n",
            "False\n",
            "True\n",
            "2\n"
          ]
        }
      ]
    },
    {
      "cell_type": "code",
      "source": [
        "class MainCharacter(PlayerCharacter):\n",
        "  def __init__(self, name, x_pos, health, num_lives, weapon):\n",
        "    super().__init__(name, x_pos, health, num_lives)\n",
        "    self.weapon = weapon\n",
        "    self.max_lives = num_lives\n",
        "  def new_life(self, amount):\n",
        "    self.num_lives += amount\n",
        "    if self.num_lives >= 5:\n",
        "      self.num_lives = self.max_lives"
      ],
      "metadata": {
        "id": "VI9o6AKRZIj3"
      },
      "execution_count": 35,
      "outputs": []
    },
    {
      "cell_type": "code",
      "source": [
        "mc = MainCharacter('Mann', 5, 100, 5, 'Sword')\n",
        "mc.take_damage(150)\n",
        "mc.take_damage(150)\n",
        "print(mc.num_lives)\n",
        "mc.new_life(4)\n",
        "print(mc.num_lives)"
      ],
      "metadata": {
        "colab": {
          "base_uri": "https://localhost:8080/"
        },
        "id": "wtRlUqiIaoW8",
        "outputId": "ef2ab69e-9eff-4de4-b79c-4dec21ee5aa0"
      },
      "execution_count": 36,
      "outputs": [
        {
          "output_type": "stream",
          "name": "stdout",
          "text": [
            "3\n",
            "5\n"
          ]
        }
      ]
    },
    {
      "cell_type": "code",
      "source": [
        "#static members\n",
        "gc_1 = GameCharacter('Wolf', 0, 100)\n",
        "gc_2 = GameCharacter('Lion', 2, 150)\n",
        "print(gc_1.speed)\n",
        "print(gc_2.speed)\n",
        "print(GameCharacter.speed)\n",
        "GameCharacter.speed = 2.0\n",
        "print(gc_1.speed)\n",
        "print(gc_2.speed)\n",
        "GameCharacter.change_speed(3.0)\n",
        "print(gc_1.speed)\n",
        "print(gc_2.speed)"
      ],
      "metadata": {
        "colab": {
          "base_uri": "https://localhost:8080/"
        },
        "id": "WBS-InLmApsY",
        "outputId": "743ea04c-9478-4b4f-9aeb-b27c2ff1cd15"
      },
      "execution_count": 41,
      "outputs": [
        {
          "output_type": "stream",
          "name": "stdout",
          "text": [
            "1.0\n",
            "1.0\n",
            "1.0\n",
            "2.0\n",
            "2.0\n",
            "3.0\n",
            "3.0\n"
          ]
        }
      ]
    }
  ]
}