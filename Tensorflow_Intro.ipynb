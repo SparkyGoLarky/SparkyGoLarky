{
  "nbformat": 4,
  "nbformat_minor": 0,
  "metadata": {
    "colab": {
      "provenance": [],
      "authorship_tag": "ABX9TyNhGNSG9Pmivv2G8zTVmsHI",
      "include_colab_link": true
    },
    "kernelspec": {
      "name": "python3",
      "display_name": "Python 3"
    },
    "language_info": {
      "name": "python"
    }
  },
  "cells": [
    {
      "cell_type": "markdown",
      "metadata": {
        "id": "view-in-github",
        "colab_type": "text"
      },
      "source": [
        "<a href=\"https://colab.research.google.com/github/SparkyGoLarky/SparkyGoLarky/blob/main/Tensorflow_Intro.ipynb\" target=\"_parent\"><img src=\"https://colab.research.google.com/assets/colab-badge.svg\" alt=\"Open In Colab\"/></a>"
      ]
    },
    {
      "cell_type": "code",
      "execution_count": 3,
      "metadata": {
        "id": "P6V48TaWHc60"
      },
      "outputs": [],
      "source": [
        "import tensorflow as tf\n",
        "import numpy as np\n",
        "import matplotlib.pyplot as plt"
      ]
    },
    {
      "cell_type": "code",
      "source": [
        "m = 2\n",
        "b = 0.5\n",
        "x = np.linspace(0,4,100)\n",
        "y = (m*x)+ b + np.random.randn(*x.shape) + 0.25\n",
        "print(y)"
      ],
      "metadata": {
        "colab": {
          "base_uri": "https://localhost:8080/"
        },
        "id": "wvg9ZY5qBEwX",
        "outputId": "1e108d75-d021-4dd0-c2c7-8e8caf41d44b"
      },
      "execution_count": 4,
      "outputs": [
        {
          "output_type": "stream",
          "name": "stdout",
          "text": [
            "[ 1.57948902  0.87146076  1.34152634  1.12518586  0.44510107  0.73820391\n",
            "  1.39645414  0.95925241  3.41618291  1.37744342  1.11232934  3.58364575\n",
            "  1.23258933  1.47025176  1.7107705   2.08048752  2.73775224  3.19243722\n",
            "  3.44902385  3.13720978  2.98815468  4.1697231   5.38281279  3.11417171\n",
            "  2.35163124  1.75039101  1.87694671  3.28524352  0.64703091  1.84685457\n",
            "  3.28475815  3.0626836   4.54332789  1.91140232  5.0609152   3.0782539\n",
            "  4.71160141  3.74396943  5.8265386   3.32680108  5.00966261  4.09109405\n",
            "  4.09307577  3.34474178  4.09781695  2.4772243   4.32829887  3.83565959\n",
            "  5.47197998  6.35202669  6.38099382  2.76958099  5.4352295   4.42821875\n",
            "  5.68436281  4.69323026  5.54488241  4.82416686  4.18540847  5.64618043\n",
            "  6.39747848  5.70448815  5.91952985  5.67055357  3.4954979   5.47767223\n",
            "  6.57865206  6.08782461  7.09066232  6.02822847  6.3333096   5.62849576\n",
            "  7.72856834  7.69292847  6.91452525  6.81509447  6.93778634  6.46801594\n",
            "  5.93970363  7.95919696  8.88436058  6.82337443  8.36132691  7.30902889\n",
            "  7.29272257  7.21388639  6.63837262  9.28882135  7.72798987  7.14526055\n",
            "  7.02828282 10.35148939  9.56522514  7.06069395  6.70275969  8.95310835\n",
            " 10.83867989  8.51022761  7.33491977  9.26788316]\n"
          ]
        }
      ]
    },
    {
      "cell_type": "code",
      "source": [
        "plt.scatter(x,y)\n",
        "plt.show()"
      ],
      "metadata": {
        "colab": {
          "base_uri": "https://localhost:8080/",
          "height": 265
        },
        "id": "N07d_ti6CKOE",
        "outputId": "df5c3f93-a974-4a7e-e338-c2475f5a4793"
      },
      "execution_count": 5,
      "outputs": [
        {
          "output_type": "display_data",
          "data": {
            "text/plain": [
              "<Figure size 432x288 with 1 Axes>"
            ],
            "image/png": "[encoded data removed]"
          },
          "metadata": {
            "needs_background": "light"
          }
        }
      ]
    },
    {
      "cell_type": "code",
      "source": [
        "class Model:\n",
        "  def __init__(self):\n",
        "    self.weight = tf.Variable(10.0)\n",
        "    self.bias = tf.Variable(10.0)\n",
        "  def __call__(self, x):\n",
        "    return (self.weight * x) + self.bias"
      ],
      "metadata": {
        "id": "uvL0pEysDNnB"
      },
      "execution_count": 6,
      "outputs": []
    },
    {
      "cell_type": "code",
      "source": [
        "def calculate_loss(y_actual, y_expected):\n",
        "  return tf.reduce_mean(tf.square(y_actual - y_expected))"
      ],
      "metadata": {
        "id": "Nufzq7QOkZSU"
      },
      "execution_count": 7,
      "outputs": []
    },
    {
      "cell_type": "code",
      "source": [
        "def train(model, x, y_expected, learning_rate):\n",
        "  with tf.GradientTape() as gt:\n",
        "    y_output = model(x)\n",
        "    loss = calculate_loss(y_output, y_expected)\n",
        "  new_weight, new_bias = gt.gradient(loss, [model.weight, model.bias])\n",
        "  model.weight.assign_sub(new_weight * learning_rate)\n",
        "  model.bias.assign_sub(new_bias * learning_rate)"
      ],
      "metadata": {
        "id": "cJiaw79unOk7"
      },
      "execution_count": 8,
      "outputs": []
    },
    {
      "cell_type": "code",
      "source": [
        "model = Model()\n",
        "epochs = 100\n",
        "learning_rate = 0.15\n",
        "current_epochs = []\n",
        "losses = []\n",
        "for epoch in range(epochs):\n",
        "  y_output = model(x)\n",
        "  loss = calculate_loss(y_output, y)\n",
        "  print(f\"Epoch: {epoch}, Loss: {loss.numpy()}\")\n",
        "  current_epochs.append(epoch)\n",
        "  losses.append(loss)\n",
        "  train(model, x, y, learning_rate)\n",
        "plt.plot(current_epochs, losses)\n",
        "plt.show()"
      ],
      "metadata": {
        "id": "yQME-0SNrz1U",
        "colab": {
          "base_uri": "https://localhost:8080/",
          "height": 1000
        },
        "outputId": "fb7af430-dd81-4a49-b7b5-38dab9d8959f"
      },
      "execution_count": 9,
      "outputs": [
        {
          "output_type": "stream",
          "name": "stdout",
          "text": [
            "Epoch: 0, Loss: 722.278076171875\n",
            "Epoch: 1, Loss: 512.9805297851562\n",
            "Epoch: 2, Loss: 364.59637451171875\n",
            "Epoch: 3, Loss: 259.3750915527344\n",
            "Epoch: 4, Loss: 184.74151611328125\n",
            "Epoch: 5, Loss: 131.78663635253906\n",
            "Epoch: 6, Loss: 94.1985855102539\n",
            "Epoch: 7, Loss: 67.50517272949219\n",
            "Epoch: 8, Loss: 48.53731918334961\n",
            "Epoch: 9, Loss: 35.04933166503906\n",
            "Epoch: 10, Loss: 25.449548721313477\n",
            "Epoch: 11, Loss: 18.609699249267578\n",
            "Epoch: 12, Loss: 13.729896545410156\n",
            "Epoch: 13, Loss: 10.242905616760254\n",
            "Epoch: 14, Loss: 7.7463836669921875\n",
            "Epoch: 15, Loss: 5.954835414886475\n",
            "Epoch: 16, Loss: 4.665609359741211\n",
            "Epoch: 17, Loss: 3.7347841262817383\n",
            "Epoch: 18, Loss: 3.0600829124450684\n",
            "Epoch: 19, Loss: 2.5687735080718994\n",
            "Epoch: 20, Loss: 2.2090845108032227\n",
            "Epoch: 21, Loss: 1.9441251754760742\n",
            "Epoch: 22, Loss: 1.7475732564926147\n",
            "Epoch: 23, Loss: 1.6006158590316772\n",
            "Epoch: 24, Loss: 1.4897805452346802\n",
            "Epoch: 25, Loss: 1.405397891998291\n",
            "Epoch: 26, Loss: 1.3405070304870605\n",
            "Epoch: 27, Loss: 1.2900804281234741\n",
            "Epoch: 28, Loss: 1.2504726648330688\n",
            "Epoch: 29, Loss: 1.219028115272522\n",
            "Epoch: 30, Loss: 1.1938011646270752\n",
            "Epoch: 31, Loss: 1.1733582019805908\n",
            "Epoch: 32, Loss: 1.1566345691680908\n",
            "Epoch: 33, Loss: 1.1428335905075073\n",
            "Epoch: 34, Loss: 1.1313540935516357\n",
            "Epoch: 35, Loss: 1.121738314628601\n",
            "Epoch: 36, Loss: 1.1136330366134644\n",
            "Epoch: 37, Loss: 1.1067641973495483\n",
            "Epoch: 38, Loss: 1.1009162664413452\n",
            "Epoch: 39, Loss: 1.0959173440933228\n",
            "Epoch: 40, Loss: 1.0916303396224976\n",
            "Epoch: 41, Loss: 1.0879433155059814\n",
            "Epoch: 42, Loss: 1.084764838218689\n",
            "Epoch: 43, Loss: 1.082019329071045\n",
            "Epoch: 44, Loss: 1.0796443223953247\n",
            "Epoch: 45, Loss: 1.0775867700576782\n",
            "Epoch: 46, Loss: 1.0758025646209717\n",
            "Epoch: 47, Loss: 1.074253797531128\n",
            "Epoch: 48, Loss: 1.0729085206985474\n",
            "Epoch: 49, Loss: 1.0717393159866333\n",
            "Epoch: 50, Loss: 1.0707224607467651\n",
            "Epoch: 51, Loss: 1.0698379278182983\n",
            "Epoch: 52, Loss: 1.069068193435669\n",
            "Epoch: 53, Loss: 1.0683982372283936\n",
            "Epoch: 54, Loss: 1.067814826965332\n",
            "Epoch: 55, Loss: 1.0673068761825562\n",
            "Epoch: 56, Loss: 1.0668643712997437\n",
            "Epoch: 57, Loss: 1.0664790868759155\n",
            "Epoch: 58, Loss: 1.0661433935165405\n",
            "Epoch: 59, Loss: 1.065850853919983\n",
            "Epoch: 60, Loss: 1.065596103668213\n",
            "Epoch: 61, Loss: 1.0653742551803589\n",
            "Epoch: 62, Loss: 1.065180778503418\n",
            "Epoch: 63, Loss: 1.0650123357772827\n",
            "Epoch: 64, Loss: 1.0648654699325562\n",
            "Epoch: 65, Loss: 1.0647375583648682\n",
            "Epoch: 66, Loss: 1.0646260976791382\n",
            "Epoch: 67, Loss: 1.0645288228988647\n",
            "Epoch: 68, Loss: 1.0644443035125732\n",
            "Epoch: 69, Loss: 1.0643703937530518\n",
            "Epoch: 70, Loss: 1.0643061399459839\n",
            "Epoch: 71, Loss: 1.0642499923706055\n",
            "Epoch: 72, Loss: 1.0642012357711792\n",
            "Epoch: 73, Loss: 1.0641586780548096\n",
            "Epoch: 74, Loss: 1.0641214847564697\n",
            "Epoch: 75, Loss: 1.0640891790390015\n",
            "Epoch: 76, Loss: 1.064061164855957\n",
            "Epoch: 77, Loss: 1.0640366077423096\n",
            "Epoch: 78, Loss: 1.0640151500701904\n",
            "Epoch: 79, Loss: 1.0639965534210205\n",
            "Epoch: 80, Loss: 1.0639803409576416\n",
            "Epoch: 81, Loss: 1.0639660358428955\n",
            "Epoch: 82, Loss: 1.0639537572860718\n",
            "Epoch: 83, Loss: 1.0639429092407227\n",
            "Epoch: 84, Loss: 1.0639336109161377\n",
            "Epoch: 85, Loss: 1.0639255046844482\n",
            "Epoch: 86, Loss: 1.0639184713363647\n",
            "Epoch: 87, Loss: 1.0639121532440186\n",
            "Epoch: 88, Loss: 1.0639069080352783\n",
            "Epoch: 89, Loss: 1.0639021396636963\n",
            "Epoch: 90, Loss: 1.063897967338562\n",
            "Epoch: 91, Loss: 1.0638943910598755\n",
            "Epoch: 92, Loss: 1.0638911724090576\n",
            "Epoch: 93, Loss: 1.063888669013977\n",
            "Epoch: 94, Loss: 1.063886284828186\n",
            "Epoch: 95, Loss: 1.0638842582702637\n",
            "Epoch: 96, Loss: 1.0638823509216309\n",
            "Epoch: 97, Loss: 1.0638808012008667\n",
            "Epoch: 98, Loss: 1.0638794898986816\n",
            "Epoch: 99, Loss: 1.0638782978057861\n"
          ]
        },
        {
          "output_type": "display_data",
          "data": {
            "text/plain": [
              "<Figure size 432x288 with 1 Axes>"
            ],
            "image/png": "[encoded data removed]"
          },
          "metadata": {
            "needs_background": "light"
          }
        }
      ]
    },
    {
      "cell_type": "code",
      "source": [
        "new_m = model.weight.numpy()\n",
        "new_b = model.bias.numpy()\n",
        "print(new_m)\n",
        "print(new_b)"
      ],
      "metadata": {
        "colab": {
          "base_uri": "https://localhost:8080/"
        },
        "id": "O9POek_cWRHM",
        "outputId": "ae5e7164-925b-42c5-db1c-fcea7a58b20e"
      },
      "execution_count": 10,
      "outputs": [
        {
          "output_type": "stream",
          "name": "stdout",
          "text": [
            "1.9282378\n",
            "0.99249256\n"
          ]
        }
      ]
    },
    {
      "cell_type": "code",
      "source": [
        "new_y = (new_m * x) + new_b\n",
        "plt.scatter(x,y)\n",
        "plt.scatter(x,new_y)\n",
        "plt.show()"
      ],
      "metadata": {
        "colab": {
          "base_uri": "https://localhost:8080/",
          "height": 265
        },
        "id": "w4p3xHEFXXnN",
        "outputId": "52f9d23f-bda2-4194-9aa8-1c369079d2d8"
      },
      "execution_count": 11,
      "outputs": [
        {
          "output_type": "display_data",
          "data": {
            "text/plain": [
              "<Figure size 432x288 with 1 Axes>"
            ],
            "image/png": "[encoded data removed]"
          },
          "metadata": {
            "needs_background": "light"
          }
        }
      ]
    }
  ]
}