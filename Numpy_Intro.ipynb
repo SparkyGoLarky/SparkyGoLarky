{
  "nbformat": 4,
  "nbformat_minor": 0,
  "metadata": {
    "colab": {
      "provenance": [],
      "authorship_tag": "ABX9TyOKEqH8/DDkPPDOFSHkT0na",
      "include_colab_link": true
    },
    "kernelspec": {
      "name": "python3",
      "display_name": "Python 3"
    },
    "language_info": {
      "name": "python"
    }
  },
  "cells": [
    {
      "cell_type": "markdown",
      "metadata": {
        "id": "view-in-github",
        "colab_type": "text"
      },
      "source": [
        "<a href=\"https://colab.research.google.com/github/SparkyGoLarky/SparkyGoLarky/blob/main/Numpy_Intro.ipynb\" target=\"_parent\"><img src=\"https://colab.research.google.com/assets/colab-badge.svg\" alt=\"Open In Colab\"/></a>"
      ]
    },
    {
      "cell_type": "code",
      "execution_count": null,
      "metadata": {
        "id": "AbLeAfauPYnv"
      },
      "outputs": [],
      "source": [
        "import numpy as np"
      ]
    },
    {
      "cell_type": "code",
      "source": [
        "#np arrays\n",
        "x_values = [1,4,5,3,3,5,7,3,5,6]\n",
        "numpy_x_values = np.array(x_values)\n",
        "print(x_values)\n",
        "print(type(x_values))\n",
        "print(numpy_x_values)\n",
        "print(type(numpy_x_values))"
      ],
      "metadata": {
        "colab": {
          "base_uri": "https://localhost:8080/"
        },
        "id": "81-G09gDRCs_",
        "outputId": "3f503c6a-917d-4109-b73f-1291dd332739"
      },
      "execution_count": null,
      "outputs": [
        {
          "output_type": "stream",
          "name": "stdout",
          "text": [
            "[1, 4, 5, 3, 3, 5, 7, 3, 5, 6]\n",
            "<class 'list'>\n",
            "[1 4 5 3 3 5 7 3 5 6]\n",
            "<class 'numpy.ndarray'>\n"
          ]
        }
      ]
    },
    {
      "cell_type": "code",
      "source": [
        "#0 & 1 arrays\n",
        "ones_array = np.ones(10, dtype=int)\n",
        "print(ones_array)\n",
        "zeros_array = np.zeros(5, dtype=int)\n",
        "print(zeros_array)\n",
        "empty_array = np.empty(4, dtype=int)\n",
        "print(empty_array)"
      ],
      "metadata": {
        "colab": {
          "base_uri": "https://localhost:8080/"
        },
        "id": "V5i2om84bo-z",
        "outputId": "491ba0fe-7ebd-4d0d-e632-8a3dbf9711ec"
      },
      "execution_count": null,
      "outputs": [
        {
          "output_type": "stream",
          "name": "stdout",
          "text": [
            "[1 1 1 1 1 1 1 1 1 1]\n",
            "[0 0 0 0 0]\n",
            "[1 1 1 0]\n"
          ]
        }
      ]
    },
    {
      "cell_type": "code",
      "source": [
        "#np range arrays\n",
        "range_array = np.arange(10)\n",
        "print(range_array)\n",
        "range_array = np.arange(10, 21)\n",
        "print(range_array)\n",
        "range_array = np.arange(10, 101, 10)\n",
        "print(range_array)"
      ],
      "metadata": {
        "colab": {
          "base_uri": "https://localhost:8080/"
        },
        "id": "YcFR9IJHdl1-",
        "outputId": "1117aa77-98ec-40d2-c557-b9b660ee551f"
      },
      "execution_count": null,
      "outputs": [
        {
          "output_type": "stream",
          "name": "stdout",
          "text": [
            "[0 1 2 3 4 5 6 7 8 9]\n",
            "[10 11 12 13 14 15 16 17 18 19 20]\n",
            "[ 10  20  30  40  50  60  70  80  90 100]\n"
          ]
        }
      ]
    },
    {
      "cell_type": "code",
      "source": [
        "#linspace array\n",
        "linspace_array = np.linspace(1, 10, 5)\n",
        "print(linspace_array)\n",
        "linspace_array = np.linspace(1, 100, 5)\n",
        "print(linspace_array)\n",
        "linspace_array = np.linspace(250, 1750, 10)\n",
        "print(linspace_array)"
      ],
      "metadata": {
        "colab": {
          "base_uri": "https://localhost:8080/"
        },
        "id": "HguCeM1-elIR",
        "outputId": "0a402968-3f02-4ece-802f-e098d69bc72d"
      },
      "execution_count": null,
      "outputs": [
        {
          "output_type": "stream",
          "name": "stdout",
          "text": [
            "[ 1.    3.25  5.5   7.75 10.  ]\n",
            "[  1.    25.75  50.5   75.25 100.  ]\n",
            "[ 250.          416.66666667  583.33333333  750.          916.66666667\n",
            " 1083.33333333 1250.         1416.66666667 1583.33333333 1750.        ]\n"
          ]
        }
      ]
    },
    {
      "cell_type": "code",
      "source": [
        "#np matrices\n",
        "matrix = [[1,2,3], [4,5,6], [7,8,9]]\n",
        "numpy_matrix = np.array(matrix)\n",
        "print(matrix)\n",
        "print(numpy_matrix)\n",
        "print(np.array([[[1,2],[3,4]],[[5,6],[7,8]]]))"
      ],
      "metadata": {
        "colab": {
          "base_uri": "https://localhost:8080/"
        },
        "id": "o25xwDznhxDs",
        "outputId": "526bb554-0123-4137-d873-9b8a90fc89cf"
      },
      "execution_count": null,
      "outputs": [
        {
          "output_type": "stream",
          "name": "stdout",
          "text": [
            "[[1, 2, 3], [4, 5, 6], [7, 8, 9]]\n",
            "[[1 2 3]\n",
            " [4 5 6]\n",
            " [7 8 9]]\n",
            "[[[1 2]\n",
            "  [3 4]]\n",
            "\n",
            " [[5 6]\n",
            "  [7 8]]]\n"
          ]
        }
      ]
    },
    {
      "cell_type": "code",
      "source": [
        "zeros_array = np.zeros((2, 3))\n",
        "print(zeros_array)\n",
        "ones_array = np.ones((3, 2))\n",
        "print(ones_array)"
      ],
      "metadata": {
        "colab": {
          "base_uri": "https://localhost:8080/"
        },
        "id": "a4iDk7JYkok2",
        "outputId": "7f001af8-d55b-49d1-fb1d-1beb044d7cc9"
      },
      "execution_count": null,
      "outputs": [
        {
          "output_type": "stream",
          "name": "stdout",
          "text": [
            "[[0. 0. 0.]\n",
            " [0. 0. 0.]]\n",
            "[[1. 1.]\n",
            " [1. 1.]\n",
            " [1. 1.]]\n"
          ]
        }
      ]
    },
    {
      "cell_type": "code",
      "source": [
        "#reshape\n",
        "some_array = np.array([1,2,3,4,5,6])\n",
        "reshaped_array = some_array.reshape(2,3)\n",
        "print(reshaped_array)"
      ],
      "metadata": {
        "colab": {
          "base_uri": "https://localhost:8080/"
        },
        "id": "NywRAOvflzUo",
        "outputId": "bedd1879-d532-4bff-d084-336372b62948"
      },
      "execution_count": null,
      "outputs": [
        {
          "output_type": "stream",
          "name": "stdout",
          "text": [
            "[[1 2 3]\n",
            " [4 5 6]]\n"
          ]
        }
      ]
    },
    {
      "cell_type": "code",
      "source": [
        "#function matrix creation\n",
        "def f(r, c):\n",
        "  return r*c\n",
        "some_matrix = np.fromfunction(f,(3,3))\n",
        "print(some_matrix)"
      ],
      "metadata": {
        "colab": {
          "base_uri": "https://localhost:8080/"
        },
        "id": "l4s9ONuVnNCr",
        "outputId": "e9dfd1ca-4d51-4213-f6f9-3772a6249769"
      },
      "execution_count": null,
      "outputs": [
        {
          "output_type": "stream",
          "name": "stdout",
          "text": [
            "[[0. 0. 0.]\n",
            " [0. 1. 2.]\n",
            " [0. 2. 4.]]\n"
          ]
        }
      ]
    },
    {
      "cell_type": "code",
      "source": [
        "range_array = np.arange(10).reshape(2,5)\n",
        "print(range_array)"
      ],
      "metadata": {
        "colab": {
          "base_uri": "https://localhost:8080/"
        },
        "id": "xuW8xoVcrBvz",
        "outputId": "f49fdaab-51bf-4fb4-c57c-03884ea5caf9"
      },
      "execution_count": null,
      "outputs": [
        {
          "output_type": "stream",
          "name": "stdout",
          "text": [
            "[[0 1 2 3 4]\n",
            " [5 6 7 8 9]]\n"
          ]
        }
      ]
    },
    {
      "cell_type": "code",
      "source": [
        "#np elements\n",
        "some_array = np.array([1,2,3,4,5,6,7,8,9,10])\n",
        "print(some_array[0])\n",
        "print(some_array[9])\n",
        "some_array[9] = 11\n",
        "print(some_array)"
      ],
      "metadata": {
        "colab": {
          "base_uri": "https://localhost:8080/"
        },
        "id": "bTpWGOajqb6F",
        "outputId": "ec4f8846-c63c-4222-8377-0c6a3d231048"
      },
      "execution_count": null,
      "outputs": [
        {
          "output_type": "stream",
          "name": "stdout",
          "text": [
            "1\n",
            "10\n",
            "[ 1  2  3  4  5  6  7  8  9 11]\n"
          ]
        }
      ]
    },
    {
      "cell_type": "code",
      "source": [
        "some_matrix = np.array([[1,2,3],[4,5,6],[7,8,9]])\n",
        "print(some_matrix)\n",
        "print(some_matrix[0])\n",
        "print(some_matrix[0,2])\n",
        "some_matrix[1,1] = 10\n",
        "print(some_matrix)\n",
        "some_matrix[2] = np.array([10,11,12])\n",
        "print(some_matrix)"
      ],
      "metadata": {
        "colab": {
          "base_uri": "https://localhost:8080/"
        },
        "id": "RDw1KFX3sJKx",
        "outputId": "b75b0b9d-d8ae-4b2a-fb4b-8cecd6bf3060"
      },
      "execution_count": null,
      "outputs": [
        {
          "output_type": "stream",
          "name": "stdout",
          "text": [
            "[[1 2 3]\n",
            " [4 5 6]\n",
            " [7 8 9]]\n",
            "[1 2 3]\n",
            "3\n",
            "[[ 1  2  3]\n",
            " [ 4 10  6]\n",
            " [ 7  8  9]]\n",
            "[[ 1  2  3]\n",
            " [ 4 10  6]\n",
            " [10 11 12]]\n"
          ]
        }
      ]
    },
    {
      "cell_type": "code",
      "source": [
        "#slice\n",
        "some_array = np.array([1,2,3,4,5,6,7,8,9,10])\n",
        "print(some_array[0:5])\n",
        "print(some_array[-1])\n",
        "some_array[5:10] = 7\n",
        "print(some_array)"
      ],
      "metadata": {
        "colab": {
          "base_uri": "https://localhost:8080/"
        },
        "id": "1hC6hBkcwVlD",
        "outputId": "0789ea3a-48d2-4341-851c-20a79b7741cf"
      },
      "execution_count": null,
      "outputs": [
        {
          "output_type": "stream",
          "name": "stdout",
          "text": [
            "[1 2 3 4 5]\n",
            "10\n",
            "[1 2 3 4 5 7 7 7 7 7]\n"
          ]
        }
      ]
    },
    {
      "cell_type": "code",
      "source": [
        "some_matrix = np.array([[1,2,3],[4,5,6],[7,8,9]])\n",
        "print(some_matrix[0,0:2])\n",
        "print(some_matrix[:,1])\n",
        "print(some_matrix[:,1:3])"
      ],
      "metadata": {
        "colab": {
          "base_uri": "https://localhost:8080/"
        },
        "id": "fTiPe9uMydFt",
        "outputId": "e97b0f51-8d96-49b7-adfe-893c44f08221"
      },
      "execution_count": null,
      "outputs": [
        {
          "output_type": "stream",
          "name": "stdout",
          "text": [
            "[1 2]\n",
            "[2 5 8]\n",
            "[[2 3]\n",
            " [5 6]\n",
            " [8 9]]\n"
          ]
        }
      ]
    },
    {
      "cell_type": "code",
      "source": [
        "#arithmetic operations\n",
        "some_array = np.array([1,2,3,4,5])\n",
        "result = some_array * 2\n",
        "print(result)\n",
        "result = some_array + np.array([6,7,8,9,10])\n",
        "print(result)\n",
        "result = some_array[:3] + np.array([6,7,8])\n",
        "print(result)"
      ],
      "metadata": {
        "colab": {
          "base_uri": "https://localhost:8080/"
        },
        "id": "pz7x3eE-b9j4",
        "outputId": "b235b4f5-c8e3-46f5-e920-50e3146d28b4"
      },
      "execution_count": null,
      "outputs": [
        {
          "output_type": "stream",
          "name": "stdout",
          "text": [
            "[ 2  4  6  8 10]\n",
            "[ 7  9 11 13 15]\n",
            "[ 7  9 11]\n"
          ]
        }
      ]
    },
    {
      "cell_type": "code",
      "source": [
        "some_matrix = np.array([[1,2,3],[4,5,6],[7,8,9]])\n",
        "result = some_matrix + 5\n",
        "print(result)\n",
        "result = some_matrix + np.array([[1,2,3],[4,5,6],[7,8,9]])\n",
        "print(result)\n",
        "result = some_matrix[0] + np.array([[1,2,3],[4,5,6],[7,8,9]])[0]\n",
        "print(result)"
      ],
      "metadata": {
        "colab": {
          "base_uri": "https://localhost:8080/"
        },
        "id": "ZLjm-v5OeFva",
        "outputId": "c2703536-35fa-4ccd-e9dc-4197d2068032"
      },
      "execution_count": null,
      "outputs": [
        {
          "output_type": "stream",
          "name": "stdout",
          "text": [
            "[[ 6  7  8]\n",
            " [ 9 10 11]\n",
            " [12 13 14]]\n",
            "[[ 2  4  6]\n",
            " [ 8 10 12]\n",
            " [14 16 18]]\n",
            "[2 4 6]\n"
          ]
        }
      ]
    },
    {
      "cell_type": "code",
      "source": [
        "#dot product multiplication \n",
        "matrix_1 = np.array([[1,2,3],[4,5,6]])\n",
        "matrix_2 = np.array([[7,8],[9,10],[11,12]])\n",
        "result = matrix_1.dot(matrix_2)\n",
        "print(result)\n",
        "result = matrix_1 @ matrix_2\n",
        "print(result)"
      ],
      "metadata": {
        "colab": {
          "base_uri": "https://localhost:8080/"
        },
        "id": "LBtsFPrKg7dl",
        "outputId": "4da7a198-c809-4920-d042-689fb0c9bf29"
      },
      "execution_count": null,
      "outputs": [
        {
          "output_type": "stream",
          "name": "stdout",
          "text": [
            "[[ 58  64]\n",
            " [139 154]]\n",
            "[[ 58  64]\n",
            " [139 154]]\n"
          ]
        }
      ]
    },
    {
      "cell_type": "code",
      "source": [
        "#np functions\n",
        "#append\n",
        "some_array = np.array([1,2,3])\n",
        "result = np.append(some_array, 4)\n",
        "print(result)\n",
        "result = np.append(some_array, [4,5,6])\n",
        "print(result)\n",
        "result = np.append(some_array, [some_array, some_array])\n",
        "print(result)"
      ],
      "metadata": {
        "colab": {
          "base_uri": "https://localhost:8080/"
        },
        "id": "6pzArI9sls17",
        "outputId": "1fdd267d-ddc9-4537-cdb4-3d7c79adb400"
      },
      "execution_count": null,
      "outputs": [
        {
          "output_type": "stream",
          "name": "stdout",
          "text": [
            "[1 2 3 4]\n",
            "[1 2 3 4 5 6]\n",
            "[1 2 3 1 2 3 1 2 3]\n"
          ]
        }
      ]
    },
    {
      "cell_type": "code",
      "source": [
        "#insert\n",
        "some_array = np.array([1,2,3])\n",
        "result = np.insert(some_array, 2, 5)\n",
        "print(result)"
      ],
      "metadata": {
        "colab": {
          "base_uri": "https://localhost:8080/"
        },
        "id": "7Z--qYB3plka",
        "outputId": "2b84becb-c069-4a68-d165-7687845304da"
      },
      "execution_count": null,
      "outputs": [
        {
          "output_type": "stream",
          "name": "stdout",
          "text": [
            "[1 2 5 3]\n"
          ]
        }
      ]
    },
    {
      "cell_type": "code",
      "source": [
        "#delete\n",
        "some_array = np.array([1,2,3])\n",
        "result = np.delete(some_array, 0)\n",
        "print(result)\n",
        "result = np.delete(some_array, [0,1])\n",
        "print(result)"
      ],
      "metadata": {
        "colab": {
          "base_uri": "https://localhost:8080/"
        },
        "id": "-7y-ykl_qZIK",
        "outputId": "34ae2ff2-1012-4632-d29c-884123f74b2b"
      },
      "execution_count": null,
      "outputs": [
        {
          "output_type": "stream",
          "name": "stdout",
          "text": [
            "[2 3]\n",
            "[3]\n"
          ]
        }
      ]
    },
    {
      "cell_type": "code",
      "source": [
        "#applying to matrix - append\n",
        "some_matrix = np.array([[1,2,3],[4,5,6]])\n",
        "result = np.append(some_matrix, [[7,8,9]], 0)\n",
        "print(result)\n",
        "result = np.append(some_matrix, [[7],[8]], 1)\n",
        "print(result)"
      ],
      "metadata": {
        "colab": {
          "base_uri": "https://localhost:8080/"
        },
        "id": "6lKxCp0Cq1mW",
        "outputId": "3c62dbd1-e102-4309-b203-52a8eb030056"
      },
      "execution_count": null,
      "outputs": [
        {
          "output_type": "stream",
          "name": "stdout",
          "text": [
            "[[1 2 3]\n",
            " [4 5 6]\n",
            " [7 8 9]]\n",
            "[[1 2 3 7]\n",
            " [4 5 6 8]]\n"
          ]
        }
      ]
    },
    {
      "cell_type": "code",
      "source": [
        "#insert\n",
        "some_matrix = np.array([[1,2,3],[4,5,6]])\n",
        "result = np.insert(some_matrix, 1, [7,8,9], 0)\n",
        "print(result)\n",
        "result = np.insert(some_matrix, 2, [7,8], 1)\n",
        "print(result)"
      ],
      "metadata": {
        "colab": {
          "base_uri": "https://localhost:8080/"
        },
        "id": "QCx7a_8YsfiF",
        "outputId": "c919c67f-faf0-4c51-df4d-ee0e525fb38a"
      },
      "execution_count": null,
      "outputs": [
        {
          "output_type": "stream",
          "name": "stdout",
          "text": [
            "[[1 2 3]\n",
            " [7 8 9]\n",
            " [4 5 6]]\n"
          ]
        }
      ]
    },
    {
      "cell_type": "code",
      "source": [
        "#delete\n",
        "some_matrix = np.array([[1,2,3],[4,5,6]])\n",
        "result = np.delete(some_matrix, 0, 0)\n",
        "print(result)\n",
        "result = np.delete(some_matrix, 1, 1)\n",
        "print(result)"
      ],
      "metadata": {
        "colab": {
          "base_uri": "https://localhost:8080/"
        },
        "id": "GKHf8IeQtLF1",
        "outputId": "046cc52b-3cbd-4d19-ac35-f04c810a330a"
      },
      "execution_count": null,
      "outputs": [
        {
          "output_type": "stream",
          "name": "stdout",
          "text": [
            "[[4 5 6]]\n"
          ]
        }
      ]
    },
    {
      "cell_type": "code",
      "source": [
        "matrix_1 = np.array([[7,3,5],[44,23,90],[2,20,40]])\n",
        "result = np.append(matrix_1, [[4,5,22]], 0)\n",
        "print(result)\n",
        "result = np.insert(matrix_1, 1, [7,8,9], 0)\n",
        "print(result)\n",
        "result = np.delete(matrix_1, 0, 0)\n",
        "print(result)"
      ],
      "metadata": {
        "colab": {
          "base_uri": "https://localhost:8080/"
        },
        "id": "pxTtecl7uQQz",
        "outputId": "2b7cc89b-8a14-4edf-be59-2dfa373d091c"
      },
      "execution_count": null,
      "outputs": [
        {
          "output_type": "stream",
          "name": "stdout",
          "text": [
            "[[ 7  3  5]\n",
            " [44 23 90]\n",
            " [ 2 20 40]\n",
            " [ 4  5 22]]\n",
            "[[ 7  3  5]\n",
            " [ 7  8  9]\n",
            " [44 23 90]\n",
            " [ 2 20 40]]\n",
            "[[44 23 90]\n",
            " [ 2 20 40]]\n"
          ]
        }
      ]
    },
    {
      "cell_type": "code",
      "source": [
        "#fetch operations\n",
        "some_array = np.array([4,0,6,1,2,3,0,5])\n",
        "result = some_array.max()\n",
        "print(result)\n",
        "result = some_array.min()\n",
        "print(result)\n",
        "result = some_array.mean()\n",
        "print(result)\n",
        "result = some_array.argmax()\n",
        "print(result)\n",
        "result = some_array.argmin()\n",
        "print(result)\n",
        "result = some_array.nonzero()\n",
        "print(result)"
      ],
      "metadata": {
        "colab": {
          "base_uri": "https://localhost:8080/"
        },
        "id": "SfULmLWZvJ7Y",
        "outputId": "6bf9d8c2-3104-4942-ade7-ce198f1c3ad3"
      },
      "execution_count": null,
      "outputs": [
        {
          "output_type": "stream",
          "name": "stdout",
          "text": [
            "6\n",
            "0\n",
            "2.625\n",
            "2\n",
            "1\n",
            "(array([0, 2, 3, 4, 5, 7]),)\n"
          ]
        }
      ]
    },
    {
      "cell_type": "code",
      "source": [
        "#modify operations\n",
        "some_array = np.array([4,0,6,1,2,3,0,5])\n",
        "some_array.sort()\n",
        "print(some_array)\n",
        "result = np.flip(some_array)\n",
        "print(result)"
      ],
      "metadata": {
        "colab": {
          "base_uri": "https://localhost:8080/"
        },
        "id": "0QmE3Zyxw8E5",
        "outputId": "48566b69-b2a8-4554-fab8-c4c9c7f7b881"
      },
      "execution_count": null,
      "outputs": [
        {
          "output_type": "stream",
          "name": "stdout",
          "text": [
            "[0 0 1 2 3 4 5 6]\n",
            "[6 5 4 3 2 1 0 0]\n"
          ]
        }
      ]
    },
    {
      "cell_type": "code",
      "source": [
        "#matrix fetch\n",
        "matrix_1 = np.array([[7,3,5],[44,23,90],[2,20,40]])\n",
        "print(matrix_1)\n",
        "result = matrix_1.max()\n",
        "print(result)\n",
        "result = matrix_1.max(0)\n",
        "print(result)\n",
        "result = matrix_1.argmax()\n",
        "print(result)\n",
        "result = matrix_1.argmax(0)\n",
        "print(result)\n",
        "result = matrix_1.argmax(1)\n",
        "print(result)\n",
        "result = matrix_1.argmin()\n",
        "print(result)\n",
        "result = matrix_1.argmin(0)\n",
        "print(result)\n",
        "result = matrix_1.argmin(1)\n",
        "print(result)"
      ],
      "metadata": {
        "colab": {
          "base_uri": "https://localhost:8080/"
        },
        "id": "NjEpzMUwx-f_",
        "outputId": "4036d39e-2925-4eb0-a9ca-30a080f7c510"
      },
      "execution_count": null,
      "outputs": [
        {
          "output_type": "stream",
          "name": "stdout",
          "text": [
            "[[ 7  3  5]\n",
            " [44 23 90]\n",
            " [ 2 20 40]]\n",
            "90\n",
            "[44 23 90]\n",
            "5\n",
            "[1 1 1]\n",
            "[0 2 2]\n",
            "6\n",
            "[2 0 0]\n",
            "[1 1 0]\n"
          ]
        }
      ]
    },
    {
      "cell_type": "code",
      "source": [
        "#matrix modify\n",
        "matrix_1 = np.array([[7,3,5],[44,23,90],[2,20,40]])\n",
        "matrix_1.sort()\n",
        "print(matrix_1)\n",
        "matrix_1.sort(0)\n",
        "print(matrix_1)"
      ],
      "metadata": {
        "colab": {
          "base_uri": "https://localhost:8080/"
        },
        "id": "0ZTka22k0F8N",
        "outputId": "9397a172-df62-4f0f-8500-9397a5b1d064"
      },
      "execution_count": null,
      "outputs": [
        {
          "output_type": "stream",
          "name": "stdout",
          "text": [
            "[[ 3  5  7]\n",
            " [23 44 90]\n",
            " [ 2 20 40]]\n",
            "[[ 2  5  7]\n",
            " [ 3 20 40]\n",
            " [23 44 90]]\n"
          ]
        }
      ]
    },
    {
      "cell_type": "code",
      "source": [
        "#transpose\n",
        "matrix_1 = np.array([[7,3,5],[44,23,90]])\n",
        "result = matrix_1.transpose()\n",
        "print(result)\n",
        "result = matrix_1.flatten()\n",
        "print(result)"
      ],
      "metadata": {
        "colab": {
          "base_uri": "https://localhost:8080/"
        },
        "id": "REvjjl1O01Er",
        "outputId": "fd9f1d12-4dc9-4755-c029-971b245fbfe5"
      },
      "execution_count": null,
      "outputs": [
        {
          "output_type": "stream",
          "name": "stdout",
          "text": [
            "[[ 7 44]\n",
            " [ 3 23]\n",
            " [ 5 90]]\n",
            "[ 7  3  5 44 23 90]\n"
          ]
        }
      ]
    }
  ]
}