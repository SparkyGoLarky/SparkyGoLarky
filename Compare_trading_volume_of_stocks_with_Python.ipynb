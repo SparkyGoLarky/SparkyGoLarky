{
  "nbformat": 4,
  "nbformat_minor": 0,
  "metadata": {
    "colab": {
      "provenance": [],
      "authorship_tag": "ABX9TyPzq437QryXay5GMI9ElwJA",
      "include_colab_link": true
    },
    "kernelspec": {
      "name": "python3",
      "display_name": "Python 3"
    },
    "language_info": {
      "name": "python"
    }
  },
  "cells": [
    {
      "cell_type": "markdown",
      "metadata": {
        "id": "view-in-github",
        "colab_type": "text"
      },
      "source": [
        "<a href=\"https://colab.research.google.com/github/SparkyGoLarky/SparkyGoLarky/blob/main/Compare_trading_volume_of_stocks_with_Python.ipynb\" target=\"_parent\"><img src=\"https://colab.research.google.com/assets/colab-badge.svg\" alt=\"Open In Colab\"/></a>"
      ]
    },
    {
      "cell_type": "code",
      "execution_count": null,
      "metadata": {
        "id": "0RMH2ISGQ2cQ"
      },
      "outputs": [],
      "source": [
        "import numpy as np\n",
        "import pandas as pd\n",
        "import matplotlib.pyplot as plt"
      ]
    },
    {
      "cell_type": "code",
      "source": [
        "aapl = pd.read_csv(\"aapl.csv\")\n",
        "amzn = pd.read_csv(\"amzn.csv\")\n",
        "csco = pd.read_csv(\"csco.csv\")\n",
        "ford = pd.read_csv(\"ford.csv\")"
      ],
      "metadata": {
        "id": "KbJpq_GZRmVs"
      },
      "execution_count": null,
      "outputs": []
    },
    {
      "cell_type": "code",
      "source": [
        "aapl_volume_average = aapl[\"Volume\"].mean()\n",
        "amzn_volume_average = amzn[\"Volume\"].mean()\n",
        "csco_volume_average = csco[\"Volume\"].mean()\n",
        "ford_volume_average = ford[\"Volume\"].mean()\n",
        "print(aapl_volume_average)\n",
        "print(amzn_volume_average)\n",
        "print(csco_volume_average)\n",
        "print(ford_volume_average)"
      ],
      "metadata": {
        "colab": {
          "base_uri": "https://localhost:8080/"
        },
        "id": "uKzzSVrtSKux",
        "outputId": "f2702334-2486-405b-8e5f-420630f36632"
      },
      "execution_count": null,
      "outputs": [
        {
          "output_type": "stream",
          "name": "stdout",
          "text": [
            "85259773.70517929\n",
            "76075050.59760956\n",
            "20673897.609561753\n",
            "65473899.20318725\n"
          ]
        }
      ]
    },
    {
      "cell_type": "code",
      "source": [
        "volume_averages = np.array([aapl_volume_average, amzn_volume_average, csco_volume_average, ford_volume_average])\n",
        "print(volume_averages)"
      ],
      "metadata": {
        "colab": {
          "base_uri": "https://localhost:8080/"
        },
        "id": "rfLj5zChS4O7",
        "outputId": "fa70747a-893f-44d3-c2a5-39bea0fd35ad"
      },
      "execution_count": null,
      "outputs": [
        {
          "output_type": "stream",
          "name": "stdout",
          "text": [
            "[85259773.70517929 76075050.59760956 20673897.60956175 65473899.20318725]\n"
          ]
        }
      ]
    },
    {
      "cell_type": "code",
      "source": [
        "labels = [\"Apple\", 'Amazon', 'Cisco', 'Ford']\n",
        "plt.rcParams['figure.figsize'] = (10,5)\n",
        "plt.rcParams.update({\"font.size\" :20})\n",
        "plt.pie(volume_averages, labels = labels, autopct=\"%.2f\")"
      ],
      "metadata": {
        "colab": {
          "base_uri": "https://localhost:8080/",
          "height": 517
        },
        "id": "8QTyJG3JTROH",
        "outputId": "fd3f0c67-04c1-4dc7-bfab-fc312eab0377"
      },
      "execution_count": null,
      "outputs": [
        {
          "output_type": "execute_result",
          "data": {
            "text/plain": [
              "([<matplotlib.patches.Wedge at 0x7f8d06b04ac0>,\n",
              "  <matplotlib.patches.Wedge at 0x7f8d06b049d0>,\n",
              "  <matplotlib.patches.Wedge at 0x7f8d06b277f0>,\n",
              "  <matplotlib.patches.Wedge at 0x7f8d06b27e80>],\n",
              " [Text(0.5162243538966687, 0.9713456729938973, 'Apple'),\n",
              "  Text(-1.0999301106459403, 0.01239966509263741, 'Amazon'),\n",
              "  Text(-0.3812342189610647, -1.0318238562337794, 'Cisco'),\n",
              "  Text(0.7414388325668605, -0.8125690478734044, 'Ford')],\n",
              " [Text(0.28157692030727377, 0.5298249125421257, '34.45'),\n",
              "  Text(-0.5999618785341492, 0.006763453686893133, '30.74'),\n",
              "  Text(-0.20794593761512617, -0.5628130124911523, '8.35'),\n",
              "  Text(0.4044211814001057, -0.44321948065822053, '26.46')])"
            ]
          },
          "metadata": {},
          "execution_count": 17
        },
        {
          "output_type": "display_data",
          "data": {
            "text/plain": [
              "<Figure size 720x360 with 1 Axes>"
            ],
            "image/png": "[encoded data removed]"
          },
          "metadata": {}
        }
      ]
    },
    {
      "cell_type": "code",
      "source": [
        "aapl_close_average = aapl[\"Close\"].mean()\n",
        "amzn_close_average = amzn[\"Close\"].mean()\n",
        "csco_close_average = csco[\"Close\"].mean()\n",
        "ford_close_average = ford[\"Close\"].mean()\n",
        "print(aapl_close_average)\n",
        "print(amzn_close_average)\n",
        "print(csco_close_average)\n",
        "print(ford_close_average)"
      ],
      "metadata": {
        "colab": {
          "base_uri": "https://localhost:8080/"
        },
        "id": "6rzOe9keVKCj",
        "outputId": "1f680c86-66f1-4767-efcf-e93b40fc10b6"
      },
      "execution_count": null,
      "outputs": [
        {
          "output_type": "stream",
          "name": "stdout",
          "text": [
            "152.11932260581696\n",
            "121.21775516950751\n",
            "47.648884503489946\n",
            "14.090318721604062\n"
          ]
        }
      ]
    },
    {
      "cell_type": "code",
      "source": [
        "close_average = np.array([aapl_close_average, amzn_close_average, csco_close_average, ford_close_average])\n",
        "print(close_average)"
      ],
      "metadata": {
        "colab": {
          "base_uri": "https://localhost:8080/"
        },
        "id": "DE7G1oy_VVUc",
        "outputId": "fa1c06d9-c90d-4183-bfb8-c96c387e98b4"
      },
      "execution_count": null,
      "outputs": [
        {
          "output_type": "stream",
          "name": "stdout",
          "text": [
            "[152.11932261 121.21775517  47.6488845   14.09031872]\n"
          ]
        }
      ]
    },
    {
      "cell_type": "code",
      "source": [
        "plt.pie(close_average, labels=labels, autopct=\"%.2f\")"
      ],
      "metadata": {
        "colab": {
          "base_uri": "https://localhost:8080/",
          "height": 517
        },
        "id": "lYhFYdjbViE3",
        "outputId": "8e0c1982-b4d2-48d9-fe48-78639c0fd268"
      },
      "execution_count": null,
      "outputs": [
        {
          "output_type": "execute_result",
          "data": {
            "text/plain": [
              "([<matplotlib.patches.Wedge at 0x7f8d0a01e1f0>,\n",
              "  <matplotlib.patches.Wedge at 0x7f8d0a01e610>,\n",
              "  <matplotlib.patches.Wedge at 0x7f8d0a229910>,\n",
              "  <matplotlib.patches.Wedge at 0x7f8d0a2299d0>],\n",
              " [Text(0.1584661948210632, 1.0885258219715934, 'Apple'),\n",
              "  Text(-0.7281430650801606, -0.8245045037934415, 'Amazon'),\n",
              "  Text(0.8335096960110228, -0.7178172376417362, 'Cisco'),\n",
              "  Text(1.0904150611782353, -0.14489649531878204, 'Ford')],\n",
              " [Text(0.08643610626603447, 0.5937413574390509, '45.40'),\n",
              "  Text(-0.39716894458917845, -0.44972972934187716, '36.18'),\n",
              "  Text(0.4546416523696487, -0.3915366750773106, '14.22'),\n",
              "  Text(0.5947718515517646, -0.07903445199206292, '4.21')])"
            ]
          },
          "metadata": {},
          "execution_count": 20
        },
        {
          "output_type": "display_data",
          "data": {
            "text/plain": [
              "<Figure size 720x360 with 1 Axes>"
            ],
            "image/png": "[encoded data removed]"
          },
          "metadata": {}
        }
      ]
    }
  ]
}