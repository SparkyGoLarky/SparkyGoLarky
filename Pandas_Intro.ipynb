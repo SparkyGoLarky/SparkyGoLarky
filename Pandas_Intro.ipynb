{
  "nbformat": 4,
  "nbformat_minor": 0,
  "metadata": {
    "colab": {
      "provenance": [],
      "authorship_tag": "ABX9TyPzU7ribsYp8rTGUdWsyKSD",
      "include_colab_link": true
    },
    "kernelspec": {
      "name": "python3",
      "display_name": "Python 3"
    },
    "language_info": {
      "name": "python"
    }
  },
  "cells": [
    {
      "cell_type": "markdown",
      "metadata": {
        "id": "view-in-github",
        "colab_type": "text"
      },
      "source": [
        "<a href=\"https://colab.research.google.com/github/SparkyGoLarky/SparkyGoLarky/blob/main/Pandas_Intro.ipynb\" target=\"_parent\"><img src=\"https://colab.research.google.com/assets/colab-badge.svg\" alt=\"Open In Colab\"/></a>"
      ]
    },
    {
      "cell_type": "code",
      "execution_count": 48,
      "metadata": {
        "id": "NjN8ccjcD7Rx"
      },
      "outputs": [],
      "source": [
        "import pandas as pd\n",
        "import numpy as np"
      ]
    },
    {
      "cell_type": "code",
      "source": [
        "#series - creating series from python lists\n",
        "series = pd.Series([1,2,3])\n",
        "print(series)\n",
        "series = pd.Series([True,False,True])\n",
        "print(series)\n",
        "series = pd.Series(['1','2','3'])\n",
        "print(series)"
      ],
      "metadata": {
        "colab": {
          "base_uri": "https://localhost:8080/"
        },
        "id": "BUbK3J1hJWo5",
        "outputId": "261bc3b1-eaf1-40da-a0e2-e08ac68ba478"
      },
      "execution_count": 49,
      "outputs": [
        {
          "output_type": "stream",
          "name": "stdout",
          "text": [
            "0    1\n",
            "1    2\n",
            "2    3\n",
            "dtype: int64\n",
            "0     True\n",
            "1    False\n",
            "2     True\n",
            "dtype: bool\n",
            "0    1\n",
            "1    2\n",
            "2    3\n",
            "dtype: object\n"
          ]
        }
      ]
    },
    {
      "cell_type": "code",
      "source": [
        "series = pd.Series([1,2,3.0,4.0,'Hello'])\n",
        "print(series)\n",
        "series = pd.Series([1,2,3.0,None,np.nan])\n",
        "print(series)\n",
        "series = pd.Series([1,2,3.0,None,np.nan, 'Hello'])\n",
        "print(series)\n",
        "series = pd.Series([1,2,3], dtype=np.float32)\n",
        "print(series)"
      ],
      "metadata": {
        "colab": {
          "base_uri": "https://localhost:8080/"
        },
        "id": "HC1OtEL5cyXx",
        "outputId": "ed7f88f2-5ef9-4627-8655-99364f7d83bd"
      },
      "execution_count": 50,
      "outputs": [
        {
          "output_type": "stream",
          "name": "stdout",
          "text": [
            "0        1\n",
            "1        2\n",
            "2      3.0\n",
            "3      4.0\n",
            "4    Hello\n",
            "dtype: object\n",
            "0    1.0\n",
            "1    2.0\n",
            "2    3.0\n",
            "3    NaN\n",
            "4    NaN\n",
            "dtype: float64\n",
            "0        1\n",
            "1        2\n",
            "2      3.0\n",
            "3     None\n",
            "4      NaN\n",
            "5    Hello\n",
            "dtype: object\n",
            "0    1.0\n",
            "1    2.0\n",
            "2    3.0\n",
            "dtype: float32\n"
          ]
        }
      ]
    },
    {
      "cell_type": "code",
      "source": [
        "#series - creating series from dictionaries\n",
        "series = pd.Series({'a':1, 'b':2, 'c':3})\n",
        "print(series)\n",
        "series = pd.Series({'a':True, 'b':False, 'c':True})\n",
        "print(series)\n",
        "series = pd.Series({'a':1.0, 'b':2.0, 'c':3.0})\n",
        "print(series)\n",
        "series = pd.Series({'a':1.0, 'b':2.0, 'c':np.nan})\n",
        "print(series)\n",
        "series = pd.Series({'a':'1', 'b':'2', 'c':'3'})\n",
        "print(series)"
      ],
      "metadata": {
        "colab": {
          "base_uri": "https://localhost:8080/"
        },
        "id": "NWIQBobheOXn",
        "outputId": "47344ed8-d0d3-45e5-d322-49a579f3c49b"
      },
      "execution_count": 51,
      "outputs": [
        {
          "output_type": "stream",
          "name": "stdout",
          "text": [
            "a    1\n",
            "b    2\n",
            "c    3\n",
            "dtype: int64\n",
            "a     True\n",
            "b    False\n",
            "c     True\n",
            "dtype: bool\n",
            "a    1.0\n",
            "b    2.0\n",
            "c    3.0\n",
            "dtype: float64\n",
            "a    1.0\n",
            "b    2.0\n",
            "c    NaN\n",
            "dtype: float64\n",
            "a    1\n",
            "b    2\n",
            "c    3\n",
            "dtype: object\n"
          ]
        }
      ]
    },
    {
      "cell_type": "code",
      "source": [
        "series = pd.Series([1,2,3], index=['a','b','c'])\n",
        "print(series)\n",
        "series = pd.Series(10, index=[0,1,2,3,4])\n",
        "print(series)\n",
        "series = pd.Series(10, index=['a','b','c','d'])\n",
        "print(series)"
      ],
      "metadata": {
        "colab": {
          "base_uri": "https://localhost:8080/"
        },
        "id": "LX4_N446fGGJ",
        "outputId": "0394905f-27ef-4b0c-89e2-cd9d768b4b96"
      },
      "execution_count": 52,
      "outputs": [
        {
          "output_type": "stream",
          "name": "stdout",
          "text": [
            "a    1\n",
            "b    2\n",
            "c    3\n",
            "dtype: int64\n",
            "0    10\n",
            "1    10\n",
            "2    10\n",
            "3    10\n",
            "4    10\n",
            "dtype: int64\n",
            "a    10\n",
            "b    10\n",
            "c    10\n",
            "d    10\n",
            "dtype: int64\n"
          ]
        }
      ]
    },
    {
      "cell_type": "code",
      "source": [
        "#Numpy\n",
        "series = pd.Series(np.array([1,2,3]))\n",
        "print(series)\n",
        "numpy_series = series.to_numpy()\n",
        "print(numpy_series)\n",
        "print(type(series))\n",
        "print(type(numpy_series))\n",
        "numpy_series = np.asarray(series)\n",
        "print(type(numpy_series))"
      ],
      "metadata": {
        "colab": {
          "base_uri": "https://localhost:8080/"
        },
        "id": "isVhmACogpiT",
        "outputId": "4cc544ec-67ad-44af-89d4-84c730b5257e"
      },
      "execution_count": 53,
      "outputs": [
        {
          "output_type": "stream",
          "name": "stdout",
          "text": [
            "0    1\n",
            "1    2\n",
            "2    3\n",
            "dtype: int64\n",
            "[1 2 3]\n",
            "<class 'pandas.core.series.Series'>\n",
            "<class 'numpy.ndarray'>\n",
            "<class 'numpy.ndarray'>\n"
          ]
        }
      ]
    },
    {
      "cell_type": "code",
      "source": [
        "#date ranges\n",
        "dates = pd.date_range('20230218', periods=10)\n",
        "print(dates)\n",
        "dates = pd.date_range('20230218', periods=10, freq='4M')\n",
        "print(dates)\n",
        "dates = pd.date_range('20230218', '20230219', freq='4H')\n",
        "print(dates)\n",
        "dates = pd.date_range('20230218', '20230219', periods=10)\n",
        "print(dates)"
      ],
      "metadata": {
        "colab": {
          "base_uri": "https://localhost:8080/"
        },
        "id": "Z8lRTglAOLU4",
        "outputId": "4a7a1a4a-4831-4fc0-b5e1-ecea4997592f"
      },
      "execution_count": 54,
      "outputs": [
        {
          "output_type": "stream",
          "name": "stdout",
          "text": [
            "DatetimeIndex(['2023-02-18', '2023-02-19', '2023-02-20', '2023-02-21',\n",
            "               '2023-02-22', '2023-02-23', '2023-02-24', '2023-02-25',\n",
            "               '2023-02-26', '2023-02-27'],\n",
            "              dtype='datetime64[ns]', freq='D')\n",
            "DatetimeIndex(['2023-02-28', '2023-06-30', '2023-10-31', '2024-02-29',\n",
            "               '2024-06-30', '2024-10-31', '2025-02-28', '2025-06-30',\n",
            "               '2025-10-31', '2026-02-28'],\n",
            "              dtype='datetime64[ns]', freq='4M')\n",
            "DatetimeIndex(['2023-02-18 00:00:00', '2023-02-18 04:00:00',\n",
            "               '2023-02-18 08:00:00', '2023-02-18 12:00:00',\n",
            "               '2023-02-18 16:00:00', '2023-02-18 20:00:00',\n",
            "               '2023-02-19 00:00:00'],\n",
            "              dtype='datetime64[ns]', freq='4H')\n",
            "DatetimeIndex(['2023-02-18 00:00:00', '2023-02-18 02:40:00',\n",
            "               '2023-02-18 05:20:00', '2023-02-18 08:00:00',\n",
            "               '2023-02-18 10:40:00', '2023-02-18 13:20:00',\n",
            "               '2023-02-18 16:00:00', '2023-02-18 18:40:00',\n",
            "               '2023-02-18 21:20:00', '2023-02-19 00:00:00'],\n",
            "              dtype='datetime64[ns]', freq=None)\n"
          ]
        }
      ]
    },
    {
      "cell_type": "code",
      "source": [
        "dates = pd.date_range('20230218', periods=5)\n",
        "series = pd.Series([1,2,3,4,5], index=dates)\n",
        "print(series)\n",
        "date_series = pd.Series(dates)\n",
        "print(date_series)\n",
        "days = date_series.dt.day\n",
        "print(days)\n",
        "month = date_series.dt.month\n",
        "print(month)\n",
        "is_leap_year = date_series.dt.is_leap_year\n",
        "print(is_leap_year)"
      ],
      "metadata": {
        "colab": {
          "base_uri": "https://localhost:8080/"
        },
        "id": "BN2fTftqQjgU",
        "outputId": "4935b761-925b-4d30-df93-e5143ee50df3"
      },
      "execution_count": 55,
      "outputs": [
        {
          "output_type": "stream",
          "name": "stdout",
          "text": [
            "2023-02-18    1\n",
            "2023-02-19    2\n",
            "2023-02-20    3\n",
            "2023-02-21    4\n",
            "2023-02-22    5\n",
            "Freq: D, dtype: int64\n",
            "0   2023-02-18\n",
            "1   2023-02-19\n",
            "2   2023-02-20\n",
            "3   2023-02-21\n",
            "4   2023-02-22\n",
            "dtype: datetime64[ns]\n",
            "0    18\n",
            "1    19\n",
            "2    20\n",
            "3    21\n",
            "4    22\n",
            "dtype: int64\n",
            "0    2\n",
            "1    2\n",
            "2    2\n",
            "3    2\n",
            "4    2\n",
            "dtype: int64\n",
            "0    False\n",
            "1    False\n",
            "2    False\n",
            "3    False\n",
            "4    False\n",
            "dtype: bool\n"
          ]
        }
      ]
    },
    {
      "cell_type": "code",
      "source": [
        "#getting single elements from series\n",
        "series = pd.Series([1,2,3,4,5], index=['a','b','c','d','e'])\n",
        "first = series[0]\n",
        "print(first)\n",
        "print(type(first))\n",
        "first = series['a']\n",
        "print(first)\n",
        "last = series[4]\n",
        "print(last)\n",
        "last = series['e']\n",
        "print(last)\n",
        "last = series[-1]\n",
        "print(last)\n",
        "tenth = series.get(9)\n",
        "print(tenth)\n",
        "tenth = series.get('j')\n",
        "print(tenth)\n",
        "tenth = series.get('j', default=0)\n",
        "print(tenth)"
      ],
      "metadata": {
        "colab": {
          "base_uri": "https://localhost:8080/"
        },
        "id": "Z30gdCzFSR1U",
        "outputId": "c2e69877-c698-4337-83ed-556b8d011d8a"
      },
      "execution_count": 56,
      "outputs": [
        {
          "output_type": "stream",
          "name": "stdout",
          "text": [
            "1\n",
            "<class 'numpy.int64'>\n",
            "1\n",
            "5\n",
            "5\n",
            "5\n",
            "None\n",
            "None\n",
            "0\n"
          ]
        }
      ]
    },
    {
      "cell_type": "code",
      "source": [
        "series = pd.Series([1,2,3,4,5], index=['a','b','c','d','e'])\n",
        "three = series[:3]\n",
        "print(three)\n",
        "three = series[2:]\n",
        "print(three)\n",
        "three = series[1:4]\n",
        "print(three)\n",
        "three = series[[0,1,2]]\n",
        "print(three)\n",
        "three = series[['a','b','c']]\n",
        "print(three)\n",
        "shuffled = series[[4,1,2,0,3]]\n",
        "print(shuffled)\n",
        "shuffled = series[['e','c','a','d','b']]\n",
        "print(shuffled)\n",
        "gt3 = series[series > 3]\n",
        "print(gt3)\n",
        "gt6 = series[series > 6]\n",
        "print(gt6)\n",
        "indexes = series.index\n",
        "print(indexes)\n",
        "values = series.values\n",
        "print(values)\n",
        "pandas_array = series.array\n",
        "print(pandas_array)"
      ],
      "metadata": {
        "colab": {
          "base_uri": "https://localhost:8080/"
        },
        "id": "EMmMrZ4mWUCu",
        "outputId": "ba40058f-0fe0-4c70-d77b-a3b90dda5a8d"
      },
      "execution_count": 57,
      "outputs": [
        {
          "output_type": "stream",
          "name": "stdout",
          "text": [
            "a    1\n",
            "b    2\n",
            "c    3\n",
            "dtype: int64\n",
            "c    3\n",
            "d    4\n",
            "e    5\n",
            "dtype: int64\n",
            "b    2\n",
            "c    3\n",
            "d    4\n",
            "dtype: int64\n",
            "a    1\n",
            "b    2\n",
            "c    3\n",
            "dtype: int64\n",
            "a    1\n",
            "b    2\n",
            "c    3\n",
            "dtype: int64\n",
            "e    5\n",
            "b    2\n",
            "c    3\n",
            "a    1\n",
            "d    4\n",
            "dtype: int64\n",
            "e    5\n",
            "c    3\n",
            "a    1\n",
            "d    4\n",
            "b    2\n",
            "dtype: int64\n",
            "d    4\n",
            "e    5\n",
            "dtype: int64\n",
            "Series([], dtype: int64)\n",
            "Index(['a', 'b', 'c', 'd', 'e'], dtype='object')\n",
            "[1 2 3 4 5]\n",
            "<PandasArray>\n",
            "[1, 2, 3, 4, 5]\n",
            "Length: 5, dtype: int64\n"
          ]
        }
      ]
    },
    {
      "cell_type": "code",
      "source": [
        "#properties of series\n",
        "series = pd.Series([1,2,3,4,5,3,2,5,1,1])\n",
        "series_count = series.count()\n",
        "print(series_count)\n",
        "series_max = series.max()\n",
        "series_min = series.min()\n",
        "series_median = series.median()\n",
        "series_mean = series.mean()\n",
        "print(series_max, series_min, series_median, series_mean)\n",
        "description = series.describe()\n",
        "print(description)\n",
        "series_sum = series.sum()\n",
        "print(series_sum)\n",
        "n_large = series.nlargest(2)\n",
        "n_small = series.nsmallest(2)\n",
        "print(n_large)\n",
        "print(n_small)\n",
        "max_index = series.idxmax()\n",
        "min_index = series.idxmin()\n",
        "print(max_index)\n",
        "print(min_index)\n",
        "histogram = series.value_counts()\n",
        "print(histogram)"
      ],
      "metadata": {
        "colab": {
          "base_uri": "https://localhost:8080/"
        },
        "id": "BsRyurfGaLXP",
        "outputId": "a863bdff-7313-4340-a731-218f6f4d87dc"
      },
      "execution_count": 58,
      "outputs": [
        {
          "output_type": "stream",
          "name": "stdout",
          "text": [
            "10\n",
            "5 1 2.5 2.7\n",
            "count    10.000000\n",
            "mean      2.700000\n",
            "std       1.567021\n",
            "min       1.000000\n",
            "25%       1.250000\n",
            "50%       2.500000\n",
            "75%       3.750000\n",
            "max       5.000000\n",
            "dtype: float64\n",
            "27\n",
            "4    5\n",
            "7    5\n",
            "dtype: int64\n",
            "0    1\n",
            "8    1\n",
            "dtype: int64\n",
            "4\n",
            "0\n",
            "1    3\n",
            "2    2\n",
            "3    2\n",
            "5    2\n",
            "4    1\n",
            "dtype: int64\n"
          ]
        }
      ]
    },
    {
      "cell_type": "code",
      "source": [
        "series = pd.Series(['a','b','c'])\n",
        "description = series.describe()\n",
        "print(description)\n",
        "series = pd.Series([True, False, True, True])\n",
        "description = series.describe()\n",
        "print(description)\n",
        "all_true = series.all()\n",
        "any_true = series.any()\n",
        "print(all_true)\n",
        "print(any_true)"
      ],
      "metadata": {
        "colab": {
          "base_uri": "https://localhost:8080/"
        },
        "id": "Wr4DhI6YeXXD",
        "outputId": "ed246327-0e5b-44d8-a605-51b9751dc94a"
      },
      "execution_count": 59,
      "outputs": [
        {
          "output_type": "stream",
          "name": "stdout",
          "text": [
            "count     3\n",
            "unique    3\n",
            "top       a\n",
            "freq      1\n",
            "dtype: object\n",
            "count        4\n",
            "unique       2\n",
            "top       True\n",
            "freq         3\n",
            "dtype: object\n",
            "False\n",
            "True\n"
          ]
        }
      ]
    },
    {
      "cell_type": "code",
      "source": [
        "#series modification - adding & removing\n",
        "series = pd.Series({'a':1, 'b':2, 'c':3, 'd':4, 'e':5})\n",
        "series['f'] = 6\n",
        "print(series)\n",
        "new_series = series.append(pd.Series({'g':7, 'h':8,'i':9}))\n",
        "print(new_series)\n",
        "del series['a']\n",
        "print(series)\n",
        "popped = series.pop('b')\n",
        "print(series)\n",
        "print(popped)"
      ],
      "metadata": {
        "colab": {
          "base_uri": "https://localhost:8080/"
        },
        "id": "Dkw9DJEZPbbH",
        "outputId": "1d8e2e75-cf98-4543-e56e-12e3994d5975"
      },
      "execution_count": 60,
      "outputs": [
        {
          "output_type": "stream",
          "name": "stdout",
          "text": [
            "a    1\n",
            "b    2\n",
            "c    3\n",
            "d    4\n",
            "e    5\n",
            "f    6\n",
            "dtype: int64\n",
            "a    1\n",
            "b    2\n",
            "c    3\n",
            "d    4\n",
            "e    5\n",
            "f    6\n",
            "g    7\n",
            "h    8\n",
            "i    9\n",
            "dtype: int64\n",
            "b    2\n",
            "c    3\n",
            "d    4\n",
            "e    5\n",
            "f    6\n",
            "dtype: int64\n",
            "c    3\n",
            "d    4\n",
            "e    5\n",
            "f    6\n",
            "dtype: int64\n",
            "2\n"
          ]
        }
      ]
    },
    {
      "cell_type": "code",
      "source": [
        "series = pd.Series({'a':1, 'b':2, 'c':3, 'd':4, 'e':5})\n",
        "series[0] = 0\n",
        "series['e'] = 6\n",
        "print(series)\n",
        "series[:3] = 10\n",
        "print(series)\n",
        "series[:3] = [11,12,13]\n",
        "print(series)\n",
        "series = series.rename('Series 1')\n",
        "series = series.rename(str.upper)\n",
        "print(series)\n",
        "series = series.reindex(['B','A','E','C','D'])\n",
        "print(series)\n",
        "series = series.reindex(['B','A','E','C','D','F','Z'])\n",
        "print(series)\n",
        "series['A'] = 'Hello There!'\n",
        "print(series)"
      ],
      "metadata": {
        "colab": {
          "base_uri": "https://localhost:8080/"
        },
        "id": "Hi3GOai9TC1s",
        "outputId": "dd444a03-91f3-4e50-eae0-5fd0195b871f"
      },
      "execution_count": 61,
      "outputs": [
        {
          "output_type": "stream",
          "name": "stdout",
          "text": [
            "a    0\n",
            "b    2\n",
            "c    3\n",
            "d    4\n",
            "e    6\n",
            "dtype: int64\n",
            "a    10\n",
            "b    10\n",
            "c    10\n",
            "d     4\n",
            "e     6\n",
            "dtype: int64\n",
            "a    11\n",
            "b    12\n",
            "c    13\n",
            "d     4\n",
            "e     6\n",
            "dtype: int64\n",
            "A    11\n",
            "B    12\n",
            "C    13\n",
            "D     4\n",
            "E     6\n",
            "Name: Series 1, dtype: int64\n",
            "B    12\n",
            "A    11\n",
            "E     6\n",
            "C    13\n",
            "D     4\n",
            "Name: Series 1, dtype: int64\n",
            "B    12.0\n",
            "A    11.0\n",
            "E     6.0\n",
            "C    13.0\n",
            "D     4.0\n",
            "F     NaN\n",
            "Z     NaN\n",
            "Name: Series 1, dtype: float64\n",
            "B            12.0\n",
            "A    Hello There!\n",
            "E             6.0\n",
            "C            13.0\n",
            "D             4.0\n",
            "F             NaN\n",
            "Z             NaN\n",
            "Name: Series 1, dtype: object\n"
          ]
        }
      ]
    },
    {
      "cell_type": "code",
      "source": [
        "#arithmetic operations\n",
        "series = pd.Series([1,2,3,4,np.nan])\n",
        "new_series = series + 5\n",
        "print(new_series)\n",
        "new_series = series.mul(2)\n",
        "print(new_series)\n",
        "new_series = series.mul(2, fill_value = 1)\n",
        "print(new_series)\n",
        "def f(x):\n",
        "  return (2*x) + 5\n",
        "new_series = series.apply(f)\n",
        "print(new_series)\n",
        "new_series = series.astype(np.float16)\n",
        "print(new_series)\n",
        "new_series = series.astype('float16')\n",
        "print(new_series)"
      ],
      "metadata": {
        "colab": {
          "base_uri": "https://localhost:8080/"
        },
        "id": "wvmLjtBJX0F3",
        "outputId": "1dd65feb-1d96-4f03-aa77-5ef5fb469ceb"
      },
      "execution_count": 62,
      "outputs": [
        {
          "output_type": "stream",
          "name": "stdout",
          "text": [
            "0    6.0\n",
            "1    7.0\n",
            "2    8.0\n",
            "3    9.0\n",
            "4    NaN\n",
            "dtype: float64\n",
            "0    2.0\n",
            "1    4.0\n",
            "2    6.0\n",
            "3    8.0\n",
            "4    NaN\n",
            "dtype: float64\n",
            "0    2.0\n",
            "1    4.0\n",
            "2    6.0\n",
            "3    8.0\n",
            "4    2.0\n",
            "dtype: float64\n",
            "0     7.0\n",
            "1     9.0\n",
            "2    11.0\n",
            "3    13.0\n",
            "4     NaN\n",
            "dtype: float64\n",
            "0    1.0\n",
            "1    2.0\n",
            "2    3.0\n",
            "3    4.0\n",
            "4    NaN\n",
            "dtype: float16\n",
            "0    1.0\n",
            "1    2.0\n",
            "2    3.0\n",
            "3    4.0\n",
            "4    NaN\n",
            "dtype: float16\n"
          ]
        }
      ]
    },
    {
      "cell_type": "code",
      "source": [
        "#sorting\n",
        "series = pd.Series([3,2,4,1,5], index=['a','z','r','t','g'])\n",
        "new_series = series.sort_index(ascending=False)\n",
        "print(new_series)\n",
        "new_series = series.sort_index(kind='quicksort')\n",
        "print(new_series)\n",
        "new_series = series.sort_values()\n",
        "print(new_series)"
      ],
      "metadata": {
        "colab": {
          "base_uri": "https://localhost:8080/"
        },
        "id": "mqd1ZLuHkymX",
        "outputId": "f32f1507-3ca9-4c59-87f8-817095efa4eb"
      },
      "execution_count": 63,
      "outputs": [
        {
          "output_type": "stream",
          "name": "stdout",
          "text": [
            "z    2\n",
            "t    1\n",
            "r    4\n",
            "g    5\n",
            "a    3\n",
            "dtype: int64\n",
            "a    3\n",
            "g    5\n",
            "r    4\n",
            "t    1\n",
            "z    2\n",
            "dtype: int64\n",
            "t    1\n",
            "z    2\n",
            "a    3\n",
            "r    4\n",
            "g    5\n",
            "dtype: int64\n"
          ]
        }
      ]
    },
    {
      "cell_type": "code",
      "source": [
        "#operations - comparisons and iterations\n",
        "series_1 = pd.Series([1,2,3,4,5,np.nan])\n",
        "series_2 = pd.Series([5,2,4,1,np.nan,3])\n",
        "comparison = series_1 > series_2\n",
        "print(comparison)\n",
        "comparison = series_1.eq(series_2, fill_value=5)\n",
        "print(comparison)\n",
        "comparison = series_1.equals(series_2)\n",
        "print(comparison)\n",
        "comparison = series_1[4] > series_2[2]\n",
        "print(comparison)\n",
        "comparison = series_1 >= 5\n",
        "print(comparison)\n",
        "print(4 in series_1)\n",
        "is_in = 4 in series_1\n",
        "print(is_in)\n",
        "for key, value in series_1.items():\n",
        "  print(key)\n",
        "  print(value)\n",
        "for value in series_2:\n",
        "  print(value)"
      ],
      "metadata": {
        "colab": {
          "base_uri": "https://localhost:8080/"
        },
        "id": "5cYSdCfAXma2",
        "outputId": "2295031b-420d-4d02-894c-530fbfa80e2f"
      },
      "execution_count": 64,
      "outputs": [
        {
          "output_type": "stream",
          "name": "stdout",
          "text": [
            "0    False\n",
            "1    False\n",
            "2    False\n",
            "3     True\n",
            "4    False\n",
            "5    False\n",
            "dtype: bool\n",
            "0    False\n",
            "1     True\n",
            "2    False\n",
            "3    False\n",
            "4     True\n",
            "5    False\n",
            "dtype: bool\n",
            "False\n",
            "True\n",
            "0    False\n",
            "1    False\n",
            "2    False\n",
            "3    False\n",
            "4     True\n",
            "5    False\n",
            "dtype: bool\n",
            "True\n",
            "True\n",
            "0\n",
            "1.0\n",
            "1\n",
            "2.0\n",
            "2\n",
            "3.0\n",
            "3\n",
            "4.0\n",
            "4\n",
            "5.0\n",
            "5\n",
            "nan\n",
            "5.0\n",
            "2.0\n",
            "4.0\n",
            "1.0\n",
            "nan\n",
            "3.0\n"
          ]
        }
      ]
    },
    {
      "cell_type": "code",
      "source": [
        "#dataframes - python lists and scalar values\n",
        "df = pd.DataFrame([1,2,3], dtype=np.float16)\n",
        "print(df)\n",
        "print(type(df))\n",
        "df = pd.DataFrame(['1','2','3'])\n",
        "print(df)\n",
        "df = pd.DataFrame([True,False,True])\n",
        "print(df)\n",
        "df = pd.DataFrame([[1,2,3],[4,5,6],[7,8,9]])\n",
        "print(df)\n",
        "df = pd.DataFrame([[1,2,3,4],[5,6],[7,8,9]])\n",
        "print(df)\n",
        "df = pd.DataFrame(5, index=(0,1), columns=(0,1,2))\n",
        "print(df)"
      ],
      "metadata": {
        "colab": {
          "base_uri": "https://localhost:8080/"
        },
        "id": "eKSkRRkAsxM5",
        "outputId": "106e56ef-e35b-473b-fdac-981bdcf56836"
      },
      "execution_count": 65,
      "outputs": [
        {
          "output_type": "stream",
          "name": "stdout",
          "text": [
            "     0\n",
            "0  1.0\n",
            "1  2.0\n",
            "2  3.0\n",
            "<class 'pandas.core.frame.DataFrame'>\n",
            "   0\n",
            "0  1\n",
            "1  2\n",
            "2  3\n",
            "       0\n",
            "0   True\n",
            "1  False\n",
            "2   True\n",
            "   0  1  2\n",
            "0  1  2  3\n",
            "1  4  5  6\n",
            "2  7  8  9\n",
            "   0  1    2    3\n",
            "0  1  2  3.0  4.0\n",
            "1  5  6  NaN  NaN\n",
            "2  7  8  9.0  NaN\n",
            "   0  1  2\n",
            "0  5  5  5\n",
            "1  5  5  5\n"
          ]
        }
      ]
    },
    {
      "cell_type": "code",
      "source": [
        "df = pd.DataFrame(5, index = ('a','b'), columns = ('col1', 'col2', 'col3'))\n",
        "print(df)\n",
        "df = pd.DataFrame([1,2,3], index=('a','b','c'))\n",
        "print(df)\n",
        "df = pd.DataFrame([[1,2],[3,4],[5,6]], index=['row1', 'row2','row3'], columns=['col1','col2'])\n",
        "print(df)\n",
        "df = pd.DataFrame({'col1':[1,2,3], 'col2':[4,5,6]}, index=['row1', 'row2','row3'])\n",
        "print(df)\n",
        "df = pd.DataFrame({'col1':{'row1':1,'row2':2,'row3':3}, 'col2':{'row1':4, 'row2':5, 'row3':6}})\n",
        "print(df)\n",
        "df = pd.DataFrame({'col1':{'row1':1,'row2':2,'row3':3}, 'col2':{'row1':4, 'row3':5, 'row4':6}})\n",
        "print(df)\n",
        "df = pd.DataFrame({'col1':pd.Series([1,2,3]), 'col2':pd.Series([4,5,6])})\n",
        "print(df)"
      ],
      "metadata": {
        "colab": {
          "base_uri": "https://localhost:8080/"
        },
        "id": "W0LbFuu09psT",
        "outputId": "6760b515-f01e-4902-e0cb-3860b1b5094a"
      },
      "execution_count": 66,
      "outputs": [
        {
          "output_type": "stream",
          "name": "stdout",
          "text": [
            "   col1  col2  col3\n",
            "a     5     5     5\n",
            "b     5     5     5\n",
            "   0\n",
            "a  1\n",
            "b  2\n",
            "c  3\n",
            "      col1  col2\n",
            "row1     1     2\n",
            "row2     3     4\n",
            "row3     5     6\n",
            "      col1  col2\n",
            "row1     1     4\n",
            "row2     2     5\n",
            "row3     3     6\n",
            "      col1  col2\n",
            "row1     1     4\n",
            "row2     2     5\n",
            "row3     3     6\n",
            "      col1  col2\n",
            "row1   1.0   4.0\n",
            "row2   2.0   NaN\n",
            "row3   3.0   5.0\n",
            "row4   NaN   6.0\n",
            "   col1  col2\n",
            "0     1     4\n",
            "1     2     5\n",
            "2     3     6\n"
          ]
        }
      ]
    },
    {
      "cell_type": "code",
      "source": [
        "#getting row & columns from df\n",
        "df = pd.DataFrame({'col1':{'row1':1,'row2':2,'row3':3}, 'col2':{'row1':4, 'row2':5, 'row3':6}, 'col3':{'row1':7, 'row2':8, 'row3':9}})\n",
        "print(df)\n",
        "print('-------------------------------')\n",
        "first_col = df['col1']\n",
        "print(first_col)\n",
        "print(type(first_col))\n",
        "print('-------------------------------')\n",
        "second_col = df.col2\n",
        "print(second_col)\n",
        "print('-------------------------------')\n",
        "unknown_col = df.get('col10', default=pd.Series([1,2,3]))\n",
        "print(unknown_col)\n",
        "print('-------------------------------')\n",
        "first_row = df.loc['row1']\n",
        "print(first_row)\n",
        "print('-------------------------------')\n",
        "second_row = df.iloc[1]\n",
        "print(second_row)\n",
        "print('-------------------------------')\n",
        "first = df['col1'].loc['row1']\n",
        "print(first)\n",
        "first = df['col1'].iloc[0]\n",
        "print(first)\n",
        "first = df.loc['row1','col1']\n",
        "print(first)\n",
        "first = df.iloc[0,0]\n",
        "print(first)\n",
        "print('-------------------------------')"
      ],
      "metadata": {
        "id": "hvz5L9nhUQ6J",
        "colab": {
          "base_uri": "https://localhost:8080/"
        },
        "outputId": "85cb2fba-38da-4937-a32f-eaed6803e12f"
      },
      "execution_count": 67,
      "outputs": [
        {
          "output_type": "stream",
          "name": "stdout",
          "text": [
            "      col1  col2  col3\n",
            "row1     1     4     7\n",
            "row2     2     5     8\n",
            "row3     3     6     9\n",
            "-------------------------------\n",
            "row1    1\n",
            "row2    2\n",
            "row3    3\n",
            "Name: col1, dtype: int64\n",
            "<class 'pandas.core.series.Series'>\n",
            "-------------------------------\n",
            "row1    4\n",
            "row2    5\n",
            "row3    6\n",
            "Name: col2, dtype: int64\n",
            "-------------------------------\n",
            "0    1\n",
            "1    2\n",
            "2    3\n",
            "dtype: int64\n",
            "-------------------------------\n",
            "col1    1\n",
            "col2    4\n",
            "col3    7\n",
            "Name: row1, dtype: int64\n",
            "-------------------------------\n",
            "col1    2\n",
            "col2    5\n",
            "col3    8\n",
            "Name: row2, dtype: int64\n",
            "-------------------------------\n",
            "1\n",
            "1\n",
            "1\n",
            "1\n",
            "-------------------------------\n"
          ]
        }
      ]
    },
    {
      "cell_type": "code",
      "source": [
        "#getting elements via slicing\n",
        "df = pd.DataFrame({'col1':{'row1':1,'row2':2,'row3':3}, 'col2':{'row1':4, 'row2':5, 'row3':6}, 'col3':{'row1':7, 'row2':8, 'row3':9}})\n",
        "print(df)\n",
        "print('-------------------------------')\n",
        "cols = df[['col1', 'col2']]\n",
        "print(cols)\n",
        "cols = df[['col3', 'col1', 'col2']]\n",
        "print(cols)\n",
        "print('-------------------------------')\n",
        "rows = df.iloc[[0,1]]\n",
        "print(rows)\n",
        "rows = df.loc[['row1','row2']]\n",
        "print(rows)\n",
        "rows = df.loc[['row3','row1','row2']]\n",
        "print(rows)\n",
        "rows = df.iloc[[2,0,1]]\n",
        "print(rows)\n",
        "rows = df.iloc[:2]\n",
        "print(rows)\n",
        "rows = df.iloc[1:3]\n",
        "print(rows)\n",
        "rows = df.iloc[-2:]\n",
        "print(rows)\n",
        "rows = df.iloc[::2]\n",
        "print(rows)\n",
        "rows = df.iloc[1::2]\n",
        "print(rows)\n",
        "rows = df.iloc[:,:2]\n",
        "print(rows)\n",
        "rows = df.iloc[:2,:2]\n",
        "print(rows)\n",
        "print('-------------------------------')\n",
        "rows = df[df['col1'] > 1]\n",
        "print(rows)\n",
        "rows = df[df['col2'] >= 5]\n",
        "print(rows)\n",
        "rows = df[df[['col2', 'col3']] > 5]\n",
        "print(rows)\n",
        "print('-------------------------------')\n",
        "n_rows = df.head(2)\n",
        "print(n_rows)\n",
        "n_rows = df.tail(1)\n",
        "print(n_rows)"
      ],
      "metadata": {
        "colab": {
          "base_uri": "https://localhost:8080/"
        },
        "id": "gyemOzv_RpU-",
        "outputId": "684cd42a-6a5b-4d6d-c9cf-c42bc549dd0e"
      },
      "execution_count": 68,
      "outputs": [
        {
          "output_type": "stream",
          "name": "stdout",
          "text": [
            "      col1  col2  col3\n",
            "row1     1     4     7\n",
            "row2     2     5     8\n",
            "row3     3     6     9\n",
            "-------------------------------\n",
            "      col1  col2\n",
            "row1     1     4\n",
            "row2     2     5\n",
            "row3     3     6\n",
            "      col3  col1  col2\n",
            "row1     7     1     4\n",
            "row2     8     2     5\n",
            "row3     9     3     6\n",
            "-------------------------------\n",
            "      col1  col2  col3\n",
            "row1     1     4     7\n",
            "row2     2     5     8\n",
            "      col1  col2  col3\n",
            "row1     1     4     7\n",
            "row2     2     5     8\n",
            "      col1  col2  col3\n",
            "row3     3     6     9\n",
            "row1     1     4     7\n",
            "row2     2     5     8\n",
            "      col1  col2  col3\n",
            "row3     3     6     9\n",
            "row1     1     4     7\n",
            "row2     2     5     8\n",
            "      col1  col2  col3\n",
            "row1     1     4     7\n",
            "row2     2     5     8\n",
            "      col1  col2  col3\n",
            "row2     2     5     8\n",
            "row3     3     6     9\n",
            "      col1  col2  col3\n",
            "row2     2     5     8\n",
            "row3     3     6     9\n",
            "      col1  col2  col3\n",
            "row1     1     4     7\n",
            "row3     3     6     9\n",
            "      col1  col2  col3\n",
            "row2     2     5     8\n",
            "      col1  col2\n",
            "row1     1     4\n",
            "row2     2     5\n",
            "row3     3     6\n",
            "      col1  col2\n",
            "row1     1     4\n",
            "row2     2     5\n",
            "-------------------------------\n",
            "      col1  col2  col3\n",
            "row2     2     5     8\n",
            "row3     3     6     9\n",
            "      col1  col2  col3\n",
            "row2     2     5     8\n",
            "row3     3     6     9\n",
            "      col1  col2  col3\n",
            "row1   NaN   NaN     7\n",
            "row2   NaN   NaN     8\n",
            "row3   NaN   6.0     9\n",
            "-------------------------------\n",
            "      col1  col2  col3\n",
            "row1     1     4     7\n",
            "row2     2     5     8\n",
            "      col1  col2  col3\n",
            "row3     3     6     9\n"
          ]
        }
      ]
    },
    {
      "cell_type": "code",
      "source": [
        "#getting properties from df\n",
        "df = pd.DataFrame({'col1':{'row1':1,'row2':2,'row3':3}, 'col2':{'row1':4, 'row2':5, 'row3':6}, 'col3':{'row1':7, 'row2':8, 'row3':9}})\n",
        "print(df)\n",
        "print('-------------------------------')\n",
        "count = df.count()\n",
        "print(count)\n",
        "count = df.count(axis=1)\n",
        "print(count)\n",
        "min = df.min()\n",
        "print(min)\n",
        "min = df.min(axis=1)\n",
        "print(min)\n",
        "max = df.max()\n",
        "print(max)\n",
        "max = df.max(axis=1)\n",
        "print(max)\n",
        "describe = df.describe()\n",
        "print(describe)\n",
        "n_most = df.nlargest(2,'col1')\n",
        "print(n_most)\n",
        "n_most = df.nlargest(2,['col3', 'col2'])\n",
        "print(n_most)\n",
        "n_least = df.nsmallest(2,'col3')\n",
        "print(n_least)\n",
        "idx = df.idxmax()\n",
        "print(idx)\n",
        "idx = df.idxmin(axis=1)\n",
        "print(idx)\n",
        "indexs = df.index\n",
        "print(indexs)\n",
        "columns = df.columns\n",
        "print(columns)\n",
        "dtypes = df.dtypes\n",
        "print(dtypes)"
      ],
      "metadata": {
        "colab": {
          "base_uri": "https://localhost:8080/"
        },
        "id": "tbsSR14mZATD",
        "outputId": "def7e0c6-6670-4020-aad0-f08dd84fb31e"
      },
      "execution_count": 69,
      "outputs": [
        {
          "output_type": "stream",
          "name": "stdout",
          "text": [
            "      col1  col2  col3\n",
            "row1     1     4     7\n",
            "row2     2     5     8\n",
            "row3     3     6     9\n",
            "-------------------------------\n",
            "col1    3\n",
            "col2    3\n",
            "col3    3\n",
            "dtype: int64\n",
            "row1    3\n",
            "row2    3\n",
            "row3    3\n",
            "dtype: int64\n",
            "col1    1\n",
            "col2    4\n",
            "col3    7\n",
            "dtype: int64\n",
            "row1    1\n",
            "row2    2\n",
            "row3    3\n",
            "dtype: int64\n",
            "col1    3\n",
            "col2    6\n",
            "col3    9\n",
            "dtype: int64\n",
            "row1    7\n",
            "row2    8\n",
            "row3    9\n",
            "dtype: int64\n",
            "       col1  col2  col3\n",
            "count   3.0   3.0   3.0\n",
            "mean    2.0   5.0   8.0\n",
            "std     1.0   1.0   1.0\n",
            "min     1.0   4.0   7.0\n",
            "25%     1.5   4.5   7.5\n",
            "50%     2.0   5.0   8.0\n",
            "75%     2.5   5.5   8.5\n",
            "max     3.0   6.0   9.0\n",
            "      col1  col2  col3\n",
            "row3     3     6     9\n",
            "row2     2     5     8\n",
            "      col1  col2  col3\n",
            "row3     3     6     9\n",
            "row2     2     5     8\n",
            "      col1  col2  col3\n",
            "row1     1     4     7\n",
            "row2     2     5     8\n",
            "col1    row3\n",
            "col2    row3\n",
            "col3    row3\n",
            "dtype: object\n",
            "row1    col1\n",
            "row2    col1\n",
            "row3    col1\n",
            "dtype: object\n",
            "Index(['row1', 'row2', 'row3'], dtype='object')\n",
            "Index(['col1', 'col2', 'col3'], dtype='object')\n",
            "col1    int64\n",
            "col2    int64\n",
            "col3    int64\n",
            "dtype: object\n"
          ]
        }
      ]
    },
    {
      "cell_type": "code",
      "source": [
        "#histogram example\n",
        "df = pd.DataFrame({'col1':{'row1':1,'row2':1,'row3':3}, 'col2':{'row1':5, 'row2':5, 'row3':6}, 'col3':{'row1':8, 'row2':8, 'row3':8}})\n",
        "hist = df.hist()\n",
        "hist_2 = df.hist(column=['col1','col2'])"
      ],
      "metadata": {
        "colab": {
          "base_uri": "https://localhost:8080/",
          "height": 545
        },
        "id": "QsN0KmHoidHf",
        "outputId": "88d5cac3-195b-4b4a-f6f4-c4b4bd07950f"
      },
      "execution_count": 70,
      "outputs": [
        {
          "output_type": "display_data",
          "data": {
            "text/plain": [
              "<Figure size 432x288 with 4 Axes>"
            ],
            "image/png": "[encoded data removed]"
          },
          "metadata": {
            "needs_background": "light"
          }
        },
        {
          "output_type": "display_data",
          "data": {
            "text/plain": [
              "<Figure size 432x288 with 2 Axes>"
            ],
            "image/png": "[encoded data removed]"
          },
          "metadata": {
            "needs_background": "light"
          }
        }
      ]
    },
    {
      "cell_type": "code",
      "source": [
        "#modifying dataframes\n",
        "df_1 = pd.DataFrame({'col1':{'row1':1,'row2':2,'row3':3}, 'col2':{'row1':4, 'row4':5, 'row3':6}, 'col3':{'row1':7, 'row2':8, 'row3':9}})\n",
        "df_2 = pd.DataFrame({'col1':{'row1':19,'row4':6,'row3':5}, 'col2':{'row1':2, 'row3':1, 'row2':6}, 'col3':{'row3':7, 'row2':8, 'row4':0}})\n",
        "print(df_1)\n",
        "print(df_2)\n",
        "print('-------------------------------')\n",
        "df_1['col4'] = [1,2,3,4]\n",
        "print(df_1)\n",
        "df_1.loc['row5'] = [20,30,40,50]\n",
        "print(df_1)\n",
        "#df_1 = df_1.append(pd.Series([11,21,31,41], index=['col1','col2','col3','col4']), ignore_index=True)\n",
        "#print(df_1)"
      ],
      "metadata": {
        "colab": {
          "base_uri": "https://localhost:8080/"
        },
        "id": "xeT8wXgs4cKy",
        "outputId": "8fbcbb7e-4a19-4f14-adc1-59921d24e827"
      },
      "execution_count": 71,
      "outputs": [
        {
          "output_type": "stream",
          "name": "stdout",
          "text": [
            "      col1  col2  col3\n",
            "row1   1.0   4.0   7.0\n",
            "row2   2.0   NaN   8.0\n",
            "row3   3.0   6.0   9.0\n",
            "row4   NaN   5.0   NaN\n",
            "      col1  col2  col3\n",
            "row1  19.0   2.0   NaN\n",
            "row4   6.0   NaN   0.0\n",
            "row3   5.0   1.0   7.0\n",
            "row2   NaN   6.0   8.0\n",
            "-------------------------------\n",
            "      col1  col2  col3  col4\n",
            "row1   1.0   4.0   7.0     1\n",
            "row2   2.0   NaN   8.0     2\n",
            "row3   3.0   6.0   9.0     3\n",
            "row4   NaN   5.0   NaN     4\n",
            "      col1  col2  col3  col4\n",
            "row1   1.0   4.0   7.0     1\n",
            "row2   2.0   NaN   8.0     2\n",
            "row3   3.0   6.0   9.0     3\n",
            "row4   NaN   5.0   NaN     4\n",
            "row5  20.0  30.0  40.0    50\n"
          ]
        }
      ]
    },
    {
      "cell_type": "code",
      "source": [
        "#combining dfs & removing data\n",
        "df_1 = pd.DataFrame({'col1':{'row1':1,'row2':2,'row3':3}, 'col2':{'row1':4, 'row4':5, 'row3':6}, 'col3':{'row1':7, 'row2':8, 'row3':9}})\n",
        "df_2 = pd.DataFrame({'col1':{'row1':19,'row4':6,'row3':5}, 'col2':{'row1':2, 'row3':1, 'row2':6}, 'col3':{'row3':7, 'row2':8, 'row4':0}})\n",
        "print(df_1)\n",
        "print(df_2)\n",
        "print('-------------------------------')\n",
        "combined = df_1.combine_first(df_2)\n",
        "print(combined)\n",
        "combined = pd.concat([df_1,df_2])\n",
        "print(combined)\n",
        "print(combined.loc['row2'])\n",
        "combined = pd.concat([df_1[:2], df_2[1:3]])\n",
        "print(combined)\n",
        "dropped = df_1.dropna()\n",
        "print(dropped)\n",
        "dropped = df_1.drop(index='row4', columns = 'col3')\n",
        "print(dropped)\n",
        "del df_1['col2']\n",
        "print(df_1)\n",
        "popped = df_1.pop('col1')\n",
        "print(popped)\n",
        "print(df_1)"
      ],
      "metadata": {
        "colab": {
          "base_uri": "https://localhost:8080/"
        },
        "id": "_00An6JfFHAv",
        "outputId": "41baa8b6-452f-45bf-cbb7-19d31365a59f"
      },
      "execution_count": 72,
      "outputs": [
        {
          "output_type": "stream",
          "name": "stdout",
          "text": [
            "      col1  col2  col3\n",
            "row1   1.0   4.0   7.0\n",
            "row2   2.0   NaN   8.0\n",
            "row3   3.0   6.0   9.0\n",
            "row4   NaN   5.0   NaN\n",
            "      col1  col2  col3\n",
            "row1  19.0   2.0   NaN\n",
            "row4   6.0   NaN   0.0\n",
            "row3   5.0   1.0   7.0\n",
            "row2   NaN   6.0   8.0\n",
            "-------------------------------\n",
            "      col1  col2  col3\n",
            "row1   1.0   4.0   7.0\n",
            "row2   2.0   6.0   8.0\n",
            "row3   3.0   6.0   9.0\n",
            "row4   6.0   5.0   0.0\n",
            "      col1  col2  col3\n",
            "row1   1.0   4.0   7.0\n",
            "row2   2.0   NaN   8.0\n",
            "row3   3.0   6.0   9.0\n",
            "row4   NaN   5.0   NaN\n",
            "row1  19.0   2.0   NaN\n",
            "row4   6.0   NaN   0.0\n",
            "row3   5.0   1.0   7.0\n",
            "row2   NaN   6.0   8.0\n",
            "      col1  col2  col3\n",
            "row2   2.0   NaN   8.0\n",
            "row2   NaN   6.0   8.0\n",
            "      col1  col2  col3\n",
            "row1   1.0   4.0   7.0\n",
            "row2   2.0   NaN   8.0\n",
            "row4   6.0   NaN   0.0\n",
            "row3   5.0   1.0   7.0\n",
            "      col1  col2  col3\n",
            "row1   1.0   4.0   7.0\n",
            "row3   3.0   6.0   9.0\n",
            "      col1  col2\n",
            "row1   1.0   4.0\n",
            "row2   2.0   NaN\n",
            "row3   3.0   6.0\n",
            "      col1  col3\n",
            "row1   1.0   7.0\n",
            "row2   2.0   8.0\n",
            "row3   3.0   9.0\n",
            "row4   NaN   NaN\n",
            "row1    1.0\n",
            "row2    2.0\n",
            "row3    3.0\n",
            "row4    NaN\n",
            "Name: col1, dtype: float64\n",
            "      col3\n",
            "row1   7.0\n",
            "row2   8.0\n",
            "row3   9.0\n",
            "row4   NaN\n"
          ]
        }
      ]
    },
    {
      "cell_type": "code",
      "source": [
        "#reassigning and restructing dfs\n",
        "df = pd.DataFrame({'col1':{'row1':1,'row2':2,'row3':3}, 'col2':{'row1':4, 'row4':5, 'row3':6}, 'col3':{'row1':7, 'row2':8, 'row3':9}})\n",
        "print(df)\n",
        "print('-------------------------------')\n",
        "df['col1'] = [2,3,4,5]\n",
        "print(df)\n",
        "df['col1'] = pd.Series({'row1':1, 'row2':3, 'row3':26, 'row4':90})\n",
        "print(df)\n",
        "df.loc['row1'] = [10,11,23]\n",
        "print(df)\n",
        "df.loc['row1'] = pd.Series({'col1':4, 'col2':16, 'col3':75})\n",
        "print(df)\n",
        "df = df.fillna(0)\n",
        "print(df)\n",
        "shuffled = df.reindex(columns=['col3', 'col1', 'col2'])\n",
        "print(shuffled)\n",
        "shuffled = df.reindex(columns=['col3', 'col1', 'col2', 'col4'])\n",
        "print(shuffled)\n",
        "df.columns = ['1','2','3']\n",
        "print(df)\n",
        "shuffled = df.reindex(index=['row3', 'row1', 'row2', 'row0'])\n",
        "print(shuffled)\n",
        "df.index = ['r1', 'r2', 'r3', 'r4']\n",
        "print(df)"
      ],
      "metadata": {
        "colab": {
          "base_uri": "https://localhost:8080/"
        },
        "id": "-3ycUJztJPvu",
        "outputId": "ec162058-71c9-41f2-e7a0-ac37141a56c2"
      },
      "execution_count": 73,
      "outputs": [
        {
          "output_type": "stream",
          "name": "stdout",
          "text": [
            "      col1  col2  col3\n",
            "row1   1.0   4.0   7.0\n",
            "row2   2.0   NaN   8.0\n",
            "row3   3.0   6.0   9.0\n",
            "row4   NaN   5.0   NaN\n",
            "-------------------------------\n",
            "      col1  col2  col3\n",
            "row1     2   4.0   7.0\n",
            "row2     3   NaN   8.0\n",
            "row3     4   6.0   9.0\n",
            "row4     5   5.0   NaN\n",
            "      col1  col2  col3\n",
            "row1     1   4.0   7.0\n",
            "row2     3   NaN   8.0\n",
            "row3    26   6.0   9.0\n",
            "row4    90   5.0   NaN\n",
            "      col1  col2  col3\n",
            "row1    10  11.0  23.0\n",
            "row2     3   NaN   8.0\n",
            "row3    26   6.0   9.0\n",
            "row4    90   5.0   NaN\n",
            "      col1  col2  col3\n",
            "row1     4  16.0  75.0\n",
            "row2     3   NaN   8.0\n",
            "row3    26   6.0   9.0\n",
            "row4    90   5.0   NaN\n",
            "      col1  col2  col3\n",
            "row1     4  16.0  75.0\n",
            "row2     3   0.0   8.0\n",
            "row3    26   6.0   9.0\n",
            "row4    90   5.0   0.0\n",
            "      col3  col1  col2\n",
            "row1  75.0     4  16.0\n",
            "row2   8.0     3   0.0\n",
            "row3   9.0    26   6.0\n",
            "row4   0.0    90   5.0\n",
            "      col3  col1  col2  col4\n",
            "row1  75.0     4  16.0   NaN\n",
            "row2   8.0     3   0.0   NaN\n",
            "row3   9.0    26   6.0   NaN\n",
            "row4   0.0    90   5.0   NaN\n",
            "       1     2     3\n",
            "row1   4  16.0  75.0\n",
            "row2   3   0.0   8.0\n",
            "row3  26   6.0   9.0\n",
            "row4  90   5.0   0.0\n",
            "         1     2     3\n",
            "row3  26.0   6.0   9.0\n",
            "row1   4.0  16.0  75.0\n",
            "row2   3.0   0.0   8.0\n",
            "row0   NaN   NaN   NaN\n",
            "     1     2     3\n",
            "r1   4  16.0  75.0\n",
            "r2   3   0.0   8.0\n",
            "r3  26   6.0   9.0\n",
            "r4  90   5.0   0.0\n"
          ]
        }
      ]
    },
    {
      "cell_type": "code",
      "source": [
        "#df operations\n",
        "df = pd.DataFrame({'col1':{'row1':1,'row2':2,'row3':3}, 'col2':{'row1':4, 'row4':5, 'row3':6}, 'col3':{'row1':7, 'row2':8, 'row3':9}})\n",
        "print(df)\n",
        "print('-------------------------------')\n",
        "result = df + 5\n",
        "print(result)\n",
        "result = df ** 2\n",
        "print(result)\n",
        "result = df.add(5, fill_value=0)\n",
        "print(result)\n",
        "def f(x):\n",
        "  return (2*x) + 5\n",
        "result = df.apply(f)\n",
        "print(result)\n",
        "result = df.transform(np.square)\n",
        "print(result)\n",
        "result = df.transform('square')\n",
        "print(result)\n",
        "result = df.transform(f)\n",
        "print(result)\n",
        "result = df.transform(lambda x: (2*x) + 5)\n",
        "print(result)\n",
        "result = df.transform([np.square, np.log])\n",
        "print(result)\n",
        "result = df.transform({'col1':np.square, 'col2':np.log})\n",
        "print(result)\n",
        "result = df.transpose()\n",
        "print(result)\n",
        "result = df.astype('object')\n",
        "print(result)\n",
        "result = df.astype(np.float16)\n",
        "print(result)\n",
        "result = df.sort_index(axis=0, ascending=False)\n",
        "print(result)\n",
        "result = df.sort_values('col3', axis=0, ascending=False)\n",
        "print(result)\n",
        "result = df.sort_values('row2', axis=1, ascending=False)\n",
        "print(result)"
      ],
      "metadata": {
        "colab": {
          "base_uri": "https://localhost:8080/"
        },
        "id": "875cRJa9W1dF",
        "outputId": "9de16d34-4243-487f-83a7-8acc2a795320"
      },
      "execution_count": 74,
      "outputs": [
        {
          "output_type": "stream",
          "name": "stdout",
          "text": [
            "      col1  col2  col3\n",
            "row1   1.0   4.0   7.0\n",
            "row2   2.0   NaN   8.0\n",
            "row3   3.0   6.0   9.0\n",
            "row4   NaN   5.0   NaN\n",
            "-------------------------------\n",
            "      col1  col2  col3\n",
            "row1   6.0   9.0  12.0\n",
            "row2   7.0   NaN  13.0\n",
            "row3   8.0  11.0  14.0\n",
            "row4   NaN  10.0   NaN\n",
            "      col1  col2  col3\n",
            "row1   1.0  16.0  49.0\n",
            "row2   4.0   NaN  64.0\n",
            "row3   9.0  36.0  81.0\n",
            "row4   NaN  25.0   NaN\n",
            "      col1  col2  col3\n",
            "row1   6.0   9.0  12.0\n",
            "row2   7.0   5.0  13.0\n",
            "row3   8.0  11.0  14.0\n",
            "row4   5.0  10.0   5.0\n",
            "      col1  col2  col3\n",
            "row1   7.0  13.0  19.0\n",
            "row2   9.0   NaN  21.0\n",
            "row3  11.0  17.0  23.0\n",
            "row4   NaN  15.0   NaN\n",
            "      col1  col2  col3\n",
            "row1   1.0  16.0  49.0\n",
            "row2   4.0   NaN  64.0\n",
            "row3   9.0  36.0  81.0\n",
            "row4   NaN  25.0   NaN\n",
            "      col1  col2  col3\n",
            "row1   1.0  16.0  49.0\n",
            "row2   4.0   NaN  64.0\n",
            "row3   9.0  36.0  81.0\n",
            "row4   NaN  25.0   NaN\n",
            "      col1  col2  col3\n",
            "row1   7.0  13.0  19.0\n",
            "row2   9.0   NaN  21.0\n",
            "row3  11.0  17.0  23.0\n",
            "row4   NaN  15.0   NaN\n",
            "      col1  col2  col3\n",
            "row1   7.0  13.0  19.0\n",
            "row2   9.0   NaN  21.0\n",
            "row3  11.0  17.0  23.0\n",
            "row4   NaN  15.0   NaN\n",
            "       col1             col2             col3          \n",
            "     square       log square       log square       log\n",
            "row1    1.0  0.000000   16.0  1.386294   49.0  1.945910\n",
            "row2    4.0  0.693147    NaN       NaN   64.0  2.079442\n",
            "row3    9.0  1.098612   36.0  1.791759   81.0  2.197225\n",
            "row4    NaN       NaN   25.0  1.609438    NaN       NaN\n",
            "      col1      col2\n",
            "row1   1.0  1.386294\n",
            "row2   4.0       NaN\n",
            "row3   9.0  1.791759\n",
            "row4   NaN  1.609438\n",
            "      row1  row2  row3  row4\n",
            "col1   1.0   2.0   3.0   NaN\n",
            "col2   4.0   NaN   6.0   5.0\n",
            "col3   7.0   8.0   9.0   NaN\n",
            "     col1 col2 col3\n",
            "row1  1.0  4.0  7.0\n",
            "row2  2.0  NaN  8.0\n",
            "row3  3.0  6.0  9.0\n",
            "row4  NaN  5.0  NaN\n",
            "      col1  col2  col3\n",
            "row1   1.0   4.0   7.0\n",
            "row2   2.0   NaN   8.0\n",
            "row3   3.0   6.0   9.0\n",
            "row4   NaN   5.0   NaN\n",
            "      col1  col2  col3\n",
            "row4   NaN   5.0   NaN\n",
            "row3   3.0   6.0   9.0\n",
            "row2   2.0   NaN   8.0\n",
            "row1   1.0   4.0   7.0\n",
            "      col1  col2  col3\n",
            "row3   3.0   6.0   9.0\n",
            "row2   2.0   NaN   8.0\n",
            "row1   1.0   4.0   7.0\n",
            "row4   NaN   5.0   NaN\n",
            "      col3  col1  col2\n",
            "row1   7.0   1.0   4.0\n",
            "row2   8.0   2.0   NaN\n",
            "row3   9.0   3.0   6.0\n",
            "row4   NaN   NaN   5.0\n"
          ]
        }
      ]
    },
    {
      "cell_type": "code",
      "source": [
        "#df commparisons and iterations\n",
        "df_1 = pd.DataFrame({'col1':{'row1':1,'row2':2,'row3':3}, 'col2':{'row1':4, 'row2':5, 'row3':6}})\n",
        "df_2 = pd.DataFrame({'col1':{'row1':19,'row2':6,'row3':5}, 'col2':{'row1':2, 'row2':1, 'row3':6}})\n",
        "print(df_1)\n",
        "print(df_2)\n",
        "print('-------------------------------')\n",
        "gt = df_1 > df_2\n",
        "print(gt)\n",
        "gt = df_1.gt(df_2)\n",
        "print(gt)\n",
        "equals = df_1.equals(df_2)\n",
        "print(equals)\n",
        "gt = df_1['col1'] > df_2['col1']\n",
        "print(gt)\n",
        "gt = df_1['col2'].gt(df_2['col2'])\n",
        "print(gt)\n",
        "gt = df_1.loc['row1'].gt(df_2.loc['row2'])\n",
        "print(gt)\n",
        "for col in df_1:\n",
        "  print(col)\n",
        "for row in df_1.index:\n",
        "  print(row)\n",
        "for col_name, row_value in df_1.items():\n",
        "  print(col_name)\n",
        "  print(row_value)\n",
        "  print('---------')\n",
        "for row_name, col_value in df_1.iterrows():\n",
        "  print(row_name)\n",
        "  print(col_value)\n",
        "  print('---------')\n",
        "gt = df_1.loc['row1'][0] > df_2.loc['row2'][0]\n",
        "print(gt)"
      ],
      "metadata": {
        "colab": {
          "base_uri": "https://localhost:8080/"
        },
        "id": "GtsxrTgGNN56",
        "outputId": "3a7d751a-2885-48ee-a8a8-deaebd12d33d"
      },
      "execution_count": 75,
      "outputs": [
        {
          "output_type": "stream",
          "name": "stdout",
          "text": [
            "      col1  col2\n",
            "row1     1     4\n",
            "row2     2     5\n",
            "row3     3     6\n",
            "      col1  col2\n",
            "row1    19     2\n",
            "row2     6     1\n",
            "row3     5     6\n",
            "-------------------------------\n",
            "       col1   col2\n",
            "row1  False   True\n",
            "row2  False   True\n",
            "row3  False  False\n",
            "       col1   col2\n",
            "row1  False   True\n",
            "row2  False   True\n",
            "row3  False  False\n",
            "False\n",
            "row1    False\n",
            "row2    False\n",
            "row3    False\n",
            "Name: col1, dtype: bool\n",
            "row1     True\n",
            "row2     True\n",
            "row3    False\n",
            "Name: col2, dtype: bool\n",
            "col1    False\n",
            "col2     True\n",
            "dtype: bool\n",
            "col1\n",
            "col2\n",
            "row1\n",
            "row2\n",
            "row3\n",
            "col1\n",
            "row1    1\n",
            "row2    2\n",
            "row3    3\n",
            "Name: col1, dtype: int64\n",
            "---------\n",
            "col2\n",
            "row1    4\n",
            "row2    5\n",
            "row3    6\n",
            "Name: col2, dtype: int64\n",
            "---------\n",
            "row1\n",
            "col1    1\n",
            "col2    4\n",
            "Name: row1, dtype: int64\n",
            "---------\n",
            "row2\n",
            "col1    2\n",
            "col2    5\n",
            "Name: row2, dtype: int64\n",
            "---------\n",
            "row3\n",
            "col1    3\n",
            "col2    6\n",
            "Name: row3, dtype: int64\n",
            "---------\n",
            "False\n"
          ]
        }
      ]
    },
    {
      "cell_type": "code",
      "source": [
        "#csv\n",
        "from google.colab import files\n",
        "import io\n",
        "uploaded = files.upload()\n",
        "uploaded = uploaded['pandasPracticeCSV.csv'].decode('utf-8')\n",
        "df = pd.read_csv(io.StringIO(uploaded))\n",
        "print(df)"
      ],
      "metadata": {
        "colab": {
          "base_uri": "https://localhost:8080/",
          "height": 181
        },
        "id": "np6zVxL8VfwY",
        "outputId": "13255186-0c72-4884-c0b2-dce8e028636a"
      },
      "execution_count": 79,
      "outputs": [
        {
          "output_type": "display_data",
          "data": {
            "text/plain": [
              "<IPython.core.display.HTML object>"
            ],
            "text/html": [
              "\n",
              "     <input type=\"file\" id=\"files-2ff19b32-729e-4695-8048-da3d76eb7bf5\" name=\"files[]\" multiple disabled\n",
              "        style=\"border:none\" />\n",
              "     <output id=\"result-2ff19b32-729e-4695-8048-da3d76eb7bf5\">\n",
              "      Upload widget is only available when the cell has been executed in the\n",
              "      current browser session. Please rerun this cell to enable.\n",
              "      </output>\n",
              "      <script>// Copyright 2017 Google LLC\n",
              "//\n",
              "// Licensed under the Apache License, Version 2.0 (the \"License\");\n",
              "// you may not use this file except in compliance with the License.\n",
              "// You may obtain a copy of the License at\n",
              "//\n",
              "//      http://www.apache.org/licenses/LICENSE-2.0\n",
              "//\n",
              "// Unless required by applicable law or agreed to in writing, software\n",
              "// distributed under the License is distributed on an \"AS IS\" BASIS,\n",
              "// WITHOUT WARRANTIES OR CONDITIONS OF ANY KIND, either express or implied.\n",
              "// See the License for the specific language governing permissions and\n",
              "// limitations under the License.\n",
              "\n",
              "/**\n",
              " * @fileoverview Helpers for google.colab Python module.\n",
              " */\n",
              "(function(scope) {\n",
              "function span(text, styleAttributes = {}) {\n",
              "  const element = document.createElement('span');\n",
              "  element.textContent = text;\n",
              "  for (const key of Object.keys(styleAttributes)) {\n",
              "    element.style[key] = styleAttributes[key];\n",
              "  }\n",
              "  return element;\n",
              "}\n",
              "\n",
              "// Max number of bytes which will be uploaded at a time.\n",
              "const MAX_PAYLOAD_SIZE = 100 * 1024;\n",
              "\n",
              "function _uploadFiles(inputId, outputId) {\n",
              "  const steps = uploadFilesStep(inputId, outputId);\n",
              "  const outputElement = document.getElementById(outputId);\n",
              "  // Cache steps on the outputElement to make it available for the next call\n",
              "  // to uploadFilesContinue from Python.\n",
              "  outputElement.steps = steps;\n",
              "\n",
              "  return _uploadFilesContinue(outputId);\n",
              "}\n",
              "\n",
              "// This is roughly an async generator (not supported in the browser yet),\n",
              "// where there are multiple asynchronous steps and the Python side is going\n",
              "// to poll for completion of each step.\n",
              "// This uses a Promise to block the python side on completion of each step,\n",
              "// then passes the result of the previous step as the input to the next step.\n",
              "function _uploadFilesContinue(outputId) {\n",
              "  const outputElement = document.getElementById(outputId);\n",
              "  const steps = outputElement.steps;\n",
              "\n",
              "  const next = steps.next(outputElement.lastPromiseValue);\n",
              "  return Promise.resolve(next.value.promise).then((value) => {\n",
              "    // Cache the last promise value to make it available to the next\n",
              "    // step of the generator.\n",
              "    outputElement.lastPromiseValue = value;\n",
              "    return next.value.response;\n",
              "  });\n",
              "}\n",
              "\n",
              "/**\n",
              " * Generator function which is called between each async step of the upload\n",
              " * process.\n",
              " * @param {string} inputId Element ID of the input file picker element.\n",
              " * @param {string} outputId Element ID of the output display.\n",
              " * @return {!Iterable<!Object>} Iterable of next steps.\n",
              " */\n",
              "function* uploadFilesStep(inputId, outputId) {\n",
              "  const inputElement = document.getElementById(inputId);\n",
              "  inputElement.disabled = false;\n",
              "\n",
              "  const outputElement = document.getElementById(outputId);\n",
              "  outputElement.innerHTML = '';\n",
              "\n",
              "  const pickedPromise = new Promise((resolve) => {\n",
              "    inputElement.addEventListener('change', (e) => {\n",
              "      resolve(e.target.files);\n",
              "    });\n",
              "  });\n",
              "\n",
              "  const cancel = document.createElement('button');\n",
              "  inputElement.parentElement.appendChild(cancel);\n",
              "  cancel.textContent = 'Cancel upload';\n",
              "  const cancelPromise = new Promise((resolve) => {\n",
              "    cancel.onclick = () => {\n",
              "      resolve(null);\n",
              "    };\n",
              "  });\n",
              "\n",
              "  // Wait for the user to pick the files.\n",
              "  const files = yield {\n",
              "    promise: Promise.race([pickedPromise, cancelPromise]),\n",
              "    response: {\n",
              "      action: 'starting',\n",
              "    }\n",
              "  };\n",
              "\n",
              "  cancel.remove();\n",
              "\n",
              "  // Disable the input element since further picks are not allowed.\n",
              "  inputElement.disabled = true;\n",
              "\n",
              "  if (!files) {\n",
              "    return {\n",
              "      response: {\n",
              "        action: 'complete',\n",
              "      }\n",
              "    };\n",
              "  }\n",
              "\n",
              "  for (const file of files) {\n",
              "    const li = document.createElement('li');\n",
              "    li.append(span(file.name, {fontWeight: 'bold'}));\n",
              "    li.append(span(\n",
              "        `(${file.type || 'n/a'}) - ${file.size} bytes, ` +\n",
              "        `last modified: ${\n",
              "            file.lastModifiedDate ? file.lastModifiedDate.toLocaleDateString() :\n",
              "                                    'n/a'} - `));\n",
              "    const percent = span('0% done');\n",
              "    li.appendChild(percent);\n",
              "\n",
              "    outputElement.appendChild(li);\n",
              "\n",
              "    const fileDataPromise = new Promise((resolve) => {\n",
              "      const reader = new FileReader();\n",
              "      reader.onload = (e) => {\n",
              "        resolve(e.target.result);\n",
              "      };\n",
              "      reader.readAsArrayBuffer(file);\n",
              "    });\n",
              "    // Wait for the data to be ready.\n",
              "    let fileData = yield {\n",
              "      promise: fileDataPromise,\n",
              "      response: {\n",
              "        action: 'continue',\n",
              "      }\n",
              "    };\n",
              "\n",
              "    // Use a chunked sending to avoid message size limits. See b/62115660.\n",
              "    let position = 0;\n",
              "    do {\n",
              "      const length = Math.min(fileData.byteLength - position, MAX_PAYLOAD_SIZE);\n",
              "      const chunk = new Uint8Array(fileData, position, length);\n",
              "      position += length;\n",
              "\n",
              "      const base64 = btoa(String.fromCharCode.apply(null, chunk));\n",
              "      yield {\n",
              "        response: {\n",
              "          action: 'append',\n",
              "          file: file.name,\n",
              "          data: base64,\n",
              "        },\n",
              "      };\n",
              "\n",
              "      let percentDone = fileData.byteLength === 0 ?\n",
              "          100 :\n",
              "          Math.round((position / fileData.byteLength) * 100);\n",
              "      percent.textContent = `${percentDone}% done`;\n",
              "\n",
              "    } while (position < fileData.byteLength);\n",
              "  }\n",
              "\n",
              "  // All done.\n",
              "  yield {\n",
              "    response: {\n",
              "      action: 'complete',\n",
              "    }\n",
              "  };\n",
              "}\n",
              "\n",
              "scope.google = scope.google || {};\n",
              "scope.google.colab = scope.google.colab || {};\n",
              "scope.google.colab._files = {\n",
              "  _uploadFiles,\n",
              "  _uploadFilesContinue,\n",
              "};\n",
              "})(self);\n",
              "</script> "
            ]
          },
          "metadata": {}
        },
        {
          "output_type": "stream",
          "name": "stdout",
          "text": [
            "Saving pandasPracticeCSV.csv to pandasPracticeCSV (1).csv\n",
            "   col1  col2  col3\n",
            "0     1     2     3\n",
            "1     4     5     6\n",
            "2     7     8     9\n",
            "3    10    11    12\n",
            "4    13    14    15\n"
          ]
        }
      ]
    },
    {
      "cell_type": "code",
      "source": [
        "print(df)"
      ],
      "metadata": {
        "colab": {
          "base_uri": "https://localhost:8080/"
        },
        "id": "RUWF8m29q0oY",
        "outputId": "d6d1ea60-6eea-4940-cedd-d430305ecd1e"
      },
      "execution_count": 80,
      "outputs": [
        {
          "output_type": "stream",
          "name": "stdout",
          "text": [
            "   col1  col2  col3\n",
            "0     1     2     3\n",
            "1     4     5     6\n",
            "2     7     8     9\n",
            "3    10    11    12\n",
            "4    13    14    15\n"
          ]
        }
      ]
    }
  ]
}