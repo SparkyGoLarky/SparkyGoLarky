{
  "nbformat": 4,
  "nbformat_minor": 0,
  "metadata": {
    "colab": {
      "provenance": [],
      "authorship_tag": "ABX9TyPAfAF54XT4sTGKFJjFgBW0",
      "include_colab_link": true
    },
    "kernelspec": {
      "name": "python3",
      "display_name": "Python 3"
    },
    "language_info": {
      "name": "python"
    }
  },
  "cells": [
    {
      "cell_type": "markdown",
      "metadata": {
        "id": "view-in-github",
        "colab_type": "text"
      },
      "source": [
        "<a href=\"https://colab.research.google.com/github/SparkyGoLarky/SparkyGoLarky/blob/main/Python_SQLite_Table_Tutorial.ipynb\" target=\"_parent\"><img src=\"https://colab.research.google.com/assets/colab-badge.svg\" alt=\"Open In Colab\"/></a>"
      ]
    },
    {
      "cell_type": "code",
      "execution_count": 1,
      "metadata": {
        "id": "_y2BwzJL5UQ7"
      },
      "outputs": [],
      "source": [
        "import sqlite3"
      ]
    },
    {
      "cell_type": "code",
      "source": [
        "connection = sqlite3.connect(\"pets.db\")"
      ],
      "metadata": {
        "id": "VFegClZuqM0A"
      },
      "execution_count": 2,
      "outputs": []
    },
    {
      "cell_type": "code",
      "source": [
        "connection"
      ],
      "metadata": {
        "colab": {
          "base_uri": "https://localhost:8080/"
        },
        "id": "OkMYOHEfqRUN",
        "outputId": "f8bc44da-3d8e-4f07-a7e6-65e3c23e7446"
      },
      "execution_count": 3,
      "outputs": [
        {
          "output_type": "execute_result",
          "data": {
            "text/plain": [
              "<sqlite3.Connection at 0x7f1b0c260210>"
            ]
          },
          "metadata": {},
          "execution_count": 3
        }
      ]
    },
    {
      "cell_type": "code",
      "source": [
        "cursor = connection.cursor()"
      ],
      "metadata": {
        "id": "xQ6X7KFvqXw5"
      },
      "execution_count": 4,
      "outputs": []
    },
    {
      "cell_type": "code",
      "source": [
        "cursor"
      ],
      "metadata": {
        "colab": {
          "base_uri": "https://localhost:8080/"
        },
        "id": "XLdiKfyOqoKQ",
        "outputId": "ab058619-7744-4b2c-d10f-abfb20131568"
      },
      "execution_count": 5,
      "outputs": [
        {
          "output_type": "execute_result",
          "data": {
            "text/plain": [
              "<sqlite3.Cursor at 0x7f1b0c1aa110>"
            ]
          },
          "metadata": {},
          "execution_count": 5
        }
      ]
    },
    {
      "cell_type": "code",
      "source": [
        "query = ''' CREATE TABLE IF NOT EXISTS Pet (id INTEGER, name VARCHAR(20), gender VARCHAR(1), dob DATE);'''\n",
        "cursor.execute(query)"
      ],
      "metadata": {
        "colab": {
          "base_uri": "https://localhost:8080/"
        },
        "id": "itFpgMluqsFC",
        "outputId": "e6a3f64d-da0f-45dc-9f22-3b26ca2833b1"
      },
      "execution_count": 6,
      "outputs": [
        {
          "output_type": "execute_result",
          "data": {
            "text/plain": [
              "<sqlite3.Cursor at 0x7f1b0c1aa110>"
            ]
          },
          "metadata": {},
          "execution_count": 6
        }
      ]
    }
  ]
}