{
  "nbformat": 4,
  "nbformat_minor": 0,
  "metadata": {
    "colab": {
      "provenance": [],
      "authorship_tag": "ABX9TyPRC4muaFqKBJ6VtGr49s0u",
      "include_colab_link": true
    },
    "kernelspec": {
      "name": "python3",
      "display_name": "Python 3"
    },
    "language_info": {
      "name": "python"
    }
  },
  "cells": [
    {
      "cell_type": "markdown",
      "metadata": {
        "id": "view-in-github",
        "colab_type": "text"
      },
      "source": [
        "<a href=\"https://colab.research.google.com/github/SparkyGoLarky/SparkyGoLarky/blob/main/Python_SQLite_Table_Tutorial.ipynb\" target=\"_parent\"><img src=\"https://colab.research.google.com/assets/colab-badge.svg\" alt=\"Open In Colab\"/></a>"
      ]
    },
    {
      "cell_type": "code",
      "execution_count": 1,
      "metadata": {
        "id": "_y2BwzJL5UQ7"
      },
      "outputs": [],
      "source": [
        "import sqlite3"
      ]
    },
    {
      "cell_type": "code",
      "source": [
        "connection = sqlite3.connect(\"pets.db\")"
      ],
      "metadata": {
        "id": "VFegClZuqM0A"
      },
      "execution_count": 2,
      "outputs": []
    },
    {
      "cell_type": "code",
      "source": [
        "connection"
      ],
      "metadata": {
        "colab": {
          "base_uri": "https://localhost:8080/"
        },
        "id": "OkMYOHEfqRUN",
        "outputId": "63c50607-ca5b-471c-8bc2-89a5c88d4691"
      },
      "execution_count": 3,
      "outputs": [
        {
          "output_type": "execute_result",
          "data": {
            "text/plain": [
              "<sqlite3.Connection at 0x7fc0f4929120>"
            ]
          },
          "metadata": {},
          "execution_count": 3
        }
      ]
    },
    {
      "cell_type": "code",
      "source": [
        "cursor = connection.cursor()"
      ],
      "metadata": {
        "id": "xQ6X7KFvqXw5"
      },
      "execution_count": 4,
      "outputs": []
    },
    {
      "cell_type": "code",
      "source": [
        "cursor"
      ],
      "metadata": {
        "colab": {
          "base_uri": "https://localhost:8080/"
        },
        "id": "XLdiKfyOqoKQ",
        "outputId": "75fa39d1-2304-47f8-a302-0fa56b0e3b0d"
      },
      "execution_count": 5,
      "outputs": [
        {
          "output_type": "execute_result",
          "data": {
            "text/plain": [
              "<sqlite3.Cursor at 0x7fc0f7b829d0>"
            ]
          },
          "metadata": {},
          "execution_count": 5
        }
      ]
    },
    {
      "cell_type": "code",
      "source": [
        "query = ''' CREATE TABLE IF NOT EXISTS Pet (id INTEGER, name VARCHAR(20), gender VARCHAR(1), dob DATE, ownerID INTEGER);'''\n",
        "cursor.execute(query)"
      ],
      "metadata": {
        "colab": {
          "base_uri": "https://localhost:8080/"
        },
        "id": "itFpgMluqsFC",
        "outputId": "0d47ebe4-6373-4b02-f12b-941fe54f1d0c"
      },
      "execution_count": 6,
      "outputs": [
        {
          "output_type": "execute_result",
          "data": {
            "text/plain": [
              "<sqlite3.Cursor at 0x7fc0f7b829d0>"
            ]
          },
          "metadata": {},
          "execution_count": 6
        }
      ]
    },
    {
      "cell_type": "code",
      "source": [
        "query = ''' INSERT INTO Pet (id, name, ownerID) values(1, \"Pudding\", 1); '''\n",
        "cursor.execute(query)"
      ],
      "metadata": {
        "colab": {
          "base_uri": "https://localhost:8080/"
        },
        "id": "lyy-vqQytr4_",
        "outputId": "4ab90ccc-50fd-4397-fc5a-7f12b53f5550"
      },
      "execution_count": 7,
      "outputs": [
        {
          "output_type": "execute_result",
          "data": {
            "text/plain": [
              "<sqlite3.Cursor at 0x7fc0f7b829d0>"
            ]
          },
          "metadata": {},
          "execution_count": 7
        }
      ]
    },
    {
      "cell_type": "code",
      "source": [
        "connection.commit()"
      ],
      "metadata": {
        "id": "bc6p-Fi2ubHW"
      },
      "execution_count": 8,
      "outputs": []
    },
    {
      "cell_type": "code",
      "source": [
        "query = ''' SELECT * from Pet '''"
      ],
      "metadata": {
        "id": "u1-0VPizuiK_"
      },
      "execution_count": 9,
      "outputs": []
    },
    {
      "cell_type": "code",
      "source": [
        "cursor.execute(query)"
      ],
      "metadata": {
        "colab": {
          "base_uri": "https://localhost:8080/"
        },
        "id": "2KUxhbp_vtrb",
        "outputId": "8faa63dc-4b15-4a5d-8f2e-31338f26e0bf"
      },
      "execution_count": 10,
      "outputs": [
        {
          "output_type": "execute_result",
          "data": {
            "text/plain": [
              "<sqlite3.Cursor at 0x7fc0f7b829d0>"
            ]
          },
          "metadata": {},
          "execution_count": 10
        }
      ]
    },
    {
      "cell_type": "code",
      "source": [
        "result = cursor.fetchall()"
      ],
      "metadata": {
        "id": "ujwer55Hv06K"
      },
      "execution_count": 11,
      "outputs": []
    },
    {
      "cell_type": "code",
      "source": [
        "result"
      ],
      "metadata": {
        "colab": {
          "base_uri": "https://localhost:8080/"
        },
        "id": "Mw5wXW0JwGNQ",
        "outputId": "df34a437-8647-4f59-b2cd-8c1af2138513"
      },
      "execution_count": 12,
      "outputs": [
        {
          "output_type": "execute_result",
          "data": {
            "text/plain": [
              "[(1, 'Pudding', None, None, 1)]"
            ]
          },
          "metadata": {},
          "execution_count": 12
        }
      ]
    },
    {
      "cell_type": "code",
      "source": [
        "query = ''' INSERT INTO Pet (id, ownerID) values(2, 1); '''\n",
        "cursor.execute(query)"
      ],
      "metadata": {
        "colab": {
          "base_uri": "https://localhost:8080/"
        },
        "id": "0HCyycDJxTBz",
        "outputId": "c77013fc-2b0d-40f1-b370-b2d69b0e0b7b"
      },
      "execution_count": 13,
      "outputs": [
        {
          "output_type": "execute_result",
          "data": {
            "text/plain": [
              "<sqlite3.Cursor at 0x7fc0f7b829d0>"
            ]
          },
          "metadata": {},
          "execution_count": 13
        }
      ]
    },
    {
      "cell_type": "code",
      "source": [
        "query = ''' INSERT INTO Pet (id, name, gender, ownerID) values(3, \"Luna\", \"f\", 1); '''\n",
        "cursor.execute(query)"
      ],
      "metadata": {
        "colab": {
          "base_uri": "https://localhost:8080/"
        },
        "id": "LxMu0ZfoytJa",
        "outputId": "1b69c328-6fa3-4775-b734-775d81867166"
      },
      "execution_count": 14,
      "outputs": [
        {
          "output_type": "execute_result",
          "data": {
            "text/plain": [
              "<sqlite3.Cursor at 0x7fc0f7b829d0>"
            ]
          },
          "metadata": {},
          "execution_count": 14
        }
      ]
    },
    {
      "cell_type": "code",
      "source": [
        "select_all_pets_query = ''' SELECT * from Pet '''"
      ],
      "metadata": {
        "id": "fBJS1cP0yM7o"
      },
      "execution_count": 15,
      "outputs": []
    },
    {
      "cell_type": "code",
      "source": [
        "cursor.execute(select_all_pets_query)\n",
        "result = cursor.fetchall()\n",
        "result"
      ],
      "metadata": {
        "colab": {
          "base_uri": "https://localhost:8080/"
        },
        "id": "eRHSLgA5yZ8i",
        "outputId": "546b67ee-c34f-48ea-d021-a3c27aab9117"
      },
      "execution_count": 16,
      "outputs": [
        {
          "output_type": "execute_result",
          "data": {
            "text/plain": [
              "[(1, 'Pudding', None, None, 1),\n",
              " (2, None, None, None, 1),\n",
              " (3, 'Luna', 'f', None, 1)]"
            ]
          },
          "metadata": {},
          "execution_count": 16
        }
      ]
    },
    {
      "cell_type": "code",
      "source": [
        "query = ''' CREATE TABLE IF NOT EXISTS Owner \n",
        "            (id INTEGER, \n",
        "            firstName VARCHAR(20), \n",
        "            lastName VARCHAR(20), \n",
        "            address VARCHAR(20), \n",
        "            city VARCHAR(20), \n",
        "            country VARCHAR(20), \n",
        "            postCode VARCHAR(10)\n",
        "          ); '''\n",
        "cursor.execute(query)\n",
        "\n",
        "query = ''' INSERT INTO Owner \n",
        "            (id, firstName, lastName)\n",
        "            values(1, \"Scooby\", \"Doo\"); '''\n",
        "cursor.execute(query)"
      ],
      "metadata": {
        "colab": {
          "base_uri": "https://localhost:8080/"
        },
        "id": "0qevB4MPzhJK",
        "outputId": "5ec7f0da-c6de-433b-eb8b-988f4e8f706a"
      },
      "execution_count": 17,
      "outputs": [
        {
          "output_type": "execute_result",
          "data": {
            "text/plain": [
              "<sqlite3.Cursor at 0x7fc0f7b829d0>"
            ]
          },
          "metadata": {},
          "execution_count": 17
        }
      ]
    },
    {
      "cell_type": "code",
      "source": [
        "query = ''' INSERT INTO Owner\n",
        "            (id, firstName, lastName, city)\n",
        "            values(2, \"Scooby\", \"Doo\", \"Tokyo\"); '''\n",
        "cursor.execute(query)"
      ],
      "metadata": {
        "colab": {
          "base_uri": "https://localhost:8080/"
        },
        "id": "kiJCZK639vte",
        "outputId": "5cf651f7-f891-4068-ac46-a9470fe31430"
      },
      "execution_count": 21,
      "outputs": [
        {
          "output_type": "execute_result",
          "data": {
            "text/plain": [
              "<sqlite3.Cursor at 0x7fc0f7b829d0>"
            ]
          },
          "metadata": {},
          "execution_count": 21
        }
      ]
    },
    {
      "cell_type": "code",
      "source": [
        "query = ''' INSERT INTO Owner\n",
        "            (id, firstName, lastName, city)\n",
        "            values(3, \"Rick\", \"Sanchez\", \"Rogerville\"); '''\n",
        "cursor.execute(query)"
      ],
      "metadata": {
        "colab": {
          "base_uri": "https://localhost:8080/"
        },
        "id": "Pb7Nqf4E-3Ka",
        "outputId": "48a61647-b548-4a4e-e34f-0679ac54e374"
      },
      "execution_count": 24,
      "outputs": [
        {
          "output_type": "execute_result",
          "data": {
            "text/plain": [
              "<sqlite3.Cursor at 0x7fc0f7b829d0>"
            ]
          },
          "metadata": {},
          "execution_count": 24
        }
      ]
    },
    {
      "cell_type": "code",
      "source": [
        "query = ''' SELECT * from Owner '''\n",
        "cursor.execute(query)\n",
        "result = cursor.fetchall()\n",
        "result"
      ],
      "metadata": {
        "colab": {
          "base_uri": "https://localhost:8080/"
        },
        "id": "zoqQkI-i1fnn",
        "outputId": "b8f8aed8-c595-4c6d-b8cd-159efae94b0e"
      },
      "execution_count": 25,
      "outputs": [
        {
          "output_type": "execute_result",
          "data": {
            "text/plain": [
              "[(1, 'Scooby', 'Doo', None, None, None, None),\n",
              " (2, 'Scooby', 'Doo', None, 'Tokyo', None, None),\n",
              " (3, 'Rick', 'Sanchez', None, 'Rogerville', None, None)]"
            ]
          },
          "metadata": {},
          "execution_count": 25
        }
      ]
    },
    {
      "cell_type": "code",
      "source": [
        "query = ''' SELECT * from Owner WHERE firstName = \"Scooby\"; '''\n",
        "cursor.execute(query)\n",
        "result = cursor.fetchall()\n",
        "result"
      ],
      "metadata": {
        "colab": {
          "base_uri": "https://localhost:8080/"
        },
        "id": "P8tqzrhl-Ur4",
        "outputId": "7f7b286d-c086-4cb2-efb1-2f82558efe31"
      },
      "execution_count": 26,
      "outputs": [
        {
          "output_type": "execute_result",
          "data": {
            "text/plain": [
              "[(1, 'Scooby', 'Doo', None, None, None, None),\n",
              " (2, 'Scooby', 'Doo', None, 'Tokyo', None, None)]"
            ]
          },
          "metadata": {},
          "execution_count": 26
        }
      ]
    },
    {
      "cell_type": "code",
      "source": [
        "query = ''' SELECT * from Pet WHERE name = \"Pudding\"; '''\n",
        "cursor.execute(query)\n",
        "result = cursor.fetchall()\n",
        "result"
      ],
      "metadata": {
        "colab": {
          "base_uri": "https://localhost:8080/"
        },
        "id": "OG7o4YdC8_An",
        "outputId": "2d85bd6a-c980-42bf-aadf-bdb942747935"
      },
      "execution_count": 19,
      "outputs": [
        {
          "output_type": "execute_result",
          "data": {
            "text/plain": [
              "[(1, 'Pudding', None, None, 1)]"
            ]
          },
          "metadata": {},
          "execution_count": 19
        }
      ]
    },
    {
      "cell_type": "code",
      "source": [
        "query = ''' SELECT * from Pet WHERE id = 2; '''\n",
        "cursor.execute(query)\n",
        "result = cursor.fetchall()\n",
        "result"
      ],
      "metadata": {
        "colab": {
          "base_uri": "https://localhost:8080/"
        },
        "id": "8McV1EO39ZqN",
        "outputId": "ffdf90d0-d31a-47b6-84c4-b51fc44a61e5"
      },
      "execution_count": 20,
      "outputs": [
        {
          "output_type": "execute_result",
          "data": {
            "text/plain": [
              "[(2, None, None, None, 1)]"
            ]
          },
          "metadata": {},
          "execution_count": 20
        }
      ]
    }
  ]
}